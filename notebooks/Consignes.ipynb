{
 "cells": [
  {
   "cell_type": "markdown",
   "metadata": {},
   "source": [
    "**Projet de** : Georget Kevin & Singier Lucas\n",
    "<img src=\"logo.jpg\" style=\"width: 500px;\" />\n"
   ]
  },
  {
   "cell_type": "markdown",
   "metadata": {},
   "source": [
    "## Récuperer les données"
   ]
  },
  {
   "cell_type": "markdown",
   "metadata": {},
   "source": [
    "# Imports"
   ]
  },
  {
   "cell_type": "code",
   "execution_count": 1000,
   "metadata": {},
   "outputs": [],
   "source": [
    "import pandas as pd\n",
    "import numpy as np\n",
    "import seaborn as sns\n",
    "from sklearn.impute import KNNImputer\n",
    "from sklearn.preprocessing import StandardScaler, MinMaxScaler, RobustScaler\n",
    "from sklearn.decomposition import PCA\n",
    "from sklearn.feature_selection import SelectFromModel\n",
    "\n",
    "from sklearn.model_selection import train_test_split\n",
    "from sklearn.metrics import confusion_matrix, accuracy_score, f1_score, classification_report\n",
    "\n",
    "from sklearn.pipeline import make_pipeline\n",
    "from sklearn.svm import SVC\n",
    "from sklearn.svm import LinearSVC\n",
    "from sklearn.linear_model import LogisticRegression\n",
    "from sklearn.ensemble import RandomForestClassifier\n",
    "from  sklearn.linear_model import LogisticRegression\n",
    "from sklearn.neighbors import KNeighborsClassifier\n",
    "\n",
    "url_train = \"https://raw.githubusercontent.com/RTheophile/td_ml_ynov/main/data/train.csv\"\n",
    "url_test = \"https://raw.githubusercontent.com/RTheophile/td_ml_ynov/main/data/test.csv\"\n",
    "\n",
    "df_train = pd.read_csv(url_train, sep=',', decimal='.' )\n",
    "df_test = pd.read_csv(url_test, sep=',', decimal='.' )\n"
   ]
  },
  {
   "cell_type": "markdown",
   "metadata": {},
   "source": [
    "## Analyser les données"
   ]
  },
  {
   "cell_type": "code",
   "execution_count": 1001,
   "metadata": {},
   "outputs": [
    {
     "name": "stdout",
     "output_type": "stream",
     "text": [
      "<class 'pandas.core.frame.DataFrame'>\n",
      "RangeIndex: 320 entries, 0 to 319\n",
      "Data columns (total 63 columns):\n",
      " #   Column                  Non-Null Count  Dtype  \n",
      "---  ------                  --------------  -----  \n",
      " 0   music_id                320 non-null    int64  \n",
      " 1   chroma_0_mean           317 non-null    float64\n",
      " 2   chroma_0_std            317 non-null    float64\n",
      " 3   chroma_10_mean          317 non-null    float64\n",
      " 4   chroma_10_std           317 non-null    float64\n",
      " 5   chroma_11_mean          318 non-null    float64\n",
      " 6   chroma_11_std           320 non-null    float64\n",
      " 7   chroma_1_mean           318 non-null    float64\n",
      " 8   chroma_1_std            319 non-null    float64\n",
      " 9   chroma_2_mean           316 non-null    float64\n",
      " 10  chroma_2_std            317 non-null    float64\n",
      " 11  chroma_3_mean           318 non-null    float64\n",
      " 12  chroma_3_std            313 non-null    float64\n",
      " 13  chroma_4_mean           316 non-null    float64\n",
      " 14  chroma_4_std            316 non-null    float64\n",
      " 15  chroma_5_mean           319 non-null    float64\n",
      " 16  chroma_5_std            318 non-null    float64\n",
      " 17  chroma_6_mean           318 non-null    float64\n",
      " 18  chroma_6_std            318 non-null    float64\n",
      " 19  chroma_7_mean           318 non-null    float64\n",
      " 20  chroma_7_std            314 non-null    float64\n",
      " 21  chroma_8_mean           318 non-null    float64\n",
      " 22  chroma_8_std            317 non-null    float64\n",
      " 23  chroma_9_mean           316 non-null    float64\n",
      " 24  chroma_9_std            317 non-null    float64\n",
      " 25  chroma_centroid_mean    318 non-null    float64\n",
      " 26  chroma_flux_mean        315 non-null    float64\n",
      " 27  chroma_max              318 non-null    float64\n",
      " 28  chroma_min              313 non-null    float64\n",
      " 29  chroma_spread_mean      318 non-null    float64\n",
      " 30  mfcc_10_mean            317 non-null    float64\n",
      " 31  mfcc_10_std             318 non-null    float64\n",
      " 32  mfcc_11_mean            318 non-null    float64\n",
      " 33  mfcc_11_std             319 non-null    float64\n",
      " 34  mfcc_12_mean            314 non-null    float64\n",
      " 35  mfcc_12_std             316 non-null    float64\n",
      " 36  mfcc_13_mean            319 non-null    float64\n",
      " 37  mfcc_13_std             319 non-null    float64\n",
      " 38  mfcc_2_mean             318 non-null    float64\n",
      " 39  mfcc_2_std              313 non-null    float64\n",
      " 40  mfcc_3_mean             317 non-null    float64\n",
      " 41  mfcc_3_std              314 non-null    float64\n",
      " 42  mfcc_4_mean             316 non-null    float64\n",
      " 43  mfcc_4_std              314 non-null    float64\n",
      " 44  mfcc_5_mean             317 non-null    float64\n",
      " 45  mfcc_5_std              317 non-null    float64\n",
      " 46  mfcc_6_mean             316 non-null    float64\n",
      " 47  mfcc_6_std              319 non-null    float64\n",
      " 48  mfcc_7_mean             317 non-null    float64\n",
      " 49  mfcc_7_std              318 non-null    float64\n",
      " 50  mfcc_8_mean             318 non-null    float64\n",
      " 51  mfcc_8_std              318 non-null    float64\n",
      " 52  mfcc_9_mean             314 non-null    float64\n",
      " 53  mfcc_9_std              317 non-null    float64\n",
      " 54  onset_rate              319 non-null    float64\n",
      " 55  spectral_centroid_mean  318 non-null    float64\n",
      " 56  spectral_decrease_mean  316 non-null    float64\n",
      " 57  spectral_flux_mean      316 non-null    float64\n",
      " 58  spectral_rolloff_mean   320 non-null    float64\n",
      " 59  spectral_spread_mean    316 non-null    float64\n",
      " 60  zcr_mean                316 non-null    float64\n",
      " 61  zcr_std                 317 non-null    float64\n",
      " 62  category                320 non-null    int64  \n",
      "dtypes: float64(61), int64(2)\n",
      "memory usage: 157.6 KB\n"
     ]
    }
   ],
   "source": [
    "df_train.info()"
   ]
  },
  {
   "cell_type": "code",
   "execution_count": 1002,
   "metadata": {},
   "outputs": [
    {
     "data": {
      "text/html": [
       "<div>\n",
       "<style scoped>\n",
       "    .dataframe tbody tr th:only-of-type {\n",
       "        vertical-align: middle;\n",
       "    }\n",
       "\n",
       "    .dataframe tbody tr th {\n",
       "        vertical-align: top;\n",
       "    }\n",
       "\n",
       "    .dataframe thead th {\n",
       "        text-align: right;\n",
       "    }\n",
       "</style>\n",
       "<table border=\"1\" class=\"dataframe\">\n",
       "  <thead>\n",
       "    <tr style=\"text-align: right;\">\n",
       "      <th></th>\n",
       "      <th>music_id</th>\n",
       "      <th>chroma_0_mean</th>\n",
       "      <th>chroma_0_std</th>\n",
       "      <th>chroma_10_mean</th>\n",
       "      <th>chroma_10_std</th>\n",
       "      <th>chroma_11_mean</th>\n",
       "      <th>chroma_11_std</th>\n",
       "      <th>chroma_1_mean</th>\n",
       "      <th>chroma_1_std</th>\n",
       "      <th>chroma_2_mean</th>\n",
       "      <th>...</th>\n",
       "      <th>mfcc_9_std</th>\n",
       "      <th>onset_rate</th>\n",
       "      <th>spectral_centroid_mean</th>\n",
       "      <th>spectral_decrease_mean</th>\n",
       "      <th>spectral_flux_mean</th>\n",
       "      <th>spectral_rolloff_mean</th>\n",
       "      <th>spectral_spread_mean</th>\n",
       "      <th>zcr_mean</th>\n",
       "      <th>zcr_std</th>\n",
       "      <th>category</th>\n",
       "    </tr>\n",
       "  </thead>\n",
       "  <tbody>\n",
       "    <tr>\n",
       "      <th>count</th>\n",
       "      <td>320.000000</td>\n",
       "      <td>317.000000</td>\n",
       "      <td>317.000000</td>\n",
       "      <td>317.000000</td>\n",
       "      <td>317.000000</td>\n",
       "      <td>318.000000</td>\n",
       "      <td>320.000000</td>\n",
       "      <td>318.000000</td>\n",
       "      <td>319.000000</td>\n",
       "      <td>316.000000</td>\n",
       "      <td>...</td>\n",
       "      <td>317.000000</td>\n",
       "      <td>319.000000</td>\n",
       "      <td>318.000000</td>\n",
       "      <td>316.000000</td>\n",
       "      <td>316.000000</td>\n",
       "      <td>320.000000</td>\n",
       "      <td>316.000000</td>\n",
       "      <td>316.000000</td>\n",
       "      <td>317.000000</td>\n",
       "      <td>320.000000</td>\n",
       "    </tr>\n",
       "    <tr>\n",
       "      <th>mean</th>\n",
       "      <td>159.500000</td>\n",
       "      <td>461.223799</td>\n",
       "      <td>727.558402</td>\n",
       "      <td>441.424764</td>\n",
       "      <td>664.515463</td>\n",
       "      <td>420.808596</td>\n",
       "      <td>606.042905</td>\n",
       "      <td>417.116685</td>\n",
       "      <td>605.835885</td>\n",
       "      <td>469.942682</td>\n",
       "      <td>...</td>\n",
       "      <td>0.629552</td>\n",
       "      <td>4.917406</td>\n",
       "      <td>28.050904</td>\n",
       "      <td>-0.155241</td>\n",
       "      <td>1.737679</td>\n",
       "      <td>1180.002741</td>\n",
       "      <td>1942.502831</td>\n",
       "      <td>192.060511</td>\n",
       "      <td>115.472340</td>\n",
       "      <td>1.500000</td>\n",
       "    </tr>\n",
       "    <tr>\n",
       "      <th>std</th>\n",
       "      <td>92.520268</td>\n",
       "      <td>302.890638</td>\n",
       "      <td>511.932682</td>\n",
       "      <td>286.127709</td>\n",
       "      <td>507.650090</td>\n",
       "      <td>284.887311</td>\n",
       "      <td>443.484753</td>\n",
       "      <td>269.444492</td>\n",
       "      <td>410.002545</td>\n",
       "      <td>319.000592</td>\n",
       "      <td>...</td>\n",
       "      <td>0.170709</td>\n",
       "      <td>2.537782</td>\n",
       "      <td>16.103779</td>\n",
       "      <td>0.185176</td>\n",
       "      <td>1.063592</td>\n",
       "      <td>711.314460</td>\n",
       "      <td>1984.500644</td>\n",
       "      <td>107.853027</td>\n",
       "      <td>53.495612</td>\n",
       "      <td>1.119785</td>\n",
       "    </tr>\n",
       "    <tr>\n",
       "      <th>min</th>\n",
       "      <td>0.000000</td>\n",
       "      <td>52.542076</td>\n",
       "      <td>108.190132</td>\n",
       "      <td>66.789970</td>\n",
       "      <td>129.553772</td>\n",
       "      <td>64.062683</td>\n",
       "      <td>117.359634</td>\n",
       "      <td>50.826832</td>\n",
       "      <td>93.769897</td>\n",
       "      <td>50.655052</td>\n",
       "      <td>...</td>\n",
       "      <td>0.405036</td>\n",
       "      <td>0.366504</td>\n",
       "      <td>1.656318</td>\n",
       "      <td>-0.650820</td>\n",
       "      <td>0.351351</td>\n",
       "      <td>21.491228</td>\n",
       "      <td>41.709451</td>\n",
       "      <td>35.199924</td>\n",
       "      <td>32.996641</td>\n",
       "      <td>0.000000</td>\n",
       "    </tr>\n",
       "    <tr>\n",
       "      <th>25%</th>\n",
       "      <td>79.750000</td>\n",
       "      <td>254.774170</td>\n",
       "      <td>388.372406</td>\n",
       "      <td>248.708359</td>\n",
       "      <td>350.873505</td>\n",
       "      <td>231.128601</td>\n",
       "      <td>344.294373</td>\n",
       "      <td>228.390095</td>\n",
       "      <td>353.000809</td>\n",
       "      <td>258.015579</td>\n",
       "      <td>...</td>\n",
       "      <td>0.515947</td>\n",
       "      <td>3.048645</td>\n",
       "      <td>16.354873</td>\n",
       "      <td>-0.287891</td>\n",
       "      <td>0.958037</td>\n",
       "      <td>687.719298</td>\n",
       "      <td>626.473435</td>\n",
       "      <td>114.992507</td>\n",
       "      <td>78.780289</td>\n",
       "      <td>0.750000</td>\n",
       "    </tr>\n",
       "    <tr>\n",
       "      <th>50%</th>\n",
       "      <td>159.500000</td>\n",
       "      <td>377.393036</td>\n",
       "      <td>571.490845</td>\n",
       "      <td>381.081177</td>\n",
       "      <td>534.109131</td>\n",
       "      <td>340.970337</td>\n",
       "      <td>484.871140</td>\n",
       "      <td>354.934341</td>\n",
       "      <td>505.056274</td>\n",
       "      <td>403.037384</td>\n",
       "      <td>...</td>\n",
       "      <td>0.583850</td>\n",
       "      <td>4.731231</td>\n",
       "      <td>24.205491</td>\n",
       "      <td>-0.086321</td>\n",
       "      <td>1.461911</td>\n",
       "      <td>1020.833333</td>\n",
       "      <td>1274.624056</td>\n",
       "      <td>167.636659</td>\n",
       "      <td>104.338107</td>\n",
       "      <td>1.500000</td>\n",
       "    </tr>\n",
       "    <tr>\n",
       "      <th>75%</th>\n",
       "      <td>239.250000</td>\n",
       "      <td>592.239685</td>\n",
       "      <td>910.419189</td>\n",
       "      <td>558.673584</td>\n",
       "      <td>803.034241</td>\n",
       "      <td>506.674622</td>\n",
       "      <td>752.747421</td>\n",
       "      <td>507.147308</td>\n",
       "      <td>702.858398</td>\n",
       "      <td>568.195679</td>\n",
       "      <td>...</td>\n",
       "      <td>0.683956</td>\n",
       "      <td>6.615188</td>\n",
       "      <td>37.958948</td>\n",
       "      <td>0.002296</td>\n",
       "      <td>2.144044</td>\n",
       "      <td>1552.741228</td>\n",
       "      <td>2634.940367</td>\n",
       "      <td>240.335595</td>\n",
       "      <td>142.303996</td>\n",
       "      <td>2.250000</td>\n",
       "    </tr>\n",
       "    <tr>\n",
       "      <th>max</th>\n",
       "      <td>319.000000</td>\n",
       "      <td>1643.472900</td>\n",
       "      <td>3421.152100</td>\n",
       "      <td>2172.719482</td>\n",
       "      <td>4360.215332</td>\n",
       "      <td>2302.835205</td>\n",
       "      <td>5054.364258</td>\n",
       "      <td>1829.826904</td>\n",
       "      <td>3210.021484</td>\n",
       "      <td>2502.509033</td>\n",
       "      <td>...</td>\n",
       "      <td>1.771815</td>\n",
       "      <td>14.466579</td>\n",
       "      <td>86.371120</td>\n",
       "      <td>0.074635</td>\n",
       "      <td>6.510337</td>\n",
       "      <td>5243.859649</td>\n",
       "      <td>15422.032531</td>\n",
       "      <td>579.817519</td>\n",
       "      <td>406.147341</td>\n",
       "      <td>3.000000</td>\n",
       "    </tr>\n",
       "  </tbody>\n",
       "</table>\n",
       "<p>8 rows × 63 columns</p>\n",
       "</div>"
      ],
      "text/plain": [
       "         music_id  chroma_0_mean  chroma_0_std  chroma_10_mean  chroma_10_std  \\\n",
       "count  320.000000     317.000000    317.000000      317.000000     317.000000   \n",
       "mean   159.500000     461.223799    727.558402      441.424764     664.515463   \n",
       "std     92.520268     302.890638    511.932682      286.127709     507.650090   \n",
       "min      0.000000      52.542076    108.190132       66.789970     129.553772   \n",
       "25%     79.750000     254.774170    388.372406      248.708359     350.873505   \n",
       "50%    159.500000     377.393036    571.490845      381.081177     534.109131   \n",
       "75%    239.250000     592.239685    910.419189      558.673584     803.034241   \n",
       "max    319.000000    1643.472900   3421.152100     2172.719482    4360.215332   \n",
       "\n",
       "       chroma_11_mean  chroma_11_std  chroma_1_mean  chroma_1_std  \\\n",
       "count      318.000000     320.000000     318.000000    319.000000   \n",
       "mean       420.808596     606.042905     417.116685    605.835885   \n",
       "std        284.887311     443.484753     269.444492    410.002545   \n",
       "min         64.062683     117.359634      50.826832     93.769897   \n",
       "25%        231.128601     344.294373     228.390095    353.000809   \n",
       "50%        340.970337     484.871140     354.934341    505.056274   \n",
       "75%        506.674622     752.747421     507.147308    702.858398   \n",
       "max       2302.835205    5054.364258    1829.826904   3210.021484   \n",
       "\n",
       "       chroma_2_mean  ...  mfcc_9_std  onset_rate  spectral_centroid_mean  \\\n",
       "count     316.000000  ...  317.000000  319.000000              318.000000   \n",
       "mean      469.942682  ...    0.629552    4.917406               28.050904   \n",
       "std       319.000592  ...    0.170709    2.537782               16.103779   \n",
       "min        50.655052  ...    0.405036    0.366504                1.656318   \n",
       "25%       258.015579  ...    0.515947    3.048645               16.354873   \n",
       "50%       403.037384  ...    0.583850    4.731231               24.205491   \n",
       "75%       568.195679  ...    0.683956    6.615188               37.958948   \n",
       "max      2502.509033  ...    1.771815   14.466579               86.371120   \n",
       "\n",
       "       spectral_decrease_mean  spectral_flux_mean  spectral_rolloff_mean  \\\n",
       "count              316.000000          316.000000             320.000000   \n",
       "mean                -0.155241            1.737679            1180.002741   \n",
       "std                  0.185176            1.063592             711.314460   \n",
       "min                 -0.650820            0.351351              21.491228   \n",
       "25%                 -0.287891            0.958037             687.719298   \n",
       "50%                 -0.086321            1.461911            1020.833333   \n",
       "75%                  0.002296            2.144044            1552.741228   \n",
       "max                  0.074635            6.510337            5243.859649   \n",
       "\n",
       "       spectral_spread_mean    zcr_mean     zcr_std    category  \n",
       "count            316.000000  316.000000  317.000000  320.000000  \n",
       "mean            1942.502831  192.060511  115.472340    1.500000  \n",
       "std             1984.500644  107.853027   53.495612    1.119785  \n",
       "min               41.709451   35.199924   32.996641    0.000000  \n",
       "25%              626.473435  114.992507   78.780289    0.750000  \n",
       "50%             1274.624056  167.636659  104.338107    1.500000  \n",
       "75%             2634.940367  240.335595  142.303996    2.250000  \n",
       "max            15422.032531  579.817519  406.147341    3.000000  \n",
       "\n",
       "[8 rows x 63 columns]"
      ]
     },
     "execution_count": 1002,
     "metadata": {},
     "output_type": "execute_result"
    }
   ],
   "source": [
    "df_train.describe()"
   ]
  },
  {
   "cell_type": "code",
   "execution_count": 1003,
   "metadata": {},
   "outputs": [
    {
     "data": {
      "text/plain": [
       "music_id                 0\n",
       "chroma_0_mean            3\n",
       "chroma_0_std             3\n",
       "chroma_10_mean           3\n",
       "chroma_10_std            3\n",
       "                        ..\n",
       "spectral_rolloff_mean    0\n",
       "spectral_spread_mean     4\n",
       "zcr_mean                 4\n",
       "zcr_std                  3\n",
       "category                 0\n",
       "Length: 63, dtype: int64"
      ]
     },
     "execution_count": 1003,
     "metadata": {},
     "output_type": "execute_result"
    }
   ],
   "source": [
    "df_train.isna().sum()"
   ]
  },
  {
   "cell_type": "code",
   "execution_count": 1004,
   "metadata": {},
   "outputs": [
    {
     "data": {
      "text/plain": [
       "(80, 62)"
      ]
     },
     "execution_count": 1004,
     "metadata": {},
     "output_type": "execute_result"
    }
   ],
   "source": [
    "df_train.shape\n",
    "df_test.shape"
   ]
  },
  {
   "cell_type": "markdown",
   "metadata": {},
   "source": [
    "# Visualisation des données\n",
    "## Analyser les données\n",
    "* Identifier la distribution de chaque variable\n",
    "* Données manquantes\n",
    "* Données aberrantes\n",
    "* Données corrélées entre elles"
   ]
  },
  {
   "cell_type": "markdown",
   "metadata": {},
   "source": [
    "### Distribution"
   ]
  },
  {
   "cell_type": "code",
   "execution_count": 901,
   "metadata": {},
   "outputs": [
    {
     "name": "stderr",
     "output_type": "stream",
     "text": [
      "/Users/caiuspupus/Projects/Ynov/ml-elective3/venv/lib/python3.8/site-packages/seaborn/axisgrid.py:392: RuntimeWarning: More than 20 figures have been opened. Figures created through the pyplot interface (`matplotlib.pyplot.figure`) are retained until explicitly closed and may consume too much memory. (To control this warning, see the rcParam `figure.max_open_warning`).\n",
      "  fig, axes = plt.subplots(nrow, ncol, **kwargs)\n"
     ]
    },
    {
     "data": {
      "image/png": "[encoded data removed]",
      "text/plain": [
       "<Figure size 360x360 with 1 Axes>"
      ]
     },
     "metadata": {
      "needs_background": "light"
     },
     "output_type": "display_data"
    },
    {
     "data": {
      "image/png": "[encoded data removed]",
      "text/plain": [
       "<Figure size 360x360 with 1 Axes>"
      ]
     },
     "metadata": {
      "needs_background": "light"
     },
     "output_type": "display_data"
    },
    {
     "data": {
      "image/png": "[encoded data removed]",
      "text/plain": [
       "<Figure size 360x360 with 1 Axes>"
      ]
     },
     "metadata": {
      "needs_background": "light"
     },
     "output_type": "display_data"
    },
    {
     "data": {
      "image/png": "[encoded data removed]",
      "text/plain": [
       "<Figure size 360x360 with 1 Axes>"
      ]
     },
     "metadata": {
      "needs_background": "light"
     },
     "output_type": "display_data"
    },
    {
     "data": {
      "image/png": "[encoded data removed]",
      "text/plain": [
       "<Figure size 360x360 with 1 Axes>"
      ]
     },
     "metadata": {
      "needs_background": "light"
     },
     "output_type": "display_data"
    },
    {
     "data": {
      "image/png": "[encoded data removed]",
      "text/plain": [
       "<Figure size 360x360 with 1 Axes>"
      ]
     },
     "metadata": {
      "needs_background": "light"
     },
     "output_type": "display_data"
    },
    {
     "data": {
      "image/png": "[encoded data removed]",
      "text/plain": [
       "<Figure size 360x360 with 1 Axes>"
      ]
     },
     "metadata": {
      "needs_background": "light"
     },
     "output_type": "display_data"
    },
    {
     "data": {
      "image/png": "[encoded data removed]",
      "text/plain": [
       "<Figure size 360x360 with 1 Axes>"
      ]
     },
     "metadata": {
      "needs_background": "light"
     },
     "output_type": "display_data"
    },
    {
     "data": {
      "image/png": "[encoded data removed]",
      "text/plain": [
       "<Figure size 360x360 with 1 Axes>"
      ]
     },
     "metadata": {
      "needs_background": "light"
     },
     "output_type": "display_data"
    },
    {
     "data": {
      "image/png": "[encoded data removed]",
      "text/plain": [
       "<Figure size 360x360 with 1 Axes>"
      ]
     },
     "metadata": {
      "needs_background": "light"
     },
     "output_type": "display_data"
    },
    {
     "data": {
      "image/png": "[encoded data removed]",
      "text/plain": [
       "<Figure size 360x360 with 1 Axes>"
      ]
     },
     "metadata": {
      "needs_background": "light"
     },
     "output_type": "display_data"
    },
    {
     "data": {
      "image/png": "[encoded data removed]",
      "text/plain": [
       "<Figure size 360x360 with 1 Axes>"
      ]
     },
     "metadata": {
      "needs_background": "light"
     },
     "output_type": "display_data"
    },
    {
     "data": {
      "image/png": "[encoded data removed]",
      "text/plain": [
       "<Figure size 360x360 with 1 Axes>"
      ]
     },
     "metadata": {
      "needs_background": "light"
     },
     "output_type": "display_data"
    },
    {
     "data": {
      "image/png": "[encoded data removed]",
      "text/plain": [
       "<Figure size 360x360 with 1 Axes>"
      ]
     },
     "metadata": {
      "needs_background": "light"
     },
     "output_type": "display_data"
    },
    {
     "data": {
      "image/png": "[encoded data removed]",
      "text/plain": [
       "<Figure size 360x360 with 1 Axes>"
      ]
     },
     "metadata": {
      "needs_background": "light"
     },
     "output_type": "display_data"
    },
    {
     "data": {
      "image/png": "[encoded data removed]",
      "text/plain": [
       "<Figure size 360x360 with 1 Axes>"
      ]
     },
     "metadata": {
      "needs_background": "light"
     },
     "output_type": "display_data"
    },
    {
     "data": {
      "image/png": "[encoded data removed]",
      "text/plain": [
       "<Figure size 360x360 with 1 Axes>"
      ]
     },
     "metadata": {
      "needs_background": "light"
     },
     "output_type": "display_data"
    },
    {
     "data": {
      "image/png": "[encoded data removed]",
      "text/plain": [
       "<Figure size 360x360 with 1 Axes>"
      ]
     },
     "metadata": {
      "needs_background": "light"
     },
     "output_type": "display_data"
    },
    {
     "data": {
      "image/png": "[encoded data removed]",
      "text/plain": [
       "<Figure size 360x360 with 1 Axes>"
      ]
     },
     "metadata": {
      "needs_background": "light"
     },
     "output_type": "display_data"
    },
    {
     "data": {
      "image/png": "[encoded data removed]",
      "text/plain": [
       "<Figure size 360x360 with 1 Axes>"
      ]
     },
     "metadata": {
      "needs_background": "light"
     },
     "output_type": "display_data"
    },
    {
     "data": {
      "image/png": "[encoded data removed]",
      "text/plain": [
       "<Figure size 360x360 with 1 Axes>"
      ]
     },
     "metadata": {
      "needs_background": "light"
     },
     "output_type": "display_data"
    },
    {
     "data": {
      "image/png": "[encoded data removed]",
      "text/plain": [
       "<Figure size 360x360 with 1 Axes>"
      ]
     },
     "metadata": {
      "needs_background": "light"
     },
     "output_type": "display_data"
    },
    {
     "data": {
      "image/png": "[encoded data removed]",
      "text/plain": [
       "<Figure size 360x360 with 1 Axes>"
      ]
     },
     "metadata": {
      "needs_background": "light"
     },
     "output_type": "display_data"
    },
    {
     "data": {
      "image/png": "[encoded data removed]",
      "text/plain": [
       "<Figure size 360x360 with 1 Axes>"
      ]
     },
     "metadata": {
      "needs_background": "light"
     },
     "output_type": "display_data"
    },
    {
     "data": {
      "image/png": "[encoded data removed]",
      "text/plain": [
       "<Figure size 360x360 with 1 Axes>"
      ]
     },
     "metadata": {
      "needs_background": "light"
     },
     "output_type": "display_data"
    },
    {
     "data": {
      "image/png": "[encoded data removed]",
      "text/plain": [
       "<Figure size 360x360 with 1 Axes>"
      ]
     },
     "metadata": {
      "needs_background": "light"
     },
     "output_type": "display_data"
    },
    {
     "data": {
      "image/png": "[encoded data removed]",
      "text/plain": [
       "<Figure size 360x360 with 1 Axes>"
      ]
     },
     "metadata": {
      "needs_background": "light"
     },
     "output_type": "display_data"
    },
    {
     "data": {
      "image/png": "[encoded data removed]",
      "text/plain": [
       "<Figure size 360x360 with 1 Axes>"
      ]
     },
     "metadata": {
      "needs_background": "light"
     },
     "output_type": "display_data"
    },
    {
     "data": {
      "image/png": "[encoded data removed]",
      "text/plain": [
       "<Figure size 360x360 with 1 Axes>"
      ]
     },
     "metadata": {
      "needs_background": "light"
     },
     "output_type": "display_data"
    },
    {
     "data": {
      "image/png": "[encoded data removed]",
      "text/plain": [
       "<Figure size 360x360 with 1 Axes>"
      ]
     },
     "metadata": {
      "needs_background": "light"
     },
     "output_type": "display_data"
    },
    {
     "data": {
      "image/png": "[encoded data removed]",
      "text/plain": [
       "<Figure size 360x360 with 1 Axes>"
      ]
     },
     "metadata": {
      "needs_background": "light"
     },
     "output_type": "display_data"
    },
    {
     "data": {
      "image/png": "[encoded data removed]",
      "text/plain": [
       "<Figure size 360x360 with 1 Axes>"
      ]
     },
     "metadata": {
      "needs_background": "light"
     },
     "output_type": "display_data"
    },
    {
     "data": {
      "image/png": "[encoded data removed]",
      "text/plain": [
       "<Figure size 360x360 with 1 Axes>"
      ]
     },
     "metadata": {
      "needs_background": "light"
     },
     "output_type": "display_data"
    },
    {
     "data": {
      "image/png": "[encoded data removed]",
      "text/plain": [
       "<Figure size 360x360 with 1 Axes>"
      ]
     },
     "metadata": {
      "needs_background": "light"
     },
     "output_type": "display_data"
    },
    {
     "data": {
      "image/png": "[encoded data removed]",
      "text/plain": [
       "<Figure size 360x360 with 1 Axes>"
      ]
     },
     "metadata": {
      "needs_background": "light"
     },
     "output_type": "display_data"
    },
    {
     "data": {
      "image/png": "[encoded data removed]",
      "text/plain": [
       "<Figure size 360x360 with 1 Axes>"
      ]
     },
     "metadata": {
      "needs_background": "light"
     },
     "output_type": "display_data"
    },
    {
     "data": {
      "image/png": "[encoded data removed]",
      "text/plain": [
       "<Figure size 360x360 with 1 Axes>"
      ]
     },
     "metadata": {
      "needs_background": "light"
     },
     "output_type": "display_data"
    },
    {
     "data": {
      "image/png": "[encoded data removed]",
      "text/plain": [
       "<Figure size 360x360 with 1 Axes>"
      ]
     },
     "metadata": {
      "needs_background": "light"
     },
     "output_type": "display_data"
    },
    {
     "data": {
      "image/png": "[encoded data removed]",
      "text/plain": [
       "<Figure size 360x360 with 1 Axes>"
      ]
     },
     "metadata": {
      "needs_background": "light"
     },
     "output_type": "display_data"
    },
    {
     "data": {
      "image/png": "[encoded data removed]",
      "text/plain": [
       "<Figure size 360x360 with 1 Axes>"
      ]
     },
     "metadata": {
      "needs_background": "light"
     },
     "output_type": "display_data"
    },
    {
     "data": {
      "image/png": "[encoded data removed]",
      "text/plain": [
       "<Figure size 360x360 with 1 Axes>"
      ]
     },
     "metadata": {
      "needs_background": "light"
     },
     "output_type": "display_data"
    },
    {
     "data": {
      "image/png": "[encoded data removed]",
      "text/plain": [
       "<Figure size 360x360 with 1 Axes>"
      ]
     },
     "metadata": {
      "needs_background": "light"
     },
     "output_type": "display_data"
    },
    {
     "data": {
      "image/png": "[encoded data removed]",
      "text/plain": [
       "<Figure size 360x360 with 1 Axes>"
      ]
     },
     "metadata": {
      "needs_background": "light"
     },
     "output_type": "display_data"
    },
    {
     "data": {
      "image/png": "[encoded data removed]",
      "text/plain": [
       "<Figure size 360x360 with 1 Axes>"
      ]
     },
     "metadata": {
      "needs_background": "light"
     },
     "output_type": "display_data"
    },
    {
     "data": {
      "image/png": "[encoded data removed]",
      "text/plain": [
       "<Figure size 360x360 with 1 Axes>"
      ]
     },
     "metadata": {
      "needs_background": "light"
     },
     "output_type": "display_data"
    },
    {
     "data": {
      "image/png": "[encoded data removed]",
      "text/plain": [
       "<Figure size 360x360 with 1 Axes>"
      ]
     },
     "metadata": {
      "needs_background": "light"
     },
     "output_type": "display_data"
    },
    {
     "data": {
      "image/png": "[encoded data removed]",
      "text/plain": [
       "<Figure size 360x360 with 1 Axes>"
      ]
     },
     "metadata": {
      "needs_background": "light"
     },
     "output_type": "display_data"
    },
    {
     "data": {
      "image/png": "[encoded data removed]",
      "text/plain": [
       "<Figure size 360x360 with 1 Axes>"
      ]
     },
     "metadata": {
      "needs_background": "light"
     },
     "output_type": "display_data"
    },
    {
     "data": {
      "image/png": "[encoded data removed]",
      "text/plain": [
       "<Figure size 360x360 with 1 Axes>"
      ]
     },
     "metadata": {
      "needs_background": "light"
     },
     "output_type": "display_data"
    },
    {
     "data": {
      "image/png": "[encoded data removed]",
      "text/plain": [
       "<Figure size 360x360 with 1 Axes>"
      ]
     },
     "metadata": {
      "needs_background": "light"
     },
     "output_type": "display_data"
    },
    {
     "data": {
      "image/png": "[encoded data removed]",
      "text/plain": [
       "<Figure size 360x360 with 1 Axes>"
      ]
     },
     "metadata": {
      "needs_background": "light"
     },
     "output_type": "display_data"
    },
    {
     "data": {
      "image/png": "[encoded data removed]",
      "text/plain": [
       "<Figure size 360x360 with 1 Axes>"
      ]
     },
     "metadata": {
      "needs_background": "light"
     },
     "output_type": "display_data"
    },
    {
     "data": {
      "image/png": "[encoded data removed]",
      "text/plain": [
       "<Figure size 360x360 with 1 Axes>"
      ]
     },
     "metadata": {
      "needs_background": "light"
     },
     "output_type": "display_data"
    },
    {
     "data": {
      "image/png": "[encoded data removed]",
      "text/plain": [
       "<Figure size 360x360 with 1 Axes>"
      ]
     },
     "metadata": {
      "needs_background": "light"
     },
     "output_type": "display_data"
    },
    {
     "data": {
      "image/png": "[encoded data removed]",
      "text/plain": [
       "<Figure size 360x360 with 1 Axes>"
      ]
     },
     "metadata": {
      "needs_background": "light"
     },
     "output_type": "display_data"
    },
    {
     "data": {
      "image/png": "[encoded data removed]",
      "text/plain": [
       "<Figure size 360x360 with 1 Axes>"
      ]
     },
     "metadata": {
      "needs_background": "light"
     },
     "output_type": "display_data"
    },
    {
     "data": {
      "image/png": "[encoded data removed]",
      "text/plain": [
       "<Figure size 360x360 with 1 Axes>"
      ]
     },
     "metadata": {
      "needs_background": "light"
     },
     "output_type": "display_data"
    },
    {
     "data": {
      "image/png": "[encoded data removed]",
      "text/plain": [
       "<Figure size 360x360 with 1 Axes>"
      ]
     },
     "metadata": {
      "needs_background": "light"
     },
     "output_type": "display_data"
    },
    {
     "data": {
      "image/png": "[encoded data removed]",
      "text/plain": [
       "<Figure size 360x360 with 1 Axes>"
      ]
     },
     "metadata": {
      "needs_background": "light"
     },
     "output_type": "display_data"
    },
    {
     "data": {
      "image/png": "[encoded data removed]",
      "text/plain": [
       "<Figure size 360x360 with 1 Axes>"
      ]
     },
     "metadata": {
      "needs_background": "light"
     },
     "output_type": "display_data"
    },
    {
     "data": {
      "image/png": "[encoded data removed]",
      "text/plain": [
       "<Figure size 360x360 with 1 Axes>"
      ]
     },
     "metadata": {
      "needs_background": "light"
     },
     "output_type": "display_data"
    },
    {
     "data": {
      "image/png": "[encoded data removed]",
      "text/plain": [
       "<Figure size 360x360 with 1 Axes>"
      ]
     },
     "metadata": {
      "needs_background": "light"
     },
     "output_type": "display_data"
    },
    {
     "data": {
      "image/png": "[encoded data removed]",
      "text/plain": [
       "<Figure size 360x360 with 1 Axes>"
      ]
     },
     "metadata": {
      "needs_background": "light"
     },
     "output_type": "display_data"
    }
   ],
   "source": [
    "for column in df_train.columns:\n",
    "    sns.displot(df_train[column])"
   ]
  },
  {
   "cell_type": "markdown",
   "metadata": {
    "pycharm": {
     "name": "#%% md\n"
    }
   },
   "source": [
    "En regardant la distribution de la variable cible \"category\", on constate que :\n",
    "* Le jeu de données est parfaitement équilibré : 25 % de chaque catégorie (0 ,1 ,2 ,3)\n"
   ]
  },
  {
   "cell_type": "code",
   "execution_count": 902,
   "metadata": {},
   "outputs": [
    {
     "data": {
      "image/png": "[encoded data removed]",
      "text/plain": [
       "<Figure size 412x360 with 6 Axes>"
      ]
     },
     "metadata": {
      "needs_background": "light"
     },
     "output_type": "display_data"
    }
   ],
   "source": [
    "sns.pairplot(df_train[['mfcc_10_mean', 'chroma_10_mean', 'category']], hue='category', height=2.5);"
   ]
  },
  {
   "cell_type": "markdown",
   "metadata": {
    "pycharm": {
     "name": "#%% md\n"
    }
   },
   "source": [
    "\n",
    "## Détection des NAN"
   ]
  },
  {
   "cell_type": "code",
   "execution_count": 1005,
   "metadata": {
    "pycharm": {
     "name": "#%%\n"
    }
   },
   "outputs": [
    {
     "data": {
      "text/html": [
       "<div>\n",
       "<style scoped>\n",
       "    .dataframe tbody tr th:only-of-type {\n",
       "        vertical-align: middle;\n",
       "    }\n",
       "\n",
       "    .dataframe tbody tr th {\n",
       "        vertical-align: top;\n",
       "    }\n",
       "\n",
       "    .dataframe thead th {\n",
       "        text-align: right;\n",
       "    }\n",
       "</style>\n",
       "<table border=\"1\" class=\"dataframe\">\n",
       "  <thead>\n",
       "    <tr style=\"text-align: right;\">\n",
       "      <th></th>\n",
       "      <th>chroma_0_mean</th>\n",
       "      <th>chroma_0_std</th>\n",
       "      <th>chroma_10_mean</th>\n",
       "      <th>chroma_10_std</th>\n",
       "      <th>chroma_11_mean</th>\n",
       "      <th>chroma_11_std</th>\n",
       "      <th>chroma_1_mean</th>\n",
       "      <th>chroma_1_std</th>\n",
       "      <th>chroma_2_mean</th>\n",
       "      <th>chroma_2_std</th>\n",
       "      <th>...</th>\n",
       "      <th>mfcc_9_mean</th>\n",
       "      <th>mfcc_9_std</th>\n",
       "      <th>onset_rate</th>\n",
       "      <th>spectral_centroid_mean</th>\n",
       "      <th>spectral_decrease_mean</th>\n",
       "      <th>spectral_flux_mean</th>\n",
       "      <th>spectral_rolloff_mean</th>\n",
       "      <th>spectral_spread_mean</th>\n",
       "      <th>zcr_mean</th>\n",
       "      <th>zcr_std</th>\n",
       "    </tr>\n",
       "  </thead>\n",
       "  <tbody>\n",
       "    <tr>\n",
       "      <th>0</th>\n",
       "      <td>232.907440</td>\n",
       "      <td>350.553833</td>\n",
       "      <td>206.571701</td>\n",
       "      <td>331.046967</td>\n",
       "      <td>225.048828</td>\n",
       "      <td>347.441132</td>\n",
       "      <td>221.465195</td>\n",
       "      <td>332.978180</td>\n",
       "      <td>224.200668</td>\n",
       "      <td>347.038422</td>\n",
       "      <td>...</td>\n",
       "      <td>-0.138428</td>\n",
       "      <td>0.572161</td>\n",
       "      <td>8.366616</td>\n",
       "      <td>56.939299</td>\n",
       "      <td>0.046856</td>\n",
       "      <td>1.796432</td>\n",
       "      <td>472.807018</td>\n",
       "      <td>2692.618591</td>\n",
       "      <td>163.125244</td>\n",
       "      <td>115.239277</td>\n",
       "    </tr>\n",
       "    <tr>\n",
       "      <th>1</th>\n",
       "      <td>342.126831</td>\n",
       "      <td>615.817993</td>\n",
       "      <td>447.988678</td>\n",
       "      <td>562.143860</td>\n",
       "      <td>413.652649</td>\n",
       "      <td>633.503174</td>\n",
       "      <td>432.197021</td>\n",
       "      <td>668.721008</td>\n",
       "      <td>359.124786</td>\n",
       "      <td>426.877014</td>\n",
       "      <td>...</td>\n",
       "      <td>0.132142</td>\n",
       "      <td>0.684787</td>\n",
       "      <td>4.198134</td>\n",
       "      <td>23.288761</td>\n",
       "      <td>-0.022325</td>\n",
       "      <td>1.785995</td>\n",
       "      <td>1310.964912</td>\n",
       "      <td>1230.997277</td>\n",
       "      <td>170.899800</td>\n",
       "      <td>113.006177</td>\n",
       "    </tr>\n",
       "    <tr>\n",
       "      <th>2</th>\n",
       "      <td>92.768356</td>\n",
       "      <td>232.246658</td>\n",
       "      <td>152.421188</td>\n",
       "      <td>268.086456</td>\n",
       "      <td>79.888550</td>\n",
       "      <td>135.265106</td>\n",
       "      <td>75.790894</td>\n",
       "      <td>156.143219</td>\n",
       "      <td>148.015030</td>\n",
       "      <td>304.408112</td>\n",
       "      <td>...</td>\n",
       "      <td>-0.225053</td>\n",
       "      <td>0.602654</td>\n",
       "      <td>0.866282</td>\n",
       "      <td>20.381682</td>\n",
       "      <td>-0.263736</td>\n",
       "      <td>0.476780</td>\n",
       "      <td>1031.578947</td>\n",
       "      <td>1006.524430</td>\n",
       "      <td>81.420967</td>\n",
       "      <td>69.912374</td>\n",
       "    </tr>\n",
       "    <tr>\n",
       "      <th>3</th>\n",
       "      <td>219.882584</td>\n",
       "      <td>410.804382</td>\n",
       "      <td>199.726151</td>\n",
       "      <td>305.265564</td>\n",
       "      <td>452.057037</td>\n",
       "      <td>1210.232788</td>\n",
       "      <td>321.175476</td>\n",
       "      <td>815.782837</td>\n",
       "      <td>408.686401</td>\n",
       "      <td>698.333984</td>\n",
       "      <td>...</td>\n",
       "      <td>-0.261579</td>\n",
       "      <td>0.970925</td>\n",
       "      <td>1.965793</td>\n",
       "      <td>32.093015</td>\n",
       "      <td>-0.157930</td>\n",
       "      <td>0.866502</td>\n",
       "      <td>1332.456140</td>\n",
       "      <td>912.472403</td>\n",
       "      <td>148.232375</td>\n",
       "      <td>65.696249</td>\n",
       "    </tr>\n",
       "    <tr>\n",
       "      <th>4</th>\n",
       "      <td>215.454269</td>\n",
       "      <td>306.737244</td>\n",
       "      <td>259.520355</td>\n",
       "      <td>343.783783</td>\n",
       "      <td>305.393311</td>\n",
       "      <td>368.144043</td>\n",
       "      <td>238.357651</td>\n",
       "      <td>349.670929</td>\n",
       "      <td>203.332275</td>\n",
       "      <td>340.900879</td>\n",
       "      <td>...</td>\n",
       "      <td>-0.130924</td>\n",
       "      <td>0.526003</td>\n",
       "      <td>4.298090</td>\n",
       "      <td>59.155876</td>\n",
       "      <td>-0.025128</td>\n",
       "      <td>1.741103</td>\n",
       "      <td>1482.894737</td>\n",
       "      <td>4637.320310</td>\n",
       "      <td>225.845447</td>\n",
       "      <td>110.317563</td>\n",
       "    </tr>\n",
       "    <tr>\n",
       "      <th>...</th>\n",
       "      <td>...</td>\n",
       "      <td>...</td>\n",
       "      <td>...</td>\n",
       "      <td>...</td>\n",
       "      <td>...</td>\n",
       "      <td>...</td>\n",
       "      <td>...</td>\n",
       "      <td>...</td>\n",
       "      <td>...</td>\n",
       "      <td>...</td>\n",
       "      <td>...</td>\n",
       "      <td>...</td>\n",
       "      <td>...</td>\n",
       "      <td>...</td>\n",
       "      <td>...</td>\n",
       "      <td>...</td>\n",
       "      <td>...</td>\n",
       "      <td>...</td>\n",
       "      <td>...</td>\n",
       "      <td>...</td>\n",
       "      <td>...</td>\n",
       "    </tr>\n",
       "    <tr>\n",
       "      <th>75</th>\n",
       "      <td>378.110657</td>\n",
       "      <td>910.296631</td>\n",
       "      <td>411.037994</td>\n",
       "      <td>738.624512</td>\n",
       "      <td>474.921844</td>\n",
       "      <td>1271.251221</td>\n",
       "      <td>370.271271</td>\n",
       "      <td>974.712097</td>\n",
       "      <td>224.349991</td>\n",
       "      <td>471.294678</td>\n",
       "      <td>...</td>\n",
       "      <td>0.543129</td>\n",
       "      <td>0.572005</td>\n",
       "      <td>2.099067</td>\n",
       "      <td>12.647468</td>\n",
       "      <td>-0.208215</td>\n",
       "      <td>1.337591</td>\n",
       "      <td>838.157895</td>\n",
       "      <td>304.780476</td>\n",
       "      <td>83.854556</td>\n",
       "      <td>86.154190</td>\n",
       "    </tr>\n",
       "    <tr>\n",
       "      <th>76</th>\n",
       "      <td>298.790619</td>\n",
       "      <td>838.457458</td>\n",
       "      <td>289.558838</td>\n",
       "      <td>651.673340</td>\n",
       "      <td>285.266571</td>\n",
       "      <td>NaN</td>\n",
       "      <td>220.631119</td>\n",
       "      <td>451.879761</td>\n",
       "      <td>316.052155</td>\n",
       "      <td>772.024902</td>\n",
       "      <td>...</td>\n",
       "      <td>0.024739</td>\n",
       "      <td>0.658864</td>\n",
       "      <td>3.098623</td>\n",
       "      <td>9.447293</td>\n",
       "      <td>-0.562238</td>\n",
       "      <td>1.568547</td>\n",
       "      <td>322.368421</td>\n",
       "      <td>1445.712302</td>\n",
       "      <td>192.579308</td>\n",
       "      <td>185.982475</td>\n",
       "    </tr>\n",
       "    <tr>\n",
       "      <th>77</th>\n",
       "      <td>340.823334</td>\n",
       "      <td>581.847351</td>\n",
       "      <td>229.372055</td>\n",
       "      <td>268.090668</td>\n",
       "      <td>237.591629</td>\n",
       "      <td>272.746857</td>\n",
       "      <td>344.910767</td>\n",
       "      <td>481.311584</td>\n",
       "      <td>325.790955</td>\n",
       "      <td>439.735168</td>\n",
       "      <td>...</td>\n",
       "      <td>0.337493</td>\n",
       "      <td>0.447563</td>\n",
       "      <td>5.530875</td>\n",
       "      <td>5.660125</td>\n",
       "      <td>-0.490255</td>\n",
       "      <td>0.952766</td>\n",
       "      <td>128.947368</td>\n",
       "      <td>505.899176</td>\n",
       "      <td>111.885235</td>\n",
       "      <td>75.096457</td>\n",
       "    </tr>\n",
       "    <tr>\n",
       "      <th>78</th>\n",
       "      <td>461.047760</td>\n",
       "      <td>662.166565</td>\n",
       "      <td>NaN</td>\n",
       "      <td>593.540649</td>\n",
       "      <td>493.840912</td>\n",
       "      <td>541.830078</td>\n",
       "      <td>508.564453</td>\n",
       "      <td>568.137085</td>\n",
       "      <td>1304.457153</td>\n",
       "      <td>1389.750732</td>\n",
       "      <td>...</td>\n",
       "      <td>-0.117043</td>\n",
       "      <td>0.470288</td>\n",
       "      <td>6.186056</td>\n",
       "      <td>33.860030</td>\n",
       "      <td>0.005855</td>\n",
       "      <td>1.481684</td>\n",
       "      <td>1418.421053</td>\n",
       "      <td>1286.331697</td>\n",
       "      <td>233.868235</td>\n",
       "      <td>129.624790</td>\n",
       "    </tr>\n",
       "    <tr>\n",
       "      <th>79</th>\n",
       "      <td>639.218750</td>\n",
       "      <td>1713.408691</td>\n",
       "      <td>371.654480</td>\n",
       "      <td>708.324524</td>\n",
       "      <td>434.294373</td>\n",
       "      <td>748.698120</td>\n",
       "      <td>358.546112</td>\n",
       "      <td>960.213440</td>\n",
       "      <td>200.575485</td>\n",
       "      <td>351.556396</td>\n",
       "      <td>...</td>\n",
       "      <td>0.253356</td>\n",
       "      <td>1.221632</td>\n",
       "      <td>6.130609</td>\n",
       "      <td>23.056672</td>\n",
       "      <td>-0.033953</td>\n",
       "      <td>1.828413</td>\n",
       "      <td>1074.561404</td>\n",
       "      <td>666.447737</td>\n",
       "      <td>131.552930</td>\n",
       "      <td>109.372880</td>\n",
       "    </tr>\n",
       "  </tbody>\n",
       "</table>\n",
       "<p>80 rows × 61 columns</p>\n",
       "</div>"
      ],
      "text/plain": [
       "    chroma_0_mean  chroma_0_std  chroma_10_mean  chroma_10_std  \\\n",
       "0      232.907440    350.553833      206.571701     331.046967   \n",
       "1      342.126831    615.817993      447.988678     562.143860   \n",
       "2       92.768356    232.246658      152.421188     268.086456   \n",
       "3      219.882584    410.804382      199.726151     305.265564   \n",
       "4      215.454269    306.737244      259.520355     343.783783   \n",
       "..            ...           ...             ...            ...   \n",
       "75     378.110657    910.296631      411.037994     738.624512   \n",
       "76     298.790619    838.457458      289.558838     651.673340   \n",
       "77     340.823334    581.847351      229.372055     268.090668   \n",
       "78     461.047760    662.166565             NaN     593.540649   \n",
       "79     639.218750   1713.408691      371.654480     708.324524   \n",
       "\n",
       "    chroma_11_mean  chroma_11_std  chroma_1_mean  chroma_1_std  chroma_2_mean  \\\n",
       "0       225.048828     347.441132     221.465195    332.978180     224.200668   \n",
       "1       413.652649     633.503174     432.197021    668.721008     359.124786   \n",
       "2        79.888550     135.265106      75.790894    156.143219     148.015030   \n",
       "3       452.057037    1210.232788     321.175476    815.782837     408.686401   \n",
       "4       305.393311     368.144043     238.357651    349.670929     203.332275   \n",
       "..             ...            ...            ...           ...            ...   \n",
       "75      474.921844    1271.251221     370.271271    974.712097     224.349991   \n",
       "76      285.266571            NaN     220.631119    451.879761     316.052155   \n",
       "77      237.591629     272.746857     344.910767    481.311584     325.790955   \n",
       "78      493.840912     541.830078     508.564453    568.137085    1304.457153   \n",
       "79      434.294373     748.698120     358.546112    960.213440     200.575485   \n",
       "\n",
       "    chroma_2_std  ...  mfcc_9_mean  mfcc_9_std  onset_rate  \\\n",
       "0     347.038422  ...    -0.138428    0.572161    8.366616   \n",
       "1     426.877014  ...     0.132142    0.684787    4.198134   \n",
       "2     304.408112  ...    -0.225053    0.602654    0.866282   \n",
       "3     698.333984  ...    -0.261579    0.970925    1.965793   \n",
       "4     340.900879  ...    -0.130924    0.526003    4.298090   \n",
       "..           ...  ...          ...         ...         ...   \n",
       "75    471.294678  ...     0.543129    0.572005    2.099067   \n",
       "76    772.024902  ...     0.024739    0.658864    3.098623   \n",
       "77    439.735168  ...     0.337493    0.447563    5.530875   \n",
       "78   1389.750732  ...    -0.117043    0.470288    6.186056   \n",
       "79    351.556396  ...     0.253356    1.221632    6.130609   \n",
       "\n",
       "    spectral_centroid_mean  spectral_decrease_mean  spectral_flux_mean  \\\n",
       "0                56.939299                0.046856            1.796432   \n",
       "1                23.288761               -0.022325            1.785995   \n",
       "2                20.381682               -0.263736            0.476780   \n",
       "3                32.093015               -0.157930            0.866502   \n",
       "4                59.155876               -0.025128            1.741103   \n",
       "..                     ...                     ...                 ...   \n",
       "75               12.647468               -0.208215            1.337591   \n",
       "76                9.447293               -0.562238            1.568547   \n",
       "77                5.660125               -0.490255            0.952766   \n",
       "78               33.860030                0.005855            1.481684   \n",
       "79               23.056672               -0.033953            1.828413   \n",
       "\n",
       "    spectral_rolloff_mean  spectral_spread_mean    zcr_mean     zcr_std  \n",
       "0              472.807018           2692.618591  163.125244  115.239277  \n",
       "1             1310.964912           1230.997277  170.899800  113.006177  \n",
       "2             1031.578947           1006.524430   81.420967   69.912374  \n",
       "3             1332.456140            912.472403  148.232375   65.696249  \n",
       "4             1482.894737           4637.320310  225.845447  110.317563  \n",
       "..                    ...                   ...         ...         ...  \n",
       "75             838.157895            304.780476   83.854556   86.154190  \n",
       "76             322.368421           1445.712302  192.579308  185.982475  \n",
       "77             128.947368            505.899176  111.885235   75.096457  \n",
       "78            1418.421053           1286.331697  233.868235  129.624790  \n",
       "79            1074.561404            666.447737  131.552930  109.372880  \n",
       "\n",
       "[80 rows x 61 columns]"
      ]
     },
     "execution_count": 1005,
     "metadata": {},
     "output_type": "execute_result"
    }
   ],
   "source": [
    "y = df_train['category']\n",
    "\n",
    "x = df_train.drop(['music_id','category'], axis=1)\n",
    "\n",
    "ids_test = df_test['music_id']\n",
    "df_test = df_test.drop(['music_id'], axis=1)\n",
    "\n",
    "\n",
    "y = y.to_frame()\n",
    "\n",
    "df_test\n"
   ]
  },
  {
   "cell_type": "code",
   "execution_count": 1006,
   "metadata": {},
   "outputs": [
    {
     "name": "stdout",
     "output_type": "stream",
     "text": [
      "------------chroma_0_mean----------- \n",
      "\n",
      "Pourcentage de valeurs manquantes ou null 0.9400000000000001\n",
      "\n",
      " ------------------------------------ \n",
      "\n",
      "------------chroma_0_std----------- \n",
      "\n",
      "Pourcentage de valeurs manquantes ou null 0.9400000000000001\n",
      "\n",
      " ------------------------------------ \n",
      "\n",
      "------------chroma_10_mean----------- \n",
      "\n",
      "Pourcentage de valeurs manquantes ou null 0.9400000000000001\n",
      "\n",
      " ------------------------------------ \n",
      "\n",
      "------------chroma_10_std----------- \n",
      "\n",
      "Pourcentage de valeurs manquantes ou null 0.9400000000000001\n",
      "\n",
      " ------------------------------------ \n",
      "\n",
      "------------chroma_11_mean----------- \n",
      "\n",
      "Pourcentage de valeurs manquantes ou null 0.62\n",
      "\n",
      " ------------------------------------ \n",
      "\n",
      "------------chroma_11_std----------- \n",
      "\n",
      "Pourcentage de valeurs manquantes ou null 0.0\n",
      "\n",
      " ------------------------------------ \n",
      "\n",
      "------------chroma_1_mean----------- \n",
      "\n",
      "Pourcentage de valeurs manquantes ou null 0.62\n",
      "\n",
      " ------------------------------------ \n",
      "\n",
      "------------chroma_1_std----------- \n",
      "\n",
      "Pourcentage de valeurs manquantes ou null 0.31\n",
      "\n",
      " ------------------------------------ \n",
      "\n",
      "------------chroma_2_mean----------- \n",
      "\n",
      "Pourcentage de valeurs manquantes ou null 1.25\n",
      "\n",
      " ------------------------------------ \n",
      "\n",
      "------------chroma_2_std----------- \n",
      "\n",
      "Pourcentage de valeurs manquantes ou null 0.9400000000000001\n",
      "\n",
      " ------------------------------------ \n",
      "\n",
      "------------chroma_3_mean----------- \n",
      "\n",
      "Pourcentage de valeurs manquantes ou null 0.62\n",
      "\n",
      " ------------------------------------ \n",
      "\n",
      "------------chroma_3_std----------- \n",
      "\n",
      "Pourcentage de valeurs manquantes ou null 2.19\n",
      "\n",
      " ------------------------------------ \n",
      "\n",
      "------------chroma_4_mean----------- \n",
      "\n",
      "Pourcentage de valeurs manquantes ou null 1.25\n",
      "\n",
      " ------------------------------------ \n",
      "\n",
      "------------chroma_4_std----------- \n",
      "\n",
      "Pourcentage de valeurs manquantes ou null 1.25\n",
      "\n",
      " ------------------------------------ \n",
      "\n",
      "------------chroma_5_mean----------- \n",
      "\n",
      "Pourcentage de valeurs manquantes ou null 0.31\n",
      "\n",
      " ------------------------------------ \n",
      "\n",
      "------------chroma_5_std----------- \n",
      "\n",
      "Pourcentage de valeurs manquantes ou null 0.62\n",
      "\n",
      " ------------------------------------ \n",
      "\n",
      "------------chroma_6_mean----------- \n",
      "\n",
      "Pourcentage de valeurs manquantes ou null 0.62\n",
      "\n",
      " ------------------------------------ \n",
      "\n",
      "------------chroma_6_std----------- \n",
      "\n",
      "Pourcentage de valeurs manquantes ou null 0.62\n",
      "\n",
      " ------------------------------------ \n",
      "\n",
      "------------chroma_7_mean----------- \n",
      "\n",
      "Pourcentage de valeurs manquantes ou null 0.62\n",
      "\n",
      " ------------------------------------ \n",
      "\n",
      "------------chroma_7_std----------- \n",
      "\n",
      "Pourcentage de valeurs manquantes ou null 1.8800000000000001\n",
      "\n",
      " ------------------------------------ \n",
      "\n",
      "------------chroma_8_mean----------- \n",
      "\n",
      "Pourcentage de valeurs manquantes ou null 0.62\n",
      "\n",
      " ------------------------------------ \n",
      "\n",
      "------------chroma_8_std----------- \n",
      "\n",
      "Pourcentage de valeurs manquantes ou null 0.9400000000000001\n",
      "\n",
      " ------------------------------------ \n",
      "\n",
      "------------chroma_9_mean----------- \n",
      "\n",
      "Pourcentage de valeurs manquantes ou null 1.25\n",
      "\n",
      " ------------------------------------ \n",
      "\n",
      "------------chroma_9_std----------- \n",
      "\n",
      "Pourcentage de valeurs manquantes ou null 0.9400000000000001\n",
      "\n",
      " ------------------------------------ \n",
      "\n",
      "------------chroma_centroid_mean----------- \n",
      "\n",
      "Pourcentage de valeurs manquantes ou null 0.62\n",
      "\n",
      " ------------------------------------ \n",
      "\n",
      "------------chroma_flux_mean----------- \n",
      "\n",
      "Pourcentage de valeurs manquantes ou null 1.5599999999999998\n",
      "\n",
      " ------------------------------------ \n",
      "\n",
      "------------chroma_max----------- \n",
      "\n",
      "Pourcentage de valeurs manquantes ou null 0.62\n",
      "\n",
      " ------------------------------------ \n",
      "\n",
      "------------chroma_min----------- \n",
      "\n",
      "Pourcentage de valeurs manquantes ou null 2.19\n",
      "\n",
      " ------------------------------------ \n",
      "\n",
      "------------chroma_spread_mean----------- \n",
      "\n",
      "Pourcentage de valeurs manquantes ou null 0.62\n",
      "\n",
      " ------------------------------------ \n",
      "\n",
      "------------mfcc_10_mean----------- \n",
      "\n",
      "Pourcentage de valeurs manquantes ou null 0.9400000000000001\n",
      "\n",
      " ------------------------------------ \n",
      "\n",
      "------------mfcc_10_std----------- \n",
      "\n",
      "Pourcentage de valeurs manquantes ou null 0.62\n",
      "\n",
      " ------------------------------------ \n",
      "\n",
      "------------mfcc_11_mean----------- \n",
      "\n",
      "Pourcentage de valeurs manquantes ou null 0.62\n",
      "\n",
      " ------------------------------------ \n",
      "\n",
      "------------mfcc_11_std----------- \n",
      "\n",
      "Pourcentage de valeurs manquantes ou null 0.31\n",
      "\n",
      " ------------------------------------ \n",
      "\n",
      "------------mfcc_12_mean----------- \n",
      "\n",
      "Pourcentage de valeurs manquantes ou null 1.8800000000000001\n",
      "\n",
      " ------------------------------------ \n",
      "\n",
      "------------mfcc_12_std----------- \n",
      "\n",
      "Pourcentage de valeurs manquantes ou null 1.25\n",
      "\n",
      " ------------------------------------ \n",
      "\n",
      "------------mfcc_13_mean----------- \n",
      "\n",
      "Pourcentage de valeurs manquantes ou null 0.31\n",
      "\n",
      " ------------------------------------ \n",
      "\n",
      "------------mfcc_13_std----------- \n",
      "\n",
      "Pourcentage de valeurs manquantes ou null 0.31\n",
      "\n",
      " ------------------------------------ \n",
      "\n",
      "------------mfcc_2_mean----------- \n",
      "\n",
      "Pourcentage de valeurs manquantes ou null 0.62\n",
      "\n",
      " ------------------------------------ \n",
      "\n",
      "------------mfcc_2_std----------- \n",
      "\n",
      "Pourcentage de valeurs manquantes ou null 2.19\n",
      "\n",
      " ------------------------------------ \n",
      "\n",
      "------------mfcc_3_mean----------- \n",
      "\n",
      "Pourcentage de valeurs manquantes ou null 0.9400000000000001\n",
      "\n",
      " ------------------------------------ \n",
      "\n",
      "------------mfcc_3_std----------- \n",
      "\n",
      "Pourcentage de valeurs manquantes ou null 1.8800000000000001\n",
      "\n",
      " ------------------------------------ \n",
      "\n",
      "------------mfcc_4_mean----------- \n",
      "\n",
      "Pourcentage de valeurs manquantes ou null 1.25\n",
      "\n",
      " ------------------------------------ \n",
      "\n",
      "------------mfcc_4_std----------- \n",
      "\n",
      "Pourcentage de valeurs manquantes ou null 1.8800000000000001\n",
      "\n",
      " ------------------------------------ \n",
      "\n",
      "------------mfcc_5_mean----------- \n",
      "\n",
      "Pourcentage de valeurs manquantes ou null 0.9400000000000001\n",
      "\n",
      " ------------------------------------ \n",
      "\n",
      "------------mfcc_5_std----------- \n",
      "\n",
      "Pourcentage de valeurs manquantes ou null 0.9400000000000001\n",
      "\n",
      " ------------------------------------ \n",
      "\n",
      "------------mfcc_6_mean----------- \n",
      "\n",
      "Pourcentage de valeurs manquantes ou null 1.25\n",
      "\n",
      " ------------------------------------ \n",
      "\n",
      "------------mfcc_6_std----------- \n",
      "\n",
      "Pourcentage de valeurs manquantes ou null 0.31\n",
      "\n",
      " ------------------------------------ \n",
      "\n",
      "------------mfcc_7_mean----------- \n",
      "\n",
      "Pourcentage de valeurs manquantes ou null 0.9400000000000001\n",
      "\n",
      " ------------------------------------ \n",
      "\n",
      "------------mfcc_7_std----------- \n",
      "\n",
      "Pourcentage de valeurs manquantes ou null 0.62\n",
      "\n",
      " ------------------------------------ \n",
      "\n",
      "------------mfcc_8_mean----------- \n",
      "\n",
      "Pourcentage de valeurs manquantes ou null 0.62\n",
      "\n",
      " ------------------------------------ \n",
      "\n",
      "------------mfcc_8_std----------- \n",
      "\n",
      "Pourcentage de valeurs manquantes ou null 0.62\n",
      "\n",
      " ------------------------------------ \n",
      "\n",
      "------------mfcc_9_mean----------- \n",
      "\n",
      "Pourcentage de valeurs manquantes ou null 1.8800000000000001\n",
      "\n",
      " ------------------------------------ \n",
      "\n",
      "------------mfcc_9_std----------- \n",
      "\n",
      "Pourcentage de valeurs manquantes ou null 0.9400000000000001\n",
      "\n",
      " ------------------------------------ \n",
      "\n",
      "------------onset_rate----------- \n",
      "\n",
      "Pourcentage de valeurs manquantes ou null 0.31\n",
      "\n",
      " ------------------------------------ \n",
      "\n",
      "------------spectral_centroid_mean----------- \n",
      "\n",
      "Pourcentage de valeurs manquantes ou null 0.62\n",
      "\n",
      " ------------------------------------ \n",
      "\n",
      "------------spectral_decrease_mean----------- \n",
      "\n",
      "Pourcentage de valeurs manquantes ou null 1.25\n",
      "\n",
      " ------------------------------------ \n",
      "\n",
      "------------spectral_flux_mean----------- \n",
      "\n",
      "Pourcentage de valeurs manquantes ou null 1.25\n",
      "\n",
      " ------------------------------------ \n",
      "\n",
      "------------spectral_rolloff_mean----------- \n",
      "\n",
      "Pourcentage de valeurs manquantes ou null 0.0\n",
      "\n",
      " ------------------------------------ \n",
      "\n",
      "------------spectral_spread_mean----------- \n",
      "\n",
      "Pourcentage de valeurs manquantes ou null 1.25\n",
      "\n",
      " ------------------------------------ \n",
      "\n",
      "------------zcr_mean----------- \n",
      "\n",
      "Pourcentage de valeurs manquantes ou null 1.25\n",
      "\n",
      " ------------------------------------ \n",
      "\n",
      "------------zcr_std----------- \n",
      "\n",
      "Pourcentage de valeurs manquantes ou null 0.9400000000000001\n",
      "\n",
      " ------------------------------------ \n",
      "\n"
     ]
    },
    {
     "data": {
      "text/plain": [
       "['chroma_11_std', 'spectral_rolloff_mean']"
      ]
     },
     "execution_count": 1006,
     "metadata": {},
     "output_type": "execute_result"
    }
   ],
   "source": [
    "colonne_sans_nan = []\n",
    "\n",
    "\n",
    "\n",
    "for col_name in x.columns:\n",
    "    number_of_isna_rows = x[col_name].isnull().sum()\n",
    "\n",
    "    if number_of_isna_rows == 0:\n",
    "        colonne_sans_nan.append(col_name)\n",
    "\n",
    "    perc_of_nan_values = x[col_name].isna().mean().round(4) * 100\n",
    "    print('------------' + col_name + '----------- \\n')\n",
    "    print('Pourcentage de valeurs manquantes ou null', perc_of_nan_values)\n",
    "    print('\\n ------------------------------------ \\n')\n",
    "\n",
    "colonne_sans_nan"
   ]
  },
  {
   "cell_type": "markdown",
   "metadata": {
    "pycharm": {
     "name": "#%% md\n"
    }
   },
   "source": [
    "On constate que seules les features chroma_11_std et spectral_rolloff_mean n'ont aucune valeur manquante"
   ]
  },
  {
   "cell_type": "code",
   "execution_count": 1007,
   "metadata": {
    "pycharm": {
     "name": "#%%\n"
    }
   },
   "outputs": [
    {
     "data": {
      "text/plain": [
       "chroma_0_mean            3\n",
       "chroma_0_std             3\n",
       "chroma_10_mean           3\n",
       "chroma_10_std            3\n",
       "chroma_11_mean           2\n",
       "                        ..\n",
       "spectral_flux_mean       4\n",
       "spectral_rolloff_mean    0\n",
       "spectral_spread_mean     4\n",
       "zcr_mean                 4\n",
       "zcr_std                  3\n",
       "Length: 61, dtype: int64"
      ]
     },
     "execution_count": 1007,
     "metadata": {},
     "output_type": "execute_result"
    }
   ],
   "source": [
    "x.isna().sum()"
   ]
  },
  {
   "cell_type": "code",
   "execution_count": 1008,
   "metadata": {},
   "outputs": [
    {
     "data": {
      "text/plain": [
       "0.440625"
      ]
     },
     "execution_count": 1008,
     "metadata": {},
     "output_type": "execute_result"
    }
   ],
   "source": [
    "x.isnull().any(axis = 1).sum() / len(x)"
   ]
  },
  {
   "cell_type": "markdown",
   "metadata": {},
   "source": [
    "Malgré le faible taux de valeur manquante sur chaque feature, on voit que 44% des échantillons contiennent au moins 1 valeur manquante.\n",
    "On ne peut donc pas supprimer les échantillons incomplets.\n",
    "Nous allons donc utiliser une méthode pour compléter ces valeurs."
   ]
  },
  {
   "cell_type": "markdown",
   "metadata": {
    "pycharm": {
     "name": "#%% md\n"
    }
   },
   "source": [
    "## Traitement des NAN - KNN Imputer\n"
   ]
  },
  {
   "cell_type": "code",
   "execution_count": 1009,
   "metadata": {},
   "outputs": [],
   "source": [
    "imputer = KNNImputer(n_neighbors=2)\n",
    "\n",
    "x = pd.DataFrame(imputer.fit_transform(x), columns=x.columns)\n",
    "\n",
    "df_test = pd.DataFrame(imputer.fit_transform(df_test), columns=df_test.columns)\n"
   ]
  },
  {
   "cell_type": "code",
   "execution_count": 1010,
   "metadata": {},
   "outputs": [
    {
     "data": {
      "text/plain": [
       "0"
      ]
     },
     "execution_count": 1010,
     "metadata": {},
     "output_type": "execute_result"
    }
   ],
   "source": [
    "x.isna().sum().sum()"
   ]
  },
  {
   "cell_type": "code",
   "execution_count": 1011,
   "metadata": {},
   "outputs": [
    {
     "data": {
      "text/html": [
       "<div>\n",
       "<style scoped>\n",
       "    .dataframe tbody tr th:only-of-type {\n",
       "        vertical-align: middle;\n",
       "    }\n",
       "\n",
       "    .dataframe tbody tr th {\n",
       "        vertical-align: top;\n",
       "    }\n",
       "\n",
       "    .dataframe thead th {\n",
       "        text-align: right;\n",
       "    }\n",
       "</style>\n",
       "<table border=\"1\" class=\"dataframe\">\n",
       "  <thead>\n",
       "    <tr style=\"text-align: right;\">\n",
       "      <th></th>\n",
       "      <th>chroma_0_mean</th>\n",
       "      <th>chroma_0_std</th>\n",
       "      <th>chroma_10_mean</th>\n",
       "      <th>chroma_10_std</th>\n",
       "      <th>chroma_11_mean</th>\n",
       "      <th>chroma_11_std</th>\n",
       "      <th>chroma_1_mean</th>\n",
       "      <th>chroma_1_std</th>\n",
       "      <th>chroma_2_mean</th>\n",
       "      <th>chroma_2_std</th>\n",
       "      <th>...</th>\n",
       "      <th>mfcc_9_mean</th>\n",
       "      <th>mfcc_9_std</th>\n",
       "      <th>onset_rate</th>\n",
       "      <th>spectral_centroid_mean</th>\n",
       "      <th>spectral_decrease_mean</th>\n",
       "      <th>spectral_flux_mean</th>\n",
       "      <th>spectral_rolloff_mean</th>\n",
       "      <th>spectral_spread_mean</th>\n",
       "      <th>zcr_mean</th>\n",
       "      <th>zcr_std</th>\n",
       "    </tr>\n",
       "  </thead>\n",
       "  <tbody>\n",
       "    <tr>\n",
       "      <th>0</th>\n",
       "      <td>866.507629</td>\n",
       "      <td>1585.437134</td>\n",
       "      <td>415.300842</td>\n",
       "      <td>710.790771</td>\n",
       "      <td>683.865845</td>\n",
       "      <td>1011.552856</td>\n",
       "      <td>473.484100</td>\n",
       "      <td>744.247925</td>\n",
       "      <td>304.914825</td>\n",
       "      <td>363.313141</td>\n",
       "      <td>...</td>\n",
       "      <td>0.156972</td>\n",
       "      <td>0.647313</td>\n",
       "      <td>3.631719</td>\n",
       "      <td>27.621587</td>\n",
       "      <td>-0.186330</td>\n",
       "      <td>1.962404</td>\n",
       "      <td>1525.877193</td>\n",
       "      <td>1579.021838</td>\n",
       "      <td>190.907164</td>\n",
       "      <td>149.482276</td>\n",
       "    </tr>\n",
       "    <tr>\n",
       "      <th>1</th>\n",
       "      <td>832.956909</td>\n",
       "      <td>2140.568115</td>\n",
       "      <td>287.584564</td>\n",
       "      <td>281.795380</td>\n",
       "      <td>405.467224</td>\n",
       "      <td>754.076904</td>\n",
       "      <td>1061.359863</td>\n",
       "      <td>2263.894531</td>\n",
       "      <td>2502.509033</td>\n",
       "      <td>6418.287109</td>\n",
       "      <td>...</td>\n",
       "      <td>-0.515713</td>\n",
       "      <td>0.575588</td>\n",
       "      <td>6.230564</td>\n",
       "      <td>38.780628</td>\n",
       "      <td>-0.013198</td>\n",
       "      <td>2.139456</td>\n",
       "      <td>1740.789474</td>\n",
       "      <td>1941.791036</td>\n",
       "      <td>257.913214</td>\n",
       "      <td>171.257592</td>\n",
       "    </tr>\n",
       "    <tr>\n",
       "      <th>2</th>\n",
       "      <td>331.544586</td>\n",
       "      <td>553.657532</td>\n",
       "      <td>260.467499</td>\n",
       "      <td>327.618225</td>\n",
       "      <td>283.580139</td>\n",
       "      <td>312.385986</td>\n",
       "      <td>204.369690</td>\n",
       "      <td>225.922531</td>\n",
       "      <td>286.470215</td>\n",
       "      <td>396.768219</td>\n",
       "      <td>...</td>\n",
       "      <td>-0.002418</td>\n",
       "      <td>0.837297</td>\n",
       "      <td>4.264771</td>\n",
       "      <td>86.371120</td>\n",
       "      <td>-0.155013</td>\n",
       "      <td>1.336048</td>\n",
       "      <td>5243.859649</td>\n",
       "      <td>15422.032531</td>\n",
       "      <td>508.122337</td>\n",
       "      <td>296.141124</td>\n",
       "    </tr>\n",
       "    <tr>\n",
       "      <th>3</th>\n",
       "      <td>454.521851</td>\n",
       "      <td>1170.188110</td>\n",
       "      <td>601.021790</td>\n",
       "      <td>1035.021240</td>\n",
       "      <td>721.523865</td>\n",
       "      <td>1861.131836</td>\n",
       "      <td>350.991791</td>\n",
       "      <td>495.942383</td>\n",
       "      <td>432.551971</td>\n",
       "      <td>563.184021</td>\n",
       "      <td>...</td>\n",
       "      <td>0.257047</td>\n",
       "      <td>0.702976</td>\n",
       "      <td>4.064860</td>\n",
       "      <td>16.844325</td>\n",
       "      <td>-0.287745</td>\n",
       "      <td>2.207420</td>\n",
       "      <td>988.596491</td>\n",
       "      <td>999.051613</td>\n",
       "      <td>144.638374</td>\n",
       "      <td>142.303996</td>\n",
       "    </tr>\n",
       "    <tr>\n",
       "      <th>4</th>\n",
       "      <td>180.331635</td>\n",
       "      <td>245.818512</td>\n",
       "      <td>388.924744</td>\n",
       "      <td>917.082581</td>\n",
       "      <td>186.856262</td>\n",
       "      <td>192.765305</td>\n",
       "      <td>212.240402</td>\n",
       "      <td>370.108063</td>\n",
       "      <td>170.875610</td>\n",
       "      <td>225.814850</td>\n",
       "      <td>...</td>\n",
       "      <td>0.212848</td>\n",
       "      <td>0.487534</td>\n",
       "      <td>4.164816</td>\n",
       "      <td>5.764473</td>\n",
       "      <td>-0.626706</td>\n",
       "      <td>1.263404</td>\n",
       "      <td>21.491228</td>\n",
       "      <td>735.051431</td>\n",
       "      <td>181.818928</td>\n",
       "      <td>106.604597</td>\n",
       "    </tr>\n",
       "  </tbody>\n",
       "</table>\n",
       "<p>5 rows × 61 columns</p>\n",
       "</div>"
      ],
      "text/plain": [
       "   chroma_0_mean  chroma_0_std  chroma_10_mean  chroma_10_std  chroma_11_mean  \\\n",
       "0     866.507629   1585.437134      415.300842     710.790771      683.865845   \n",
       "1     832.956909   2140.568115      287.584564     281.795380      405.467224   \n",
       "2     331.544586    553.657532      260.467499     327.618225      283.580139   \n",
       "3     454.521851   1170.188110      601.021790    1035.021240      721.523865   \n",
       "4     180.331635    245.818512      388.924744     917.082581      186.856262   \n",
       "\n",
       "   chroma_11_std  chroma_1_mean  chroma_1_std  chroma_2_mean  chroma_2_std  \\\n",
       "0    1011.552856     473.484100    744.247925     304.914825    363.313141   \n",
       "1     754.076904    1061.359863   2263.894531    2502.509033   6418.287109   \n",
       "2     312.385986     204.369690    225.922531     286.470215    396.768219   \n",
       "3    1861.131836     350.991791    495.942383     432.551971    563.184021   \n",
       "4     192.765305     212.240402    370.108063     170.875610    225.814850   \n",
       "\n",
       "   ...  mfcc_9_mean  mfcc_9_std  onset_rate  spectral_centroid_mean  \\\n",
       "0  ...     0.156972    0.647313    3.631719               27.621587   \n",
       "1  ...    -0.515713    0.575588    6.230564               38.780628   \n",
       "2  ...    -0.002418    0.837297    4.264771               86.371120   \n",
       "3  ...     0.257047    0.702976    4.064860               16.844325   \n",
       "4  ...     0.212848    0.487534    4.164816                5.764473   \n",
       "\n",
       "   spectral_decrease_mean  spectral_flux_mean  spectral_rolloff_mean  \\\n",
       "0               -0.186330            1.962404            1525.877193   \n",
       "1               -0.013198            2.139456            1740.789474   \n",
       "2               -0.155013            1.336048            5243.859649   \n",
       "3               -0.287745            2.207420             988.596491   \n",
       "4               -0.626706            1.263404              21.491228   \n",
       "\n",
       "   spectral_spread_mean    zcr_mean     zcr_std  \n",
       "0           1579.021838  190.907164  149.482276  \n",
       "1           1941.791036  257.913214  171.257592  \n",
       "2          15422.032531  508.122337  296.141124  \n",
       "3            999.051613  144.638374  142.303996  \n",
       "4            735.051431  181.818928  106.604597  \n",
       "\n",
       "[5 rows x 61 columns]"
      ]
     },
     "execution_count": 1011,
     "metadata": {},
     "output_type": "execute_result"
    }
   ],
   "source": [
    "x.head()"
   ]
  },
  {
   "cell_type": "markdown",
   "metadata": {},
   "source": [
    "## Détection des outliers"
   ]
  },
  {
   "cell_type": "code",
   "execution_count": 1012,
   "metadata": {},
   "outputs": [],
   "source": [
    "def outlier_function(df_train, col_name):\n",
    "    first_quartile = np.percentile(np.array(df_train[col_name].tolist()), 25)\n",
    "    third_quartile = np.percentile(np.array(df_train[col_name].tolist()), 75)\n",
    "    IQR = third_quartile - first_quartile\n",
    "    lower_limit = first_quartile-(3*IQR)\n",
    "    upper_limit = third_quartile+(3*IQR)\n",
    "    outlier_count = 0\n",
    "    valeur = []\n",
    "    for value in df_train[col_name].tolist():\n",
    "        if (value < lower_limit) | (value > upper_limit):\n",
    "            outlier_count +=1\n",
    "            valeur.append(value)\n",
    "    return lower_limit, upper_limit, outlier_count, valeur"
   ]
  },
  {
   "cell_type": "code",
   "execution_count": 1013,
   "metadata": {},
   "outputs": [],
   "source": [
    "def replace_outlier_values(df_train, col_name):\n",
    "    NOOL_mod_df_train = df_train.copy()\n",
    "\n",
    "    first_quartile = np.percentile(np.array(df_train[col_name].tolist()), 25)\n",
    "    third_quartile = np.percentile(np.array(df_train[col_name].tolist()), 75)\n",
    "    IQR = third_quartile - first_quartile\n",
    "    lower_limit = first_quartile-(3*IQR)\n",
    "    upper_limit = third_quartile+(3*IQR)\n",
    "    outlier_count = 0\n",
    "    valeur = []\n",
    "    for (index, value) in enumerate(df_train[col_name].tolist()):\n",
    "        if (value < lower_limit) | (value > upper_limit):\n",
    "            NOOL_mod_df_train.loc[index,[col_name]] = df_train[col_name].mean()\n",
    "            outlier_count +=1\n",
    "            #valeur.append(value)\n",
    "    print('NUM OF OUTLIER in ' + col_name + ' = ' + str(outlier_count))\n",
    "    return NOOL_mod_df_train\n",
    "\n",
    "def delete_outlier_values(x_original, x_train, y_train, col_name):\n",
    "\n",
    "    x_cleaned = x_train.copy()\n",
    "    y_cleaned = y_train.copy()\n",
    "\n",
    "    first_quartile = np.percentile(np.array(x_original[col_name].tolist()), 25)\n",
    "    third_quartile = np.percentile(np.array(x_original[col_name].tolist()), 75)\n",
    "    IQR = third_quartile - first_quartile\n",
    "    lower_limit = first_quartile-(3*IQR)\n",
    "    upper_limit = third_quartile+(3*IQR)\n",
    "    outlier_count = 0\n",
    "    valeur = []\n",
    "    for index, row in x_train.iterrows():\n",
    "        if (row[col_name] < lower_limit) | (row[col_name] > upper_limit):\n",
    "            x_cleaned.drop(index, inplace=True)\n",
    "            y_cleaned.drop(index, inplace=True)\n",
    "            outlier_count +=1\n",
    "    print('NUM OF OUTLIER in ' + col_name + ' = ' + str(outlier_count))\n",
    "    return x_cleaned, y_cleaned"
   ]
  },
  {
   "cell_type": "code",
   "execution_count": 1014,
   "metadata": {},
   "outputs": [
    {
     "data": {
      "text/plain": [
       "320"
      ]
     },
     "execution_count": 1014,
     "metadata": {},
     "output_type": "execute_result"
    }
   ],
   "source": [
    "len(x)"
   ]
  },
  {
   "cell_type": "markdown",
   "metadata": {},
   "source": [
    "## Suppression des lignes contenant des outliers"
   ]
  },
  {
   "cell_type": "code",
   "execution_count": 1015,
   "metadata": {},
   "outputs": [
    {
     "name": "stdout",
     "output_type": "stream",
     "text": [
      "NUM OF OUTLIER in chroma_0_mean = 3\n",
      "NUM OF OUTLIER in chroma_0_std = 4\n",
      "NUM OF OUTLIER in chroma_10_mean = 2\n",
      "NUM OF OUTLIER in chroma_10_std = 3\n",
      "NUM OF OUTLIER in chroma_11_mean = 4\n",
      "NUM OF OUTLIER in chroma_11_std = 2\n",
      "NUM OF OUTLIER in chroma_1_mean = 1\n",
      "NUM OF OUTLIER in chroma_1_std = 2\n",
      "NUM OF OUTLIER in chroma_2_mean = 2\n",
      "NUM OF OUTLIER in chroma_2_std = 2\n",
      "NUM OF OUTLIER in chroma_3_mean = 3\n",
      "NUM OF OUTLIER in chroma_3_std = 0\n",
      "NUM OF OUTLIER in chroma_4_mean = 0\n",
      "NUM OF OUTLIER in chroma_4_std = 4\n",
      "NUM OF OUTLIER in chroma_5_mean = 1\n",
      "NUM OF OUTLIER in chroma_5_std = 3\n",
      "NUM OF OUTLIER in chroma_6_mean = 1\n",
      "NUM OF OUTLIER in chroma_6_std = 1\n",
      "NUM OF OUTLIER in chroma_7_mean = 1\n",
      "NUM OF OUTLIER in chroma_7_std = 3\n",
      "NUM OF OUTLIER in chroma_8_mean = 1\n",
      "NUM OF OUTLIER in chroma_8_std = 0\n",
      "NUM OF OUTLIER in chroma_9_mean = 1\n",
      "NUM OF OUTLIER in chroma_9_std = 2\n",
      "NUM OF OUTLIER in chroma_centroid_mean = 1\n",
      "NUM OF OUTLIER in chroma_flux_mean = 0\n",
      "NUM OF OUTLIER in chroma_max = 0\n",
      "NUM OF OUTLIER in chroma_min = 6\n",
      "NUM OF OUTLIER in chroma_spread_mean = 0\n",
      "NUM OF OUTLIER in mfcc_10_mean = 0\n",
      "NUM OF OUTLIER in mfcc_10_std = 0\n",
      "NUM OF OUTLIER in mfcc_11_mean = 0\n",
      "NUM OF OUTLIER in mfcc_11_std = 0\n",
      "NUM OF OUTLIER in mfcc_12_mean = 0\n",
      "NUM OF OUTLIER in mfcc_12_std = 1\n",
      "NUM OF OUTLIER in mfcc_13_mean = 0\n",
      "NUM OF OUTLIER in mfcc_13_std = 0\n",
      "NUM OF OUTLIER in mfcc_2_mean = 0\n",
      "NUM OF OUTLIER in mfcc_2_std = 0\n",
      "NUM OF OUTLIER in mfcc_3_mean = 0\n",
      "NUM OF OUTLIER in mfcc_3_std = 0\n",
      "NUM OF OUTLIER in mfcc_4_mean = 0\n",
      "NUM OF OUTLIER in mfcc_4_std = 0\n",
      "NUM OF OUTLIER in mfcc_5_mean = 0\n",
      "NUM OF OUTLIER in mfcc_5_std = 2\n",
      "NUM OF OUTLIER in mfcc_6_mean = 0\n",
      "NUM OF OUTLIER in mfcc_6_std = 0\n",
      "NUM OF OUTLIER in mfcc_7_mean = 0\n",
      "NUM OF OUTLIER in mfcc_7_std = 0\n",
      "NUM OF OUTLIER in mfcc_8_mean = 0\n",
      "NUM OF OUTLIER in mfcc_8_std = 1\n",
      "NUM OF OUTLIER in mfcc_9_mean = 0\n",
      "NUM OF OUTLIER in mfcc_9_std = 0\n",
      "NUM OF OUTLIER in onset_rate = 0\n",
      "NUM OF OUTLIER in spectral_centroid_mean = 0\n",
      "NUM OF OUTLIER in spectral_decrease_mean = 0\n",
      "NUM OF OUTLIER in spectral_flux_mean = 2\n",
      "NUM OF OUTLIER in spectral_rolloff_mean = 1\n",
      "NUM OF OUTLIER in spectral_spread_mean = 3\n",
      "NUM OF OUTLIER in zcr_mean = 0\n",
      "NUM OF OUTLIER in zcr_std = 1\n",
      "(256, 61) (256, 1)\n"
     ]
    }
   ],
   "source": [
    "x_original = x.copy()\n",
    "\n",
    "for col in x.columns:\n",
    "    x, y = delete_outlier_values(x_original, x, y, col)\n",
    "\n",
    "print(x.shape, y.shape)"
   ]
  },
  {
   "cell_type": "markdown",
   "metadata": {
    "scrolled": true
   },
   "source": [
    "## Normaliser les données\n",
    "Choisir une méthode de normalisation, comparer les résultats obtenus avec différentes méthodes"
   ]
  },
  {
   "cell_type": "markdown",
   "metadata": {},
   "source": [
    "# Sans scaling\n"
   ]
  },
  {
   "cell_type": "code",
   "execution_count": 845,
   "metadata": {},
   "outputs": [
    {
     "data": {
      "text/plain": [
       "0"
      ]
     },
     "execution_count": 845,
     "metadata": {},
     "output_type": "execute_result"
    }
   ],
   "source": [
    "x_scaled = x.copy()\n",
    "\n"
   ]
  },
  {
   "cell_type": "markdown",
   "metadata": {},
   "source": [
    "# StandarScaler\n",
    "https://scikit-learn.org/stable/modules/generated/sklearn.preprocessing.StandardScaler.html#sklearn.preprocessing.StandardScaler"
   ]
  },
  {
   "cell_type": "code",
   "execution_count": 1016,
   "metadata": {},
   "outputs": [
    {
     "data": {
      "text/html": [
       "<div>\n",
       "<style scoped>\n",
       "    .dataframe tbody tr th:only-of-type {\n",
       "        vertical-align: middle;\n",
       "    }\n",
       "\n",
       "    .dataframe tbody tr th {\n",
       "        vertical-align: top;\n",
       "    }\n",
       "\n",
       "    .dataframe thead th {\n",
       "        text-align: right;\n",
       "    }\n",
       "</style>\n",
       "<table border=\"1\" class=\"dataframe\">\n",
       "  <thead>\n",
       "    <tr style=\"text-align: right;\">\n",
       "      <th></th>\n",
       "      <th>chroma_0_mean</th>\n",
       "      <th>chroma_0_std</th>\n",
       "      <th>chroma_10_mean</th>\n",
       "      <th>chroma_10_std</th>\n",
       "      <th>chroma_11_mean</th>\n",
       "      <th>chroma_11_std</th>\n",
       "      <th>chroma_1_mean</th>\n",
       "      <th>chroma_1_std</th>\n",
       "      <th>chroma_2_mean</th>\n",
       "      <th>chroma_2_std</th>\n",
       "      <th>...</th>\n",
       "      <th>mfcc_9_mean</th>\n",
       "      <th>mfcc_9_std</th>\n",
       "      <th>onset_rate</th>\n",
       "      <th>spectral_centroid_mean</th>\n",
       "      <th>spectral_decrease_mean</th>\n",
       "      <th>spectral_flux_mean</th>\n",
       "      <th>spectral_rolloff_mean</th>\n",
       "      <th>spectral_spread_mean</th>\n",
       "      <th>zcr_mean</th>\n",
       "      <th>zcr_std</th>\n",
       "    </tr>\n",
       "  </thead>\n",
       "  <tbody>\n",
       "    <tr>\n",
       "      <th>0</th>\n",
       "      <td>-0.808798</td>\n",
       "      <td>-0.693971</td>\n",
       "      <td>-0.786603</td>\n",
       "      <td>-0.694526</td>\n",
       "      <td>-0.776725</td>\n",
       "      <td>-0.734491</td>\n",
       "      <td>-0.726080</td>\n",
       "      <td>-0.684360</td>\n",
       "      <td>-0.729567</td>\n",
       "      <td>-0.803574</td>\n",
       "      <td>...</td>\n",
       "      <td>-0.801459</td>\n",
       "      <td>-0.343798</td>\n",
       "      <td>1.390235</td>\n",
       "      <td>1.928691</td>\n",
       "      <td>1.059368</td>\n",
       "      <td>0.102697</td>\n",
       "      <td>-1.281666</td>\n",
       "      <td>0.492680</td>\n",
       "      <td>-0.290467</td>\n",
       "      <td>0.078817</td>\n",
       "    </tr>\n",
       "    <tr>\n",
       "      <th>1</th>\n",
       "      <td>-0.480490</td>\n",
       "      <td>-0.240280</td>\n",
       "      <td>0.015651</td>\n",
       "      <td>-0.121743</td>\n",
       "      <td>-0.091445</td>\n",
       "      <td>0.175350</td>\n",
       "      <td>0.026672</td>\n",
       "      <td>0.163549</td>\n",
       "      <td>-0.275707</td>\n",
       "      <td>-0.553058</td>\n",
       "      <td>...</td>\n",
       "      <td>0.288850</td>\n",
       "      <td>0.147874</td>\n",
       "      <td>-0.291369</td>\n",
       "      <td>-0.366918</td>\n",
       "      <td>0.625851</td>\n",
       "      <td>0.092619</td>\n",
       "      <td>0.259891</td>\n",
       "      <td>-0.387699</td>\n",
       "      <td>-0.226643</td>\n",
       "      <td>0.029842</td>\n",
       "    </tr>\n",
       "    <tr>\n",
       "      <th>2</th>\n",
       "      <td>-1.230048</td>\n",
       "      <td>-0.896317</td>\n",
       "      <td>-0.966551</td>\n",
       "      <td>-0.850576</td>\n",
       "      <td>-1.304156</td>\n",
       "      <td>-1.409333</td>\n",
       "      <td>-1.246441</td>\n",
       "      <td>-1.130951</td>\n",
       "      <td>-0.985842</td>\n",
       "      <td>-0.937339</td>\n",
       "      <td>...</td>\n",
       "      <td>-1.150528</td>\n",
       "      <td>-0.210681</td>\n",
       "      <td>-1.635468</td>\n",
       "      <td>-0.565236</td>\n",
       "      <td>-0.886931</td>\n",
       "      <td>-1.171523</td>\n",
       "      <td>-0.253962</td>\n",
       "      <td>-0.522906</td>\n",
       "      <td>-0.961198</td>\n",
       "      <td>-0.915264</td>\n",
       "    </tr>\n",
       "    <tr>\n",
       "      <th>3</th>\n",
       "      <td>-0.847950</td>\n",
       "      <td>-0.590923</td>\n",
       "      <td>-0.809352</td>\n",
       "      <td>-0.758426</td>\n",
       "      <td>0.048095</td>\n",
       "      <td>2.009681</td>\n",
       "      <td>-0.369906</td>\n",
       "      <td>0.534950</td>\n",
       "      <td>-0.108991</td>\n",
       "      <td>0.298717</td>\n",
       "      <td>...</td>\n",
       "      <td>-1.297717</td>\n",
       "      <td>1.397012</td>\n",
       "      <td>-1.191916</td>\n",
       "      <td>0.233701</td>\n",
       "      <td>-0.223903</td>\n",
       "      <td>-0.795218</td>\n",
       "      <td>0.299418</td>\n",
       "      <td>-0.579556</td>\n",
       "      <td>-0.412726</td>\n",
       "      <td>-1.007730</td>\n",
       "    </tr>\n",
       "    <tr>\n",
       "      <th>4</th>\n",
       "      <td>-0.861261</td>\n",
       "      <td>-0.768913</td>\n",
       "      <td>-0.610649</td>\n",
       "      <td>-0.662957</td>\n",
       "      <td>-0.484799</td>\n",
       "      <td>-0.668644</td>\n",
       "      <td>-0.665738</td>\n",
       "      <td>-0.642202</td>\n",
       "      <td>-0.799765</td>\n",
       "      <td>-0.822833</td>\n",
       "      <td>...</td>\n",
       "      <td>-0.771220</td>\n",
       "      <td>-0.545300</td>\n",
       "      <td>-0.251046</td>\n",
       "      <td>2.079904</td>\n",
       "      <td>0.608290</td>\n",
       "      <td>0.049273</td>\n",
       "      <td>0.576107</td>\n",
       "      <td>1.664033</td>\n",
       "      <td>0.224419</td>\n",
       "      <td>-0.029123</td>\n",
       "    </tr>\n",
       "    <tr>\n",
       "      <th>...</th>\n",
       "      <td>...</td>\n",
       "      <td>...</td>\n",
       "      <td>...</td>\n",
       "      <td>...</td>\n",
       "      <td>...</td>\n",
       "      <td>...</td>\n",
       "      <td>...</td>\n",
       "      <td>...</td>\n",
       "      <td>...</td>\n",
       "      <td>...</td>\n",
       "      <td>...</td>\n",
       "      <td>...</td>\n",
       "      <td>...</td>\n",
       "      <td>...</td>\n",
       "      <td>...</td>\n",
       "      <td>...</td>\n",
       "      <td>...</td>\n",
       "      <td>...</td>\n",
       "      <td>...</td>\n",
       "      <td>...</td>\n",
       "      <td>...</td>\n",
       "    </tr>\n",
       "    <tr>\n",
       "      <th>75</th>\n",
       "      <td>-0.372325</td>\n",
       "      <td>0.263378</td>\n",
       "      <td>-0.107140</td>\n",
       "      <td>0.315671</td>\n",
       "      <td>0.131173</td>\n",
       "      <td>2.203754</td>\n",
       "      <td>-0.194532</td>\n",
       "      <td>0.936321</td>\n",
       "      <td>-0.729065</td>\n",
       "      <td>-0.413685</td>\n",
       "      <td>...</td>\n",
       "      <td>1.944988</td>\n",
       "      <td>-0.344477</td>\n",
       "      <td>-1.138152</td>\n",
       "      <td>-1.092857</td>\n",
       "      <td>-0.539008</td>\n",
       "      <td>-0.340347</td>\n",
       "      <td>-0.609706</td>\n",
       "      <td>-0.945588</td>\n",
       "      <td>-0.941220</td>\n",
       "      <td>-0.559059</td>\n",
       "    </tr>\n",
       "    <tr>\n",
       "      <th>76</th>\n",
       "      <td>-0.610756</td>\n",
       "      <td>0.140509</td>\n",
       "      <td>-0.510828</td>\n",
       "      <td>0.100159</td>\n",
       "      <td>-0.557928</td>\n",
       "      <td>-0.277031</td>\n",
       "      <td>-0.729059</td>\n",
       "      <td>-0.384077</td>\n",
       "      <td>-0.420596</td>\n",
       "      <td>0.529944</td>\n",
       "      <td>...</td>\n",
       "      <td>-0.143949</td>\n",
       "      <td>0.034705</td>\n",
       "      <td>-0.734922</td>\n",
       "      <td>-1.311170</td>\n",
       "      <td>-2.757468</td>\n",
       "      <td>-0.117342</td>\n",
       "      <td>-1.558356</td>\n",
       "      <td>-0.258370</td>\n",
       "      <td>-0.048671</td>\n",
       "      <td>1.630313</td>\n",
       "    </tr>\n",
       "    <tr>\n",
       "      <th>77</th>\n",
       "      <td>-0.484408</td>\n",
       "      <td>-0.298381</td>\n",
       "      <td>-0.710835</td>\n",
       "      <td>-0.850565</td>\n",
       "      <td>-0.731152</td>\n",
       "      <td>-0.972062</td>\n",
       "      <td>-0.285122</td>\n",
       "      <td>-0.309748</td>\n",
       "      <td>-0.387836</td>\n",
       "      <td>-0.512712</td>\n",
       "      <td>...</td>\n",
       "      <td>1.116345</td>\n",
       "      <td>-0.887731</td>\n",
       "      <td>0.246271</td>\n",
       "      <td>-1.569527</td>\n",
       "      <td>-2.306392</td>\n",
       "      <td>-0.711923</td>\n",
       "      <td>-1.914100</td>\n",
       "      <td>-0.824448</td>\n",
       "      <td>-0.711109</td>\n",
       "      <td>-0.801570</td>\n",
       "    </tr>\n",
       "    <tr>\n",
       "      <th>78</th>\n",
       "      <td>-0.123020</td>\n",
       "      <td>-0.161008</td>\n",
       "      <td>-0.010839</td>\n",
       "      <td>-0.043925</td>\n",
       "      <td>0.199914</td>\n",
       "      <td>-0.116223</td>\n",
       "      <td>0.299463</td>\n",
       "      <td>-0.090473</td>\n",
       "      <td>2.904218</td>\n",
       "      <td>2.468237</td>\n",
       "      <td>...</td>\n",
       "      <td>-0.715284</td>\n",
       "      <td>-0.788528</td>\n",
       "      <td>0.510577</td>\n",
       "      <td>0.354245</td>\n",
       "      <td>0.802444</td>\n",
       "      <td>-0.201214</td>\n",
       "      <td>0.457526</td>\n",
       "      <td>-0.354370</td>\n",
       "      <td>0.290280</td>\n",
       "      <td>0.394311</td>\n",
       "    </tr>\n",
       "    <tr>\n",
       "      <th>79</th>\n",
       "      <td>0.412552</td>\n",
       "      <td>1.636972</td>\n",
       "      <td>-0.238016</td>\n",
       "      <td>0.240571</td>\n",
       "      <td>-0.016445</td>\n",
       "      <td>0.541736</td>\n",
       "      <td>-0.236415</td>\n",
       "      <td>0.899705</td>\n",
       "      <td>-0.809038</td>\n",
       "      <td>-0.789398</td>\n",
       "      <td>...</td>\n",
       "      <td>0.777302</td>\n",
       "      <td>2.491477</td>\n",
       "      <td>0.488209</td>\n",
       "      <td>-0.382751</td>\n",
       "      <td>0.552990</td>\n",
       "      <td>0.133577</td>\n",
       "      <td>-0.174907</td>\n",
       "      <td>-0.727745</td>\n",
       "      <td>-0.549652</td>\n",
       "      <td>-0.049841</td>\n",
       "    </tr>\n",
       "  </tbody>\n",
       "</table>\n",
       "<p>80 rows × 61 columns</p>\n",
       "</div>"
      ],
      "text/plain": [
       "    chroma_0_mean  chroma_0_std  chroma_10_mean  chroma_10_std  \\\n",
       "0       -0.808798     -0.693971       -0.786603      -0.694526   \n",
       "1       -0.480490     -0.240280        0.015651      -0.121743   \n",
       "2       -1.230048     -0.896317       -0.966551      -0.850576   \n",
       "3       -0.847950     -0.590923       -0.809352      -0.758426   \n",
       "4       -0.861261     -0.768913       -0.610649      -0.662957   \n",
       "..            ...           ...             ...            ...   \n",
       "75      -0.372325      0.263378       -0.107140       0.315671   \n",
       "76      -0.610756      0.140509       -0.510828       0.100159   \n",
       "77      -0.484408     -0.298381       -0.710835      -0.850565   \n",
       "78      -0.123020     -0.161008       -0.010839      -0.043925   \n",
       "79       0.412552      1.636972       -0.238016       0.240571   \n",
       "\n",
       "    chroma_11_mean  chroma_11_std  chroma_1_mean  chroma_1_std  chroma_2_mean  \\\n",
       "0        -0.776725      -0.734491      -0.726080     -0.684360      -0.729567   \n",
       "1        -0.091445       0.175350       0.026672      0.163549      -0.275707   \n",
       "2        -1.304156      -1.409333      -1.246441     -1.130951      -0.985842   \n",
       "3         0.048095       2.009681      -0.369906      0.534950      -0.108991   \n",
       "4        -0.484799      -0.668644      -0.665738     -0.642202      -0.799765   \n",
       "..             ...            ...            ...           ...            ...   \n",
       "75        0.131173       2.203754      -0.194532      0.936321      -0.729065   \n",
       "76       -0.557928      -0.277031      -0.729059     -0.384077      -0.420596   \n",
       "77       -0.731152      -0.972062      -0.285122     -0.309748      -0.387836   \n",
       "78        0.199914      -0.116223       0.299463     -0.090473       2.904218   \n",
       "79       -0.016445       0.541736      -0.236415      0.899705      -0.809038   \n",
       "\n",
       "    chroma_2_std  ...  mfcc_9_mean  mfcc_9_std  onset_rate  \\\n",
       "0      -0.803574  ...    -0.801459   -0.343798    1.390235   \n",
       "1      -0.553058  ...     0.288850    0.147874   -0.291369   \n",
       "2      -0.937339  ...    -1.150528   -0.210681   -1.635468   \n",
       "3       0.298717  ...    -1.297717    1.397012   -1.191916   \n",
       "4      -0.822833  ...    -0.771220   -0.545300   -0.251046   \n",
       "..           ...  ...          ...         ...         ...   \n",
       "75     -0.413685  ...     1.944988   -0.344477   -1.138152   \n",
       "76      0.529944  ...    -0.143949    0.034705   -0.734922   \n",
       "77     -0.512712  ...     1.116345   -0.887731    0.246271   \n",
       "78      2.468237  ...    -0.715284   -0.788528    0.510577   \n",
       "79     -0.789398  ...     0.777302    2.491477    0.488209   \n",
       "\n",
       "    spectral_centroid_mean  spectral_decrease_mean  spectral_flux_mean  \\\n",
       "0                 1.928691                1.059368            0.102697   \n",
       "1                -0.366918                0.625851            0.092619   \n",
       "2                -0.565236               -0.886931           -1.171523   \n",
       "3                 0.233701               -0.223903           -0.795218   \n",
       "4                 2.079904                0.608290            0.049273   \n",
       "..                     ...                     ...                 ...   \n",
       "75               -1.092857               -0.539008           -0.340347   \n",
       "76               -1.311170               -2.757468           -0.117342   \n",
       "77               -1.569527               -2.306392           -0.711923   \n",
       "78                0.354245                0.802444           -0.201214   \n",
       "79               -0.382751                0.552990            0.133577   \n",
       "\n",
       "    spectral_rolloff_mean  spectral_spread_mean  zcr_mean   zcr_std  \n",
       "0               -1.281666              0.492680 -0.290467  0.078817  \n",
       "1                0.259891             -0.387699 -0.226643  0.029842  \n",
       "2               -0.253962             -0.522906 -0.961198 -0.915264  \n",
       "3                0.299418             -0.579556 -0.412726 -1.007730  \n",
       "4                0.576107              1.664033  0.224419 -0.029123  \n",
       "..                    ...                   ...       ...       ...  \n",
       "75              -0.609706             -0.945588 -0.941220 -0.559059  \n",
       "76              -1.558356             -0.258370 -0.048671  1.630313  \n",
       "77              -1.914100             -0.824448 -0.711109 -0.801570  \n",
       "78               0.457526             -0.354370  0.290280  0.394311  \n",
       "79              -0.174907             -0.727745 -0.549652 -0.049841  \n",
       "\n",
       "[80 rows x 61 columns]"
      ]
     },
     "execution_count": 1016,
     "metadata": {},
     "output_type": "execute_result"
    }
   ],
   "source": [
    "scaler = StandardScaler()\n",
    "scaler.fit(x)\n",
    "x_scaled = pd.DataFrame(scaler.fit_transform(x), columns=x.columns)\n",
    "\n",
    "df_test = pd.DataFrame(scaler.fit_transform(df_test), columns=df_test.columns)\n",
    "\n",
    "df_test"
   ]
  },
  {
   "cell_type": "markdown",
   "metadata": {},
   "source": [
    "# MinMaxScaler\n",
    "https://scikit-learn.org/stable/modules/generated/sklearn.preprocessing.MinMaxScaler.html#sklearn.preprocessing.MinMaxScaler"
   ]
  },
  {
   "cell_type": "code",
   "execution_count": 523,
   "metadata": {},
   "outputs": [],
   "source": [
    "scaler = MinMaxScaler()\n",
    "scaler.fit(x)\n",
    "x_scaled = pd.DataFrame(scaler.fit_transform(x), columns=x.columns)"
   ]
  },
  {
   "cell_type": "markdown",
   "metadata": {},
   "source": [
    "# Robust Scaler :\n",
    "https://scikit-learn.org/stable/modules/generated/sklearn.preprocessing.RobustScaler.html\n"
   ]
  },
  {
   "cell_type": "code",
   "execution_count": 528,
   "metadata": {},
   "outputs": [],
   "source": [
    "scaler = RobustScaler()\n",
    "scaler.fit(x)\n",
    "x_scaled = pd.DataFrame(scaler.fit_transform(x), columns=x.columns)"
   ]
  },
  {
   "cell_type": "markdown",
   "metadata": {},
   "source": [
    "## Etudier l’opportunité d’une réduction de dimension\n",
    "- Tester les perfs obtenus pour différentes valeurs\n",
    "- Visualiser la variance expliquée par chaque axe\n",
    "- Justifier le nombre d’axes retenus\n",
    "\n",
    "### Boite à outils\n",
    "Analyse en composante principale : https://scikit-learn.org/stable/modules/generated/sklearn.decomposition.PCA.html"
   ]
  },
  {
   "cell_type": "markdown",
   "metadata": {},
   "source": [
    "## SANS Features selection\n"
   ]
  },
  {
   "cell_type": "code",
   "execution_count": null,
   "metadata": {},
   "outputs": [],
   "source": [
    "x_features_selected = x_scaled.copy()"
   ]
  },
  {
   "cell_type": "markdown",
   "metadata": {},
   "source": [
    "## PCA"
   ]
  },
  {
   "cell_type": "code",
   "execution_count": 79,
   "metadata": {},
   "outputs": [],
   "source": [
    "pca = PCA(n_components=20)\n",
    "# Fit du PCA sur les données d'entrée\n",
    "pca.fit(x_scaled)\n",
    "# Transformation des valeurs d'entrée des jeux de test et d'entrainement\n",
    "x_features_selected = pca.transform(x_scaled)"
   ]
  },
  {
   "cell_type": "markdown",
   "metadata": {},
   "source": [
    "Le nombre de n_components semble être autour de 20.\n",
    "On observe que la PCA nous donne des résultats plus faibles que la régularisation L1,"
   ]
  },
  {
   "cell_type": "code",
   "execution_count": 33,
   "metadata": {},
   "outputs": [],
   "source": [
    "#explained_variance_ratio = pca.explained_variance_ratio_"
   ]
  },
  {
   "cell_type": "markdown",
   "metadata": {},
   "source": [
    "## Régularisation L1 via LinearSVC\n",
    "On constate que l'utilisation de cette regularisation est efficace pour un C (invers de la force de régul.) approchant la valeur 0.1.\n",
    "\n",
    "Valeurs testées:\n",
    "\n",
    "* 0.010 => 16 features\n",
    "* 0.007 => 8 features\n",
    "* **0.1 => 47 features** - SVC acc val = environ 90%\n",
    "* **0.09 => 48 features** - SVC acc val = environ 92%\n"
   ]
  },
  {
   "cell_type": "code",
   "execution_count": 1017,
   "metadata": {},
   "outputs": [
    {
     "name": "stderr",
     "output_type": "stream",
     "text": [
      "/Users/caiuspupus/Projects/Ynov/ml-elective3/venv/lib/python3.8/site-packages/sklearn/utils/validation.py:63: DataConversionWarning: A column-vector y was passed when a 1d array was expected. Please change the shape of y to (n_samples, ), for example using ravel().\n",
      "  return f(*args, **kwargs)\n"
     ]
    },
    {
     "data": {
      "text/html": [
       "<div>\n",
       "<style scoped>\n",
       "    .dataframe tbody tr th:only-of-type {\n",
       "        vertical-align: middle;\n",
       "    }\n",
       "\n",
       "    .dataframe tbody tr th {\n",
       "        vertical-align: top;\n",
       "    }\n",
       "\n",
       "    .dataframe thead th {\n",
       "        text-align: right;\n",
       "    }\n",
       "</style>\n",
       "<table border=\"1\" class=\"dataframe\">\n",
       "  <thead>\n",
       "    <tr style=\"text-align: right;\">\n",
       "      <th></th>\n",
       "      <th>chroma_0_std</th>\n",
       "      <th>chroma_10_std</th>\n",
       "      <th>chroma_11_std</th>\n",
       "      <th>chroma_1_std</th>\n",
       "      <th>chroma_2_std</th>\n",
       "      <th>chroma_3_mean</th>\n",
       "      <th>chroma_3_std</th>\n",
       "      <th>chroma_4_mean</th>\n",
       "      <th>chroma_4_std</th>\n",
       "      <th>chroma_5_std</th>\n",
       "      <th>...</th>\n",
       "      <th>mfcc_8_mean</th>\n",
       "      <th>mfcc_8_std</th>\n",
       "      <th>mfcc_9_mean</th>\n",
       "      <th>mfcc_9_std</th>\n",
       "      <th>onset_rate</th>\n",
       "      <th>spectral_centroid_mean</th>\n",
       "      <th>spectral_decrease_mean</th>\n",
       "      <th>spectral_flux_mean</th>\n",
       "      <th>spectral_spread_mean</th>\n",
       "      <th>zcr_std</th>\n",
       "    </tr>\n",
       "  </thead>\n",
       "  <tbody>\n",
       "    <tr>\n",
       "      <th>0</th>\n",
       "      <td>-0.693971</td>\n",
       "      <td>-0.694526</td>\n",
       "      <td>-0.734491</td>\n",
       "      <td>-0.684360</td>\n",
       "      <td>-0.803574</td>\n",
       "      <td>-0.717368</td>\n",
       "      <td>-0.637541</td>\n",
       "      <td>-0.748621</td>\n",
       "      <td>-0.714711</td>\n",
       "      <td>-0.487836</td>\n",
       "      <td>...</td>\n",
       "      <td>0.943190</td>\n",
       "      <td>-0.497285</td>\n",
       "      <td>-0.801459</td>\n",
       "      <td>-0.343798</td>\n",
       "      <td>1.390235</td>\n",
       "      <td>1.928691</td>\n",
       "      <td>1.059368</td>\n",
       "      <td>0.102697</td>\n",
       "      <td>0.492680</td>\n",
       "      <td>0.078817</td>\n",
       "    </tr>\n",
       "    <tr>\n",
       "      <th>1</th>\n",
       "      <td>-0.240280</td>\n",
       "      <td>-0.121743</td>\n",
       "      <td>0.175350</td>\n",
       "      <td>0.163549</td>\n",
       "      <td>-0.553058</td>\n",
       "      <td>0.068415</td>\n",
       "      <td>0.144377</td>\n",
       "      <td>0.607030</td>\n",
       "      <td>0.888775</td>\n",
       "      <td>-0.278582</td>\n",
       "      <td>...</td>\n",
       "      <td>0.362710</td>\n",
       "      <td>-0.158113</td>\n",
       "      <td>0.288850</td>\n",
       "      <td>0.147874</td>\n",
       "      <td>-0.291369</td>\n",
       "      <td>-0.366918</td>\n",
       "      <td>0.625851</td>\n",
       "      <td>0.092619</td>\n",
       "      <td>-0.387699</td>\n",
       "      <td>0.029842</td>\n",
       "    </tr>\n",
       "    <tr>\n",
       "      <th>2</th>\n",
       "      <td>-0.896317</td>\n",
       "      <td>-0.850576</td>\n",
       "      <td>-1.409333</td>\n",
       "      <td>-1.130951</td>\n",
       "      <td>-0.937339</td>\n",
       "      <td>-0.926659</td>\n",
       "      <td>-0.777027</td>\n",
       "      <td>-1.217061</td>\n",
       "      <td>-1.078570</td>\n",
       "      <td>-0.188825</td>\n",
       "      <td>...</td>\n",
       "      <td>-1.536736</td>\n",
       "      <td>-0.477853</td>\n",
       "      <td>-1.150528</td>\n",
       "      <td>-0.210681</td>\n",
       "      <td>-1.635468</td>\n",
       "      <td>-0.565236</td>\n",
       "      <td>-0.886931</td>\n",
       "      <td>-1.171523</td>\n",
       "      <td>-0.522906</td>\n",
       "      <td>-0.915264</td>\n",
       "    </tr>\n",
       "    <tr>\n",
       "      <th>3</th>\n",
       "      <td>-0.590923</td>\n",
       "      <td>-0.758426</td>\n",
       "      <td>2.009681</td>\n",
       "      <td>0.534950</td>\n",
       "      <td>0.298717</td>\n",
       "      <td>-0.759882</td>\n",
       "      <td>-0.728578</td>\n",
       "      <td>-0.696300</td>\n",
       "      <td>-0.690034</td>\n",
       "      <td>-0.926964</td>\n",
       "      <td>...</td>\n",
       "      <td>-0.644081</td>\n",
       "      <td>0.358031</td>\n",
       "      <td>-1.297717</td>\n",
       "      <td>1.397012</td>\n",
       "      <td>-1.191916</td>\n",
       "      <td>0.233701</td>\n",
       "      <td>-0.223903</td>\n",
       "      <td>-0.795218</td>\n",
       "      <td>-0.579556</td>\n",
       "      <td>-1.007730</td>\n",
       "    </tr>\n",
       "    <tr>\n",
       "      <th>4</th>\n",
       "      <td>-0.768913</td>\n",
       "      <td>-0.662957</td>\n",
       "      <td>-0.668644</td>\n",
       "      <td>-0.642202</td>\n",
       "      <td>-0.822833</td>\n",
       "      <td>-0.610634</td>\n",
       "      <td>-0.541576</td>\n",
       "      <td>-0.611710</td>\n",
       "      <td>-0.400727</td>\n",
       "      <td>-0.521681</td>\n",
       "      <td>...</td>\n",
       "      <td>0.352071</td>\n",
       "      <td>-0.685006</td>\n",
       "      <td>-0.771220</td>\n",
       "      <td>-0.545300</td>\n",
       "      <td>-0.251046</td>\n",
       "      <td>2.079904</td>\n",
       "      <td>0.608290</td>\n",
       "      <td>0.049273</td>\n",
       "      <td>1.664033</td>\n",
       "      <td>-0.029123</td>\n",
       "    </tr>\n",
       "    <tr>\n",
       "      <th>...</th>\n",
       "      <td>...</td>\n",
       "      <td>...</td>\n",
       "      <td>...</td>\n",
       "      <td>...</td>\n",
       "      <td>...</td>\n",
       "      <td>...</td>\n",
       "      <td>...</td>\n",
       "      <td>...</td>\n",
       "      <td>...</td>\n",
       "      <td>...</td>\n",
       "      <td>...</td>\n",
       "      <td>...</td>\n",
       "      <td>...</td>\n",
       "      <td>...</td>\n",
       "      <td>...</td>\n",
       "      <td>...</td>\n",
       "      <td>...</td>\n",
       "      <td>...</td>\n",
       "      <td>...</td>\n",
       "      <td>...</td>\n",
       "      <td>...</td>\n",
       "    </tr>\n",
       "    <tr>\n",
       "      <th>75</th>\n",
       "      <td>0.263378</td>\n",
       "      <td>0.315671</td>\n",
       "      <td>2.203754</td>\n",
       "      <td>0.936321</td>\n",
       "      <td>-0.413685</td>\n",
       "      <td>-0.815384</td>\n",
       "      <td>-0.675661</td>\n",
       "      <td>-0.685848</td>\n",
       "      <td>-0.400960</td>\n",
       "      <td>0.050637</td>\n",
       "      <td>...</td>\n",
       "      <td>0.091219</td>\n",
       "      <td>-0.195960</td>\n",
       "      <td>1.944988</td>\n",
       "      <td>-0.344477</td>\n",
       "      <td>-1.138152</td>\n",
       "      <td>-1.092857</td>\n",
       "      <td>-0.539008</td>\n",
       "      <td>-0.340347</td>\n",
       "      <td>-0.945588</td>\n",
       "      <td>-0.559059</td>\n",
       "    </tr>\n",
       "    <tr>\n",
       "      <th>76</th>\n",
       "      <td>0.140509</td>\n",
       "      <td>0.100159</td>\n",
       "      <td>-0.277031</td>\n",
       "      <td>-0.384077</td>\n",
       "      <td>0.529944</td>\n",
       "      <td>-0.543032</td>\n",
       "      <td>0.276390</td>\n",
       "      <td>-0.609922</td>\n",
       "      <td>-0.048146</td>\n",
       "      <td>-0.303507</td>\n",
       "      <td>...</td>\n",
       "      <td>-0.264924</td>\n",
       "      <td>1.360150</td>\n",
       "      <td>-0.143949</td>\n",
       "      <td>0.034705</td>\n",
       "      <td>-0.734922</td>\n",
       "      <td>-1.311170</td>\n",
       "      <td>-2.757468</td>\n",
       "      <td>-0.117342</td>\n",
       "      <td>-0.258370</td>\n",
       "      <td>1.630313</td>\n",
       "    </tr>\n",
       "    <tr>\n",
       "      <th>77</th>\n",
       "      <td>-0.298381</td>\n",
       "      <td>-0.850565</td>\n",
       "      <td>-0.972062</td>\n",
       "      <td>-0.309748</td>\n",
       "      <td>-0.512712</td>\n",
       "      <td>-0.580459</td>\n",
       "      <td>-0.617718</td>\n",
       "      <td>-0.746946</td>\n",
       "      <td>-0.774750</td>\n",
       "      <td>-0.766781</td>\n",
       "      <td>...</td>\n",
       "      <td>1.545420</td>\n",
       "      <td>-0.762984</td>\n",
       "      <td>1.116345</td>\n",
       "      <td>-0.887731</td>\n",
       "      <td>0.246271</td>\n",
       "      <td>-1.569527</td>\n",
       "      <td>-2.306392</td>\n",
       "      <td>-0.711923</td>\n",
       "      <td>-0.824448</td>\n",
       "      <td>-0.801570</td>\n",
       "    </tr>\n",
       "    <tr>\n",
       "      <th>78</th>\n",
       "      <td>-0.161008</td>\n",
       "      <td>-0.043925</td>\n",
       "      <td>-0.116223</td>\n",
       "      <td>-0.090473</td>\n",
       "      <td>2.468237</td>\n",
       "      <td>1.384732</td>\n",
       "      <td>0.393940</td>\n",
       "      <td>0.393781</td>\n",
       "      <td>0.349405</td>\n",
       "      <td>0.513954</td>\n",
       "      <td>...</td>\n",
       "      <td>-0.803575</td>\n",
       "      <td>-0.747269</td>\n",
       "      <td>-0.715284</td>\n",
       "      <td>-0.788528</td>\n",
       "      <td>0.510577</td>\n",
       "      <td>0.354245</td>\n",
       "      <td>0.802444</td>\n",
       "      <td>-0.201214</td>\n",
       "      <td>-0.354370</td>\n",
       "      <td>0.394311</td>\n",
       "    </tr>\n",
       "    <tr>\n",
       "      <th>79</th>\n",
       "      <td>1.636972</td>\n",
       "      <td>0.240571</td>\n",
       "      <td>0.541736</td>\n",
       "      <td>0.899705</td>\n",
       "      <td>-0.789398</td>\n",
       "      <td>-0.158745</td>\n",
       "      <td>0.390713</td>\n",
       "      <td>-0.631978</td>\n",
       "      <td>-0.134480</td>\n",
       "      <td>-0.123498</td>\n",
       "      <td>...</td>\n",
       "      <td>-0.251706</td>\n",
       "      <td>2.381485</td>\n",
       "      <td>0.777302</td>\n",
       "      <td>2.491477</td>\n",
       "      <td>0.488209</td>\n",
       "      <td>-0.382751</td>\n",
       "      <td>0.552990</td>\n",
       "      <td>0.133577</td>\n",
       "      <td>-0.727745</td>\n",
       "      <td>-0.049841</td>\n",
       "    </tr>\n",
       "  </tbody>\n",
       "</table>\n",
       "<p>80 rows × 46 columns</p>\n",
       "</div>"
      ],
      "text/plain": [
       "    chroma_0_std  chroma_10_std  chroma_11_std  chroma_1_std  chroma_2_std  \\\n",
       "0      -0.693971      -0.694526      -0.734491     -0.684360     -0.803574   \n",
       "1      -0.240280      -0.121743       0.175350      0.163549     -0.553058   \n",
       "2      -0.896317      -0.850576      -1.409333     -1.130951     -0.937339   \n",
       "3      -0.590923      -0.758426       2.009681      0.534950      0.298717   \n",
       "4      -0.768913      -0.662957      -0.668644     -0.642202     -0.822833   \n",
       "..           ...            ...            ...           ...           ...   \n",
       "75      0.263378       0.315671       2.203754      0.936321     -0.413685   \n",
       "76      0.140509       0.100159      -0.277031     -0.384077      0.529944   \n",
       "77     -0.298381      -0.850565      -0.972062     -0.309748     -0.512712   \n",
       "78     -0.161008      -0.043925      -0.116223     -0.090473      2.468237   \n",
       "79      1.636972       0.240571       0.541736      0.899705     -0.789398   \n",
       "\n",
       "    chroma_3_mean  chroma_3_std  chroma_4_mean  chroma_4_std  chroma_5_std  \\\n",
       "0       -0.717368     -0.637541      -0.748621     -0.714711     -0.487836   \n",
       "1        0.068415      0.144377       0.607030      0.888775     -0.278582   \n",
       "2       -0.926659     -0.777027      -1.217061     -1.078570     -0.188825   \n",
       "3       -0.759882     -0.728578      -0.696300     -0.690034     -0.926964   \n",
       "4       -0.610634     -0.541576      -0.611710     -0.400727     -0.521681   \n",
       "..            ...           ...            ...           ...           ...   \n",
       "75      -0.815384     -0.675661      -0.685848     -0.400960      0.050637   \n",
       "76      -0.543032      0.276390      -0.609922     -0.048146     -0.303507   \n",
       "77      -0.580459     -0.617718      -0.746946     -0.774750     -0.766781   \n",
       "78       1.384732      0.393940       0.393781      0.349405      0.513954   \n",
       "79      -0.158745      0.390713      -0.631978     -0.134480     -0.123498   \n",
       "\n",
       "    ...  mfcc_8_mean  mfcc_8_std  mfcc_9_mean  mfcc_9_std  onset_rate  \\\n",
       "0   ...     0.943190   -0.497285    -0.801459   -0.343798    1.390235   \n",
       "1   ...     0.362710   -0.158113     0.288850    0.147874   -0.291369   \n",
       "2   ...    -1.536736   -0.477853    -1.150528   -0.210681   -1.635468   \n",
       "3   ...    -0.644081    0.358031    -1.297717    1.397012   -1.191916   \n",
       "4   ...     0.352071   -0.685006    -0.771220   -0.545300   -0.251046   \n",
       "..  ...          ...         ...          ...         ...         ...   \n",
       "75  ...     0.091219   -0.195960     1.944988   -0.344477   -1.138152   \n",
       "76  ...    -0.264924    1.360150    -0.143949    0.034705   -0.734922   \n",
       "77  ...     1.545420   -0.762984     1.116345   -0.887731    0.246271   \n",
       "78  ...    -0.803575   -0.747269    -0.715284   -0.788528    0.510577   \n",
       "79  ...    -0.251706    2.381485     0.777302    2.491477    0.488209   \n",
       "\n",
       "    spectral_centroid_mean  spectral_decrease_mean  spectral_flux_mean  \\\n",
       "0                 1.928691                1.059368            0.102697   \n",
       "1                -0.366918                0.625851            0.092619   \n",
       "2                -0.565236               -0.886931           -1.171523   \n",
       "3                 0.233701               -0.223903           -0.795218   \n",
       "4                 2.079904                0.608290            0.049273   \n",
       "..                     ...                     ...                 ...   \n",
       "75               -1.092857               -0.539008           -0.340347   \n",
       "76               -1.311170               -2.757468           -0.117342   \n",
       "77               -1.569527               -2.306392           -0.711923   \n",
       "78                0.354245                0.802444           -0.201214   \n",
       "79               -0.382751                0.552990            0.133577   \n",
       "\n",
       "    spectral_spread_mean   zcr_std  \n",
       "0               0.492680  0.078817  \n",
       "1              -0.387699  0.029842  \n",
       "2              -0.522906 -0.915264  \n",
       "3              -0.579556 -1.007730  \n",
       "4               1.664033 -0.029123  \n",
       "..                   ...       ...  \n",
       "75             -0.945588 -0.559059  \n",
       "76             -0.258370  1.630313  \n",
       "77             -0.824448 -0.801570  \n",
       "78             -0.354370  0.394311  \n",
       "79             -0.727745 -0.049841  \n",
       "\n",
       "[80 rows x 46 columns]"
      ]
     },
     "execution_count": 1017,
     "metadata": {},
     "output_type": "execute_result"
    }
   ],
   "source": [
    "lsvc = LinearSVC(C=0.08, penalty=\"l1\", dual=False).fit(x_scaled, y)\n",
    "model = SelectFromModel(lsvc, prefit=True)\n",
    "feature_idx = model.get_support()\n",
    "\n",
    "feature_name = x_scaled.columns[feature_idx]\n",
    "\n",
    "x_features_selected = model.transform(x_scaled)\n",
    "\n",
    "x_features_selected = pd.DataFrame(x_features_selected, columns=feature_name)\n",
    "\n",
    "x_features_selected.shape\n",
    "\n",
    "\n",
    "\n",
    "df_test = df_test[feature_name]\n",
    "\n",
    "df_test\n",
    "\n",
    "\n"
   ]
  },
  {
   "cell_type": "markdown",
   "metadata": {},
   "source": [
    "## Régularisation L2 via LogisticRegression"
   ]
  },
  {
   "cell_type": "code",
   "execution_count": 585,
   "metadata": {},
   "outputs": [
    {
     "name": "stdout",
     "output_type": "stream",
     "text": [
      "(256, 61)\n"
     ]
    },
    {
     "name": "stderr",
     "output_type": "stream",
     "text": [
      "/Users/caiuspupus/Projects/Ynov/ml-elective3/venv/lib/python3.8/site-packages/sklearn/utils/validation.py:63: DataConversionWarning: A column-vector y was passed when a 1d array was expected. Please change the shape of y to (n_samples, ), for example using ravel().\n",
      "  return f(*args, **kwargs)\n"
     ]
    },
    {
     "data": {
      "text/plain": [
       "(256, 25)"
      ]
     },
     "execution_count": 585,
     "metadata": {},
     "output_type": "execute_result"
    }
   ],
   "source": [
    "print(x_scaled.shape)\n",
    "\n",
    "logreg = LogisticRegression(C=0.1, penalty='l2').fit(x_scaled, y)\n",
    "model = SelectFromModel(logreg, prefit=True)\n",
    "feature_idx = model.get_support()\n",
    "feature_name = x_scaled.columns[feature_idx]\n",
    "\n",
    "x_features_selected = model.transform(x_scaled)\n",
    "\n",
    "x_features_selected = pd.DataFrame(x_features_selected, columns=feature_name)\n",
    "\n",
    "x_features_selected.shape\n"
   ]
  },
  {
   "cell_type": "markdown",
   "metadata": {},
   "source": [
    "## Visualisation de la corrélation entre les features sélectionnées"
   ]
  },
  {
   "cell_type": "code",
   "execution_count": 937,
   "metadata": {},
   "outputs": [
    {
     "data": {
      "image/png": "[encoded data removed]",
      "text/plain": [
       "<Figure size 432x288 with 2 Axes>"
      ]
     },
     "metadata": {
      "needs_background": "light"
     },
     "output_type": "display_data"
    }
   ],
   "source": [
    "sns.heatmap(x_features_selected.corr());"
   ]
  },
  {
   "cell_type": "code",
   "execution_count": 938,
   "metadata": {
    "pycharm": {
     "name": "#%%\n"
    }
   },
   "outputs": [
    {
     "data": {
      "image/png": "[encoded data removed]",
      "text/plain": [
       "<Figure size 432x288 with 2 Axes>"
      ]
     },
     "metadata": {
      "needs_background": "light"
     },
     "output_type": "display_data"
    }
   ],
   "source": [
    "sns.heatmap(df_test.corr());"
   ]
  },
  {
   "cell_type": "code",
   "execution_count": null,
   "metadata": {},
   "outputs": [],
   "source": []
  },
  {
   "cell_type": "markdown",
   "metadata": {},
   "source": [
    "## Créer un échantillon non biaisé de validation"
   ]
  },
  {
   "cell_type": "code",
   "execution_count": 968,
   "metadata": {
    "pycharm": {
     "name": "#%%\n"
    }
   },
   "outputs": [],
   "source": [
    "y = y.astype(int)\n",
    "X_train, X_test, y_train, y_test = train_test_split(x_features_selected, y, test_size=0.20, random_state=0)\n"
   ]
  },
  {
   "cell_type": "markdown",
   "metadata": {},
   "source": [
    "<table>\n",
    "  <tr>\n",
    "    <th>Model</th>\n",
    "    <th>Num_Essai</th>\n",
    "    <th>Supr_Nan</th>\n",
    "    <th>Supr_Outliers</th>\n",
    "    <th>PCA</th>\n",
    "    <th>Normalize</th>\n",
    "    <th>Lasso</th>\n",
    "    <th>%Train</th>\n",
    "    <th>%Test</th>\n",
    "  </tr>\n",
    "  <tr>\n",
    "      <td colspan=\"2\" style=\"height:2px; background-color:#000000;color:white;\">StandarScaler + L1</td>\n",
    "      <td colspan=\"2\" style=\"height:2px; background-color:#000000;\"></td>\n",
    "      <td colspan=\"2\" style=\"height:2px; background-color:#000000;\"></td>\n",
    "      <td colspan=\"2\" style=\"height:2px; background-color:#000000;\"></td>\n",
    "      <td colspan=\"2\" style=\"height:2px; background-color:#000000;\"></td>\n",
    "  </tr>\n",
    "  <tr>\n",
    "    <td>SVC</td>\n",
    "    <td>1</td>\n",
    "    <td>Oui</td>\n",
    "    <td>Oui</td>\n",
    "    <td>Non</td>\n",
    "    <td>StandarScaler</td>\n",
    "    <td>LinearSVC (L1)</td>\n",
    "    <td style=\"color:green;\">0.98</td>\n",
    "    <td style=\"color:green;\">0.92</td>\n",
    "  </tr>\n",
    "  <tr>\n",
    "    <td>LogisticRegression</td>\n",
    "    <td>1</td>\n",
    "    <td>Oui</td>\n",
    "    <td>Oui</td>\n",
    "    <td>Non</td>\n",
    "    <td>StandarScaler</td>\n",
    "    <td>LinearSVC</td>\n",
    "    <td>0.99</td>\n",
    "    <td>0.80</td>\n",
    "  </tr>\n",
    "  <tr>\n",
    "    <td>Linear SVC</td>\n",
    "    <td>1</td>\n",
    "    <td>Oui</td>\n",
    "    <td>Oui</td>\n",
    "    <td>Non</td>\n",
    "    <td>StandarScaler</td>\n",
    "    <td>LinearSVC (L1)</td>\n",
    "    <td style=\"color: red;\">1.0</td>\n",
    "    <td>0.84</td>\n",
    "  </tr>\n",
    "  <tr>\n",
    "    <td>RandomForestClassifier</td>\n",
    "    <td>1</td>\n",
    "    <td>Oui</td>\n",
    "    <td>Oui</td>\n",
    "    <td>Non</td>\n",
    "    <td>StandarScaler</td>\n",
    "    <td>LinearSVC(L1)</td>\n",
    "    <td>0.99</td>\n",
    "    <td>0.88</td>\n",
    "  </tr>\n",
    "  <tr>\n",
    "    <td>KNN</td>\n",
    "    <td>1</td>\n",
    "    <td>Oui</td>\n",
    "    <td>Oui</td>\n",
    "    <td>Non</td>\n",
    "    <td>StandarScaler</td>\n",
    "    <td>LinearSVC(L1)</td>\n",
    "    <td>0.85</td>\n",
    "    <td>0.74</td>\n",
    "  </tr>\n",
    "  <tr>\n",
    "      <td colspan=\"2\" style=\"height:2px; background-color:#000000;color:white;\">StandarScaler + L2</td>\n",
    "      <td colspan=\"2\" style=\"height:2px; background-color:#000000;\"></td>\n",
    "      <td colspan=\"2\" style=\"height:2px; background-color:#000000;\"></td>\n",
    "      <td colspan=\"2\" style=\"height:2px; background-color:#000000;\"></td>\n",
    "      <td colspan=\"2\" style=\"height:2px; background-color:#000000;\"></td>\n",
    "  </tr>\n",
    "  <tr>\n",
    "    <td>SVC</td>\n",
    "    <td>2</td>\n",
    "    <td>Oui</td>\n",
    "    <td>Oui</td>\n",
    "    <td>Non</td>\n",
    "    <td>StandarScaler</td>\n",
    "    <td>LogisticRegression(L2)</td>\n",
    "    <td>0.96</td>\n",
    "    <td>0.81</td>\n",
    "  </tr>\n",
    "  <tr>\n",
    "    <td>LogisticRegression</td>\n",
    "    <td>2</td>\n",
    "    <td>Oui</td>\n",
    "    <td>Oui</td>\n",
    "    <td>Non</td>\n",
    "    <td>StandarScaler</td>\n",
    "    <td>LogisticRegression(L2)</td>\n",
    "    <td>0.93</td>\n",
    "    <td>0.87</td>\n",
    "  </tr>\n",
    "  <tr>\n",
    "    <td>Linear SVC</td>\n",
    "    <td>2</td>\n",
    "    <td>Oui</td>\n",
    "    <td>Oui</td>\n",
    "    <td>Non</td>\n",
    "    <td>StandarScaler</td>\n",
    "    <td>LinearSVC (L1)</td>\n",
    "    <td>0.92</td>\n",
    "    <td>0.87</td>\n",
    "  </tr>\n",
    "  <tr>\n",
    "    <td>RandomForestClassifier</td>\n",
    "    <td>2</td>\n",
    "    <td>Oui</td>\n",
    "    <td>Oui</td>\n",
    "    <td>Non</td>\n",
    "    <td>StandarScaler</td>\n",
    "    <td>LogisticRegression(L2)</td>\n",
    "    <td>0.99</td>\n",
    "    <td>0.68</td>\n",
    "  </tr>\n",
    "  <tr>\n",
    "    <td>KNN</td>\n",
    "    <td>2</td>\n",
    "    <td>Oui</td>\n",
    "    <td>Oui</td>\n",
    "    <td>Non</td>\n",
    "    <td>StandarScaler</td>\n",
    "    <td>LogisticRegression(L2)</td>\n",
    "    <td>0.91</td>\n",
    "    <td>0.71</td>\n",
    "  </tr>\n",
    "  <tr>\n",
    "      <td colspan=\"2\" style=\"height:2px; background-color:#000000;color:white;\">StandarScaler + PCA</td>\n",
    "      <td colspan=\"2\" style=\"height:2px; background-color:#000000;\"></td>\n",
    "      <td colspan=\"2\" style=\"height:2px; background-color:#000000;\"></td>\n",
    "      <td colspan=\"2\" style=\"height:2px; background-color:#000000;\"></td>\n",
    "      <td colspan=\"2\" style=\"height:2px; background-color:#000000;\"></td>\n",
    "  </tr>\n",
    "  <tr>\n",
    "    <td>SVC</td>\n",
    "    <td>3</td>\n",
    "    <td>Oui</td>\n",
    "    <td>Oui</td>\n",
    "    <td>Oui</td>\n",
    "    <td>StandarScaler</td>\n",
    "    <td>Non</td>\n",
    "    <td>0.98</td>\n",
    "    <td>0.70</td>\n",
    "  </tr>\n",
    "  <tr>\n",
    "    <td>LogisticRegression</td>\n",
    "    <td>3</td>\n",
    "    <td>Oui</td>\n",
    "    <td>Oui</td>\n",
    "    <td>Oui</td>\n",
    "    <td>StandarScaler</td>\n",
    "    <td>Non</td>\n",
    "    <td>0.91</td>\n",
    "    <td>0.84</td>\n",
    "  </tr>\n",
    "  <tr>\n",
    "    <td>Linear SVC</td>\n",
    "    <td>3</td>\n",
    "    <td>Oui</td>\n",
    "    <td>Oui</td>\n",
    "    <td>Oui</td>\n",
    "    <td>StandarScaler</td>\n",
    "    <td>Non</td>\n",
    "    <td>0.87</td>\n",
    "    <td>0.81</td>\n",
    "  </tr>\n",
    "  <tr>\n",
    "    <td>RandomForestClassifier</td>\n",
    "    <td>3</td>\n",
    "    <td>Oui</td>\n",
    "    <td>Oui</td>\n",
    "    <td>Oui</td>\n",
    "    <td>StandarScaler</td>\n",
    "    <td>Non</td>\n",
    "    <td>0.98</td>\n",
    "    <td>0.76</td>\n",
    "  </tr>\n",
    "  <tr>\n",
    "    <td>KNN</td>\n",
    "    <td>3</td>\n",
    "    <td>Oui</td>\n",
    "    <td>Oui</td>\n",
    "    <td>Oui</td>\n",
    "    <td>StandarScaler</td>\n",
    "    <td>Non</td>\n",
    "    <td>0.85</td>\n",
    "    <td>0.68</td>\n",
    "  </tr>\n",
    "  <tr>\n",
    "      <td colspan=\"2\" style=\"height:2px; background-color:#000000;color:white;\">MinMaxScaler + L1</td>\n",
    "      <td colspan=\"2\" style=\"height:2px; background-color:#000000;\"></td>\n",
    "      <td colspan=\"2\" style=\"height:2px; background-color:#000000;\"></td>\n",
    "      <td colspan=\"2\" style=\"height:2px; background-color:#000000;\"></td>\n",
    "      <td colspan=\"2\" style=\"height:2px; background-color:#000000;\"></td>\n",
    "  </tr>\n",
    "  <tr>\n",
    "    <td>SVC</td>\n",
    "    <td>4</td>\n",
    "    <td>Oui</td>\n",
    "    <td>Oui</td>\n",
    "    <td>Oui</td>\n",
    "    <td>MinMaxScaler</td>\n",
    "    <td>LinearSVC(L1)</td>\n",
    "    <td>0.80</td>\n",
    "    <td>0.67</td>\n",
    "  </tr>\n",
    "  <tr>\n",
    "    <td>LogisticRegression</td>\n",
    "    <td>4</td>\n",
    "    <td>Oui</td>\n",
    "    <td>Oui</td>\n",
    "    <td>Oui</td>\n",
    "    <td>MinMaxScaler</td>\n",
    "    <td>LinearSVC(L1)</td>\n",
    "    <td>0.91</td>\n",
    "    <td>0.84</td>\n",
    "  </tr>\n",
    "  <tr>\n",
    "    <td>Linear SVC</td>\n",
    "    <td>4</td>\n",
    "    <td>Oui</td>\n",
    "    <td>Oui</td>\n",
    "    <td>Oui</td>\n",
    "    <td>MinMaxScaler</td>\n",
    "    <td>LinearSVC(L1)</td>\n",
    "    <td>0.88</td>\n",
    "    <td>0.84</td>\n",
    "  </tr>\n",
    "  <tr>\n",
    "    <td>RandomForestClassifier</td>\n",
    "    <td>4</td>\n",
    "    <td>Oui</td>\n",
    "    <td>Oui</td>\n",
    "    <td>Oui</td>\n",
    "    <td>MinMaxScaler</td>\n",
    "    <td>LinearSVC(L1)</td>\n",
    "    <td>0.85</td>\n",
    "    <td>0.78</td>\n",
    "  </tr>\n",
    "  <tr>\n",
    "    <td>KNN</td>\n",
    "    <td>4</td>\n",
    "    <td>Oui</td>\n",
    "    <td>Oui</td>\n",
    "    <td>Oui</td>\n",
    "    <td>MinMaxScaler</td>\n",
    "    <td>LinearSVC(L1)</td>\n",
    "    <td>0.89</td>\n",
    "    <td>0.71</td>\n",
    "  </tr>\n",
    "  <tr>\n",
    "      <td colspan=\"2\" style=\"height:2px; background-color:#000000;color:white;\">RobusteScaler + L1</td>\n",
    "      <td colspan=\"2\" style=\"height:2px; background-color:#000000;\"></td>\n",
    "      <td colspan=\"2\" style=\"height:2px; background-color:#000000;\"></td>\n",
    "      <td colspan=\"2\" style=\"height:2px; background-color:#000000;\"></td>\n",
    "      <td colspan=\"2\" style=\"height:2px; background-color:#000000;\"></td>\n",
    "  </tr>\n",
    "  <tr>\n",
    "    <td>SVC</td>\n",
    "    <td>5</td>\n",
    "    <td>Oui</td>\n",
    "    <td>Oui</td>\n",
    "    <td>Oui</td>\n",
    "    <td>RobusteScaler</td>\n",
    "    <td>LinearSVC(L1)</td>\n",
    "    <td>0.94</td>\n",
    "    <td>0.81</td>\n",
    "  </tr>\n",
    "  <tr>\n",
    "    <td>LogisticRegression</td>\n",
    "    <td>5</td>\n",
    "    <td>Oui</td>\n",
    "    <td>Oui</td>\n",
    "    <td>Oui</td>\n",
    "    <td>RobusteScaler</td>\n",
    "    <td>LinearSVC(L1)</td>\n",
    "    <td>0.98</td>\n",
    "    <td>0.75</td>\n",
    "  </tr>\n",
    "  <tr>\n",
    "    <td>Linear SVC</td>\n",
    "    <td>5</td>\n",
    "    <td>Oui</td>\n",
    "    <td>Oui</td>\n",
    "    <td>Oui</td>\n",
    "    <td>MinMaxScaler</td>\n",
    "    <td>LinearSVC(L1)</td>\n",
    "    <td>0.98</td>\n",
    "    <td>0.87</td>\n",
    "  </tr>\n",
    "  <tr>\n",
    "    <td>RandomForestClassifier</td>\n",
    "    <td>5</td>\n",
    "    <td>Oui</td>\n",
    "    <td>Oui</td>\n",
    "    <td>Oui</td>\n",
    "    <td>RobusteScaler</td>\n",
    "    <td>LinearSVC(L1)</td>\n",
    "    <td>0.99</td>\n",
    "    <td>0.71</td>\n",
    "  </tr>\n",
    "  <tr>\n",
    "    <td>KNN</td>\n",
    "    <td>5</td>\n",
    "    <td>Oui</td>\n",
    "    <td>Oui</td>\n",
    "    <td>Oui</td>\n",
    "    <td>RobusteScaler</td>\n",
    "    <td>LinearSVC(L1)</td>\n",
    "    <td>0.86</td>\n",
    "    <td>0.75</td>\n",
    "  </tr>\n",
    "</table>"
   ]
  },
  {
   "cell_type": "markdown",
   "metadata": {},
   "source": [
    "## Entrainer différents algorithmes de classification"
   ]
  },
  {
   "cell_type": "markdown",
   "metadata": {},
   "source": [
    "## SVC"
   ]
  },
  {
   "cell_type": "code",
   "execution_count": null,
   "metadata": {
    "pycharm": {
     "name": "#%%\n"
    }
   },
   "outputs": [],
   "source": [
    "model = make_pipeline(SVC(gamma='auto'))\n",
    "model.fit(X_train, y_train)\n",
    "\n",
    "y_train_predict = model.predict(X_train)\n",
    "y_test_predict = model.predict(X_test)\n",
    "\n",
    "\n",
    "\n",
    "print('------ TRAINING ACCURACY -------')\n",
    "print(accuracy_score(y_train, y_train_predict))\n",
    "\n",
    "\n",
    "print('------ TRAINING F-SCORE -------')\n",
    "classes = f1_score(y_train, y_train_predict, average=None)\n",
    "\n",
    "for (cat, score) in enumerate(classes):\n",
    "    print('PRECISION SUR LA CATEGORIE ' + str(cat) + ' = ' + str(score))\n",
    "\n",
    "\n",
    "print('------ VALIDATION ACCURACY -------')\n",
    "print(accuracy_score(y_test, y_test_predict))\n",
    "\n",
    "print('------ VALIDATION F-SCORE -------')\n",
    "classes = f1_score(y_test, y_test_predict, average=None)\n",
    "\n",
    "for (cat, score) in enumerate(classes):\n",
    "    print('PRECISION SUR LA CATEGORIE ' + str(cat) + ' = ' + str(score))\n",
    "\n",
    "cm_val = confusion_matrix(y_test, y_test_predict)\n",
    "heatmap_val = sns.heatmap(cm_val, annot=True)\n",
    "\n",
    "heatmap_val.set_xlabel('Predit')\n",
    "heatmap_val.set_ylabel('Réel')\n",
    "\n",
    "\n",
    "\n",
    "y_final_predict = model.predict(df_test)\n",
    "\n",
    "print(len(y_final_predict))\n",
    "\n",
    "y_final_predict\n",
    "\n",
    "ids_test\n",
    "\n",
    "output = pd.DataFrame({'music_id': ids_test,'prediction': y_final_predict})\n",
    "output.to_csv('td-ml-elective3.csv', index=False)\n",
    "\n"
   ]
  },
  {
   "cell_type": "markdown",
   "metadata": {},
   "source": [
    "## Entrainer différents algorithmes de classification"
   ]
  },
  {
   "cell_type": "markdown",
   "metadata": {},
   "source": [
    "## SVC"
   ]
  },
  {
   "cell_type": "code",
   "execution_count": 970,
   "metadata": {
    "scrolled": true
   },
   "outputs": [
    {
     "name": "stderr",
     "output_type": "stream",
     "text": [
      "/Users/caiuspupus/Projects/Ynov/ml-elective3/venv/lib/python3.8/site-packages/sklearn/utils/validation.py:63: DataConversionWarning: A column-vector y was passed when a 1d array was expected. Please change the shape of y to (n_samples, ), for example using ravel().\n",
      "  return f(*args, **kwargs)\n"
     ]
    },
    {
     "name": "stdout",
     "output_type": "stream",
     "text": [
      "------ TRAINING ACCURACY -------\n",
      "0.9852941176470589\n",
      "------ TRAINING F-SCORE -------\n",
      "PRECISION SUR LA CATEGORIE 0 = 0.9887640449438202\n",
      "PRECISION SUR LA CATEGORIE 1 = 0.983050847457627\n",
      "PRECISION SUR LA CATEGORIE 2 = 0.975609756097561\n",
      "PRECISION SUR LA CATEGORIE 3 = 1.0\n",
      "------ VALIDATION ACCURACY -------\n",
      "0.9230769230769231\n",
      "------ VALIDATION F-SCORE -------\n",
      "PRECISION SUR LA CATEGORIE 0 = 0.9333333333333333\n",
      "PRECISION SUR LA CATEGORIE 1 = 0.8750000000000001\n",
      "PRECISION SUR LA CATEGORIE 2 = 0.9333333333333333\n",
      "PRECISION SUR LA CATEGORIE 3 = 0.9285714285714286\n",
      "80\n"
     ]
    },
    {
     "data": {
      "image/png": "[encoded data removed]",
      "text/plain": [
       "<Figure size 432x288 with 2 Axes>"
      ]
     },
     "metadata": {
      "needs_background": "light"
     },
     "output_type": "display_data"
    }
   ],
   "source": [
    "model = make_pipeline(SVC(gamma='auto'))\n",
    "model.fit(X_train, y_train)\n",
    "\n",
    "y_train_predict = model.predict(X_train)\n",
    "y_test_predict = model.predict(X_test)\n",
    "\n",
    "\n",
    "\n",
    "print('------ TRAINING ACCURACY -------')\n",
    "print(accuracy_score(y_train, y_train_predict))\n",
    "\n",
    "\n",
    "print('------ TRAINING F-SCORE -------')\n",
    "classes = f1_score(y_train, y_train_predict, average=None)\n",
    "\n",
    "for (cat, score) in enumerate(classes):\n",
    "    print('PRECISION SUR LA CATEGORIE ' + str(cat) + ' = ' + str(score))\n",
    "\n",
    "\n",
    "print('------ VALIDATION ACCURACY -------')\n",
    "print(accuracy_score(y_test, y_test_predict))\n",
    "\n",
    "print('------ VALIDATION F-SCORE -------')\n",
    "classes = f1_score(y_test, y_test_predict, average=None)\n",
    "\n",
    "for (cat, score) in enumerate(classes):\n",
    "    print('PRECISION SUR LA CATEGORIE ' + str(cat) + ' = ' + str(score))\n",
    "\n",
    "cm_val = confusion_matrix(y_test, y_test_predict)\n",
    "heatmap_val = sns.heatmap(cm_val, annot=True)\n",
    "\n",
    "heatmap_val.set_xlabel('Predit')\n",
    "heatmap_val.set_ylabel('Réel')\n",
    "\n",
    "\n",
    "\n",
    "y_final_predict = model.predict(df_test)\n",
    "\n",
    "print(len(y_final_predict))\n",
    "\n",
    "y_final_predict\n",
    "\n",
    "ids_test\n",
    "\n",
    "output = pd.DataFrame({'music_id': ids_test,'prediction': y_final_predict})\n",
    "output.to_csv('td-ml-elective3.csv', index=False)\n",
    "\n"
   ]
  },
  {
   "cell_type": "markdown",
   "metadata": {},
   "source": [
    "## Linear SVC"
   ]
  },
  {
   "cell_type": "code",
   "execution_count": 691,
   "metadata": {},
   "outputs": [
    {
     "name": "stderr",
     "output_type": "stream",
     "text": [
      "/Users/caiuspupus/Projects/Ynov/ml-elective3/venv/lib/python3.8/site-packages/sklearn/utils/validation.py:63: DataConversionWarning: A column-vector y was passed when a 1d array was expected. Please change the shape of y to (n_samples, ), for example using ravel().\n",
      "  return f(*args, **kwargs)\n"
     ]
    },
    {
     "name": "stdout",
     "output_type": "stream",
     "text": [
      "------ TRAINING ACCURACY -------\n",
      "1.0\n",
      "------ TRAINING F-SCORE -------\n",
      "PRECISION SUR LA CATEGORIE 0 = 1.0\n",
      "PRECISION SUR LA CATEGORIE 1 = 1.0\n",
      "PRECISION SUR LA CATEGORIE 2 = 1.0\n",
      "PRECISION SUR LA CATEGORIE 3 = 1.0\n",
      "------ VALIDATION ACCURACY -------\n",
      "0.8461538461538461\n",
      "------ VALIDATION F-SCORE -------\n",
      "PRECISION SUR LA CATEGORIE 0 = 0.787878787878788\n",
      "PRECISION SUR LA CATEGORIE 1 = 0.9\n",
      "PRECISION SUR LA CATEGORIE 2 = 0.923076923076923\n",
      "PRECISION SUR LA CATEGORIE 3 = 0.8\n"
     ]
    },
    {
     "name": "stderr",
     "output_type": "stream",
     "text": [
      "/Users/caiuspupus/Projects/Ynov/ml-elective3/venv/lib/python3.8/site-packages/sklearn/svm/_base.py:985: ConvergenceWarning: Liblinear failed to converge, increase the number of iterations.\n",
      "  warnings.warn(\"Liblinear failed to converge, increase \"\n"
     ]
    },
    {
     "data": {
      "text/plain": [
       "Text(33.0, 0.5, 'Réel')"
      ]
     },
     "execution_count": 691,
     "metadata": {},
     "output_type": "execute_result"
    },
    {
     "data": {
      "image/png": "[encoded data removed]",
      "text/plain": [
       "<Figure size 432x288 with 2 Axes>"
      ]
     },
     "metadata": {
      "needs_background": "light"
     },
     "output_type": "display_data"
    }
   ],
   "source": [
    "model = make_pipeline(LinearSVC(penalty=\"l1\", dual=False))\n",
    "model.fit(X_train, y_train)\n",
    "\n",
    "y_train_predict = model.predict(X_train)\n",
    "y_test_predict = model.predict(X_test)\n",
    "\n",
    "\n",
    "\n",
    "print('------ TRAINING ACCURACY -------')\n",
    "print(accuracy_score(y_train, y_train_predict))\n",
    "\n",
    "\n",
    "print('------ TRAINING F-SCORE -------')\n",
    "classes = f1_score(y_train, y_train_predict, average=None)\n",
    "\n",
    "for (cat, score) in enumerate(classes):\n",
    "    print('PRECISION SUR LA CATEGORIE ' + str(cat) + ' = ' + str(score))\n",
    "\n",
    "\n",
    "\n",
    "print('------ VALIDATION ACCURACY -------')\n",
    "print(accuracy_score(y_test, y_test_predict))\n",
    "\n",
    "print('------ VALIDATION F-SCORE -------')\n",
    "classes = f1_score(y_test, y_test_predict, average=None)\n",
    "\n",
    "for (cat, score) in enumerate(classes):\n",
    "    print('PRECISION SUR LA CATEGORIE ' + str(cat) + ' = ' + str(score))\n",
    "\n",
    "cm_val = confusion_matrix(y_test, y_test_predict)\n",
    "heatmap_val = sns.heatmap(cm_val, annot=True)\n",
    "\n",
    "heatmap_val.set_xlabel('Predit')\n",
    "heatmap_val.set_ylabel('Réel')"
   ]
  },
  {
   "cell_type": "markdown",
   "metadata": {},
   "source": [
    "## RandomForestClassifier\n",
    "On a joué ici sur les params n_estimators (nb d'arbres) et max_depth (profondeur de chaque arbre)\n",
    "De trop grandes valeurs conduisent à un overfitting.\n",
    "Valeurs choisies n_estimators = 500 / max_depth = 5"
   ]
  },
  {
   "cell_type": "code",
   "execution_count": 697,
   "metadata": {},
   "outputs": [
    {
     "name": "stderr",
     "output_type": "stream",
     "text": [
      "<ipython-input-697-924c279baf5e>:3: DataConversionWarning: A column-vector y was passed when a 1d array was expected. Please change the shape of y to (n_samples,), for example using ravel().\n",
      "  model.fit(X_train, y_train)\n"
     ]
    },
    {
     "name": "stdout",
     "output_type": "stream",
     "text": [
      "------ TRAINING ACCURACY -------\n",
      "0.9901960784313726\n",
      "------ TRAINING F-SCORE -------\n",
      "PRECISION SUR LA CATEGORIE 0 = 1.0\n",
      "PRECISION SUR LA CATEGORIE 1 = 0.9833333333333333\n",
      "PRECISION SUR LA CATEGORIE 2 = 0.9833333333333333\n",
      "PRECISION SUR LA CATEGORIE 3 = 1.0\n",
      "------ VALIDATION ACCURACY -------\n",
      "0.8846153846153846\n",
      "------ VALIDATION F-SCORE -------\n",
      "PRECISION SUR LA CATEGORIE 0 = 0.9696969696969697\n",
      "PRECISION SUR LA CATEGORIE 1 = 0.6666666666666667\n",
      "PRECISION SUR LA CATEGORIE 2 = 0.8387096774193549\n",
      "PRECISION SUR LA CATEGORIE 3 = 0.9600000000000001\n"
     ]
    },
    {
     "data": {
      "text/plain": [
       "Text(33.0, 0.5, 'Réel')"
      ]
     },
     "execution_count": 697,
     "metadata": {},
     "output_type": "execute_result"
    },
    {
     "data": {
      "image/png": "[encoded data removed]",
      "text/plain": [
       "<Figure size 432x288 with 2 Axes>"
      ]
     },
     "metadata": {
      "needs_background": "light"
     },
     "output_type": "display_data"
    }
   ],
   "source": [
    "model = RandomForestClassifier(n_estimators=500, max_depth=5, random_state=0)\n",
    "model.fit(X_train, y_train)\n",
    "\n",
    "y_train_predict = model.predict(X_train)\n",
    "y_test_predict = model.predict(X_test)\n",
    "\n",
    "\n",
    "\n",
    "print('------ TRAINING ACCURACY -------')\n",
    "print(accuracy_score(y_train, y_train_predict))\n",
    "\n",
    "print('------ TRAINING F-SCORE -------')\n",
    "classes = f1_score(y_train, y_train_predict, average=None)\n",
    "\n",
    "for (cat, score) in enumerate(classes):\n",
    "    print('PRECISION SUR LA CATEGORIE ' + str(cat) + ' = ' + str(score))\n",
    "\n",
    "\n",
    "\n",
    "\n",
    "print('------ VALIDATION ACCURACY -------')\n",
    "print(accuracy_score(y_test, y_test_predict))\n",
    "\n",
    "print('------ VALIDATION F-SCORE -------')\n",
    "classes = f1_score(y_test, y_test_predict, average=None)\n",
    "\n",
    "for (cat, score) in enumerate(classes):\n",
    "    print('PRECISION SUR LA CATEGORIE ' + str(cat) + ' = ' + str(score))\n",
    "\n",
    "cm_val = confusion_matrix(y_test, y_test_predict)\n",
    "heatmap_val = sns.heatmap(cm_val, annot=True)\n",
    "\n",
    "heatmap_val.set_xlabel('Predit')\n",
    "heatmap_val.set_ylabel('Réel')"
   ]
  },
  {
   "cell_type": "markdown",
   "metadata": {},
   "source": [
    "## LogisticRegression"
   ]
  },
  {
   "cell_type": "code",
   "execution_count": 698,
   "metadata": {},
   "outputs": [
    {
     "name": "stdout",
     "output_type": "stream",
     "text": [
      "------ TRAINING ACCURACY -------\n",
      "0.9950980392156863\n",
      "------ TRAINING F-SCORE -------\n",
      "PRECISION SUR LA CATEGORIE 0 = 0.9887640449438202\n",
      "PRECISION SUR LA CATEGORIE 1 = 1.0\n",
      "PRECISION SUR LA CATEGORIE 2 = 1.0\n",
      "PRECISION SUR LA CATEGORIE 3 = 0.9873417721518987\n",
      "------ VALIDATION ACCURACY -------\n",
      "0.8076923076923077\n",
      "------ VALIDATION F-SCORE -------\n",
      "PRECISION SUR LA CATEGORIE 0 = 0.787878787878788\n",
      "PRECISION SUR LA CATEGORIE 1 = 0.8888888888888888\n",
      "PRECISION SUR LA CATEGORIE 2 = 0.8275862068965518\n",
      "PRECISION SUR LA CATEGORIE 3 = 0.7500000000000001\n"
     ]
    },
    {
     "name": "stderr",
     "output_type": "stream",
     "text": [
      "/Users/caiuspupus/Projects/Ynov/ml-elective3/venv/lib/python3.8/site-packages/sklearn/utils/validation.py:63: DataConversionWarning: A column-vector y was passed when a 1d array was expected. Please change the shape of y to (n_samples, ), for example using ravel().\n",
      "  return f(*args, **kwargs)\n"
     ]
    },
    {
     "data": {
      "text/plain": [
       "Text(33.0, 0.5, 'Réel')"
      ]
     },
     "execution_count": 698,
     "metadata": {},
     "output_type": "execute_result"
    },
    {
     "data": {
      "image/png": "[encoded data removed]",
      "text/plain": [
       "<Figure size 432x288 with 2 Axes>"
      ]
     },
     "metadata": {
      "needs_background": "light"
     },
     "output_type": "display_data"
    }
   ],
   "source": [
    "\n",
    "model = LogisticRegression()\n",
    "model.fit(X_train, y_train)\n",
    "\n",
    "y_train_predict = model.predict(X_train)\n",
    "y_test_predict = model.predict(X_test)\n",
    "\n",
    "\n",
    "\n",
    "print('------ TRAINING ACCURACY -------')\n",
    "print(accuracy_score(y_train, y_train_predict))\n",
    "\n",
    "print('------ TRAINING F-SCORE -------')\n",
    "classes = f1_score(y_train, y_train_predict, average=None)\n",
    "\n",
    "for (cat, score) in enumerate(classes):\n",
    "    print('PRECISION SUR LA CATEGORIE ' + str(cat) + ' = ' + str(score))\n",
    "\n",
    "\n",
    "\n",
    "\n",
    "print('------ VALIDATION ACCURACY -------')\n",
    "print(accuracy_score(y_test, y_test_predict))\n",
    "\n",
    "print('------ VALIDATION F-SCORE -------')\n",
    "classes = f1_score(y_test, y_test_predict, average=None)\n",
    "\n",
    "for (cat, score) in enumerate(classes):\n",
    "    print('PRECISION SUR LA CATEGORIE ' + str(cat) + ' = ' + str(score))\n",
    "\n",
    "cm_val = confusion_matrix(y_test, y_test_predict)\n",
    "heatmap_val = sns.heatmap(cm_val, annot=True)\n",
    "\n",
    "heatmap_val.set_xlabel('Predit')\n",
    "heatmap_val.set_ylabel('Réel')\n"
   ]
  },
  {
   "cell_type": "markdown",
   "metadata": {},
   "source": [
    "## KNN"
   ]
  },
  {
   "cell_type": "code",
   "execution_count": 699,
   "metadata": {},
   "outputs": [
    {
     "name": "stderr",
     "output_type": "stream",
     "text": [
      "/Users/caiuspupus/Projects/Ynov/ml-elective3/venv/lib/python3.8/site-packages/sklearn/neighbors/_classification.py:179: DataConversionWarning: A column-vector y was passed when a 1d array was expected. Please change the shape of y to (n_samples,), for example using ravel().\n",
      "  return self._fit(X, y)\n"
     ]
    },
    {
     "name": "stdout",
     "output_type": "stream",
     "text": [
      "------ TRAINING ACCURACY -------\n",
      "0.8676470588235294\n",
      "------ TRAINING F-SCORE -------\n",
      "PRECISION SUR LA CATEGORIE 0 = 0.9230769230769231\n",
      "PRECISION SUR LA CATEGORIE 1 = 0.8281250000000001\n",
      "PRECISION SUR LA CATEGORIE 2 = 0.9032258064516129\n",
      "PRECISION SUR LA CATEGORIE 3 = 0.8\n",
      "------ VALIDATION ACCURACY -------\n",
      "0.7307692307692307\n",
      "------ VALIDATION F-SCORE -------\n",
      "PRECISION SUR LA CATEGORIE 0 = 0.8484848484848485\n",
      "PRECISION SUR LA CATEGORIE 1 = 0.5714285714285715\n",
      "PRECISION SUR LA CATEGORIE 2 = 0.8387096774193549\n",
      "PRECISION SUR LA CATEGORIE 3 = 0.5263157894736842\n"
     ]
    },
    {
     "data": {
      "text/plain": [
       "Text(33.0, 0.5, 'Réel')"
      ]
     },
     "execution_count": 699,
     "metadata": {},
     "output_type": "execute_result"
    },
    {
     "data": {
      "image/png": "[encoded data removed]",
      "text/plain": [
       "<Figure size 432x288 with 2 Axes>"
      ]
     },
     "metadata": {
      "needs_background": "light"
     },
     "output_type": "display_data"
    }
   ],
   "source": [
    "\n",
    "model = KNeighborsClassifier(n_neighbors=3)\n",
    "model.fit(X_train, y_train)\n",
    "\n",
    "y_train_predict = model.predict(X_train)\n",
    "y_test_predict = model.predict(X_test)\n",
    "\n",
    "\n",
    "\n",
    "print('------ TRAINING ACCURACY -------')\n",
    "print(accuracy_score(y_train, y_train_predict))\n",
    "\n",
    "print('------ TRAINING F-SCORE -------')\n",
    "classes = f1_score(y_train, y_train_predict, average=None)\n",
    "\n",
    "for (cat, score) in enumerate(classes):\n",
    "    print('PRECISION SUR LA CATEGORIE ' + str(cat) + ' = ' + str(score))\n",
    "\n",
    "\n",
    "\n",
    "\n",
    "print('------ VALIDATION ACCURACY -------')\n",
    "print(accuracy_score(y_test, y_test_predict))\n",
    "\n",
    "print('------ VALIDATION F-SCORE -------')\n",
    "classes = f1_score(y_test, y_test_predict, average=None)\n",
    "\n",
    "for (cat, score) in enumerate(classes):\n",
    "    print('PRECISION SUR LA CATEGORIE ' + str(cat) + ' = ' + str(score))\n",
    "\n",
    "cm_val = confusion_matrix(y_test, y_test_predict)\n",
    "heatmap_val = sns.heatmap(cm_val, annot=True)\n",
    "\n",
    "heatmap_val.set_xlabel('Predit')\n",
    "heatmap_val.set_ylabel('Réel')"
   ]
  },
  {
   "cell_type": "markdown",
   "metadata": {},
   "source": [
    "## Comparer la performance de différents algorithmes\n",
    "Faire des prédictions et evaluer leur justesse de ces prédictions à l'aide de différents indicateurs :\n",
    "- Matrice de confusion\n",
    "- Accuracy\n",
    "- F-Score\n",
    "\n",
    "### Boite à outils\n",
    "Un rapport de performance clé en main : https://scikit-learn.org/stable/modules/generated/sklearn.metrics.classification_report.html\n",
    "\n",
    "Liste des différents indicateurs : https://scikit-learn.org/stable/modules/model_evaluation.html\n",
    "\n",
    "Faire une prédiction avec un model sklearn entrainé :\n",
    "`y_pred_1 = model_1.predict(X_val, y_val)`\n",
    "\n",
    "\n",
    "\n"
   ]
  },
  {
   "cell_type": "code",
   "execution_count": null,
   "metadata": {},
   "outputs": [],
   "source": []
  },
  {
   "cell_type": "markdown",
   "metadata": {},
   "source": [
    "## Optimiser les hyper-paramètres de l’algorithme retenu\n",
    "Tester différents hyper-paramètres pour tirer au mieux partit de l'algorithme retenu\n",
    "\n",
    "### Boite à outils\n",
    "GridSearchCV :  https://scikit-learn.org/stable/modules/generated/sklearn.model_selection.GridSearchCV.html\n",
    "\n",
    "## Remarques :\n",
    "\n",
    "GridSearchCV ne nous donne pas de bons resultats, ceci est peut etre lié à la méthode utilisée en interne (cross-validation).\n",
    "Compte tenu du faible volume de données (256 echantillons), la cross validation se fait sur des sous ensemble certainement trop petits.\n",
    "Nous obtenons de meilleurs résultats avec C=1, gamma=\"auto\" et kernel=\"rbf\""
   ]
  },
  {
   "cell_type": "code",
   "execution_count": 917,
   "metadata": {},
   "outputs": [
    {
     "name": "stderr",
     "output_type": "stream",
     "text": [
      "/Users/caiuspupus/Projects/Ynov/ml-elective3/venv/lib/python3.8/site-packages/sklearn/utils/validation.py:63: DataConversionWarning: A column-vector y was passed when a 1d array was expected. Please change the shape of y to (n_samples, ), for example using ravel().\n",
      "  return f(*args, **kwargs)\n",
      "/Users/caiuspupus/Projects/Ynov/ml-elective3/venv/lib/python3.8/site-packages/sklearn/utils/validation.py:63: DataConversionWarning: A column-vector y was passed when a 1d array was expected. Please change the shape of y to (n_samples, ), for example using ravel().\n",
      "  return f(*args, **kwargs)\n",
      "/Users/caiuspupus/Projects/Ynov/ml-elective3/venv/lib/python3.8/site-packages/sklearn/utils/validation.py:63: DataConversionWarning: A column-vector y was passed when a 1d array was expected. Please change the shape of y to (n_samples, ), for example using ravel().\n",
      "  return f(*args, **kwargs)\n",
      "/Users/caiuspupus/Projects/Ynov/ml-elective3/venv/lib/python3.8/site-packages/sklearn/utils/validation.py:63: DataConversionWarning: A column-vector y was passed when a 1d array was expected. Please change the shape of y to (n_samples, ), for example using ravel().\n",
      "  return f(*args, **kwargs)\n",
      "/Users/caiuspupus/Projects/Ynov/ml-elective3/venv/lib/python3.8/site-packages/sklearn/utils/validation.py:63: DataConversionWarning: A column-vector y was passed when a 1d array was expected. Please change the shape of y to (n_samples, ), for example using ravel().\n",
      "  return f(*args, **kwargs)\n",
      "/Users/caiuspupus/Projects/Ynov/ml-elective3/venv/lib/python3.8/site-packages/sklearn/utils/validation.py:63: DataConversionWarning: A column-vector y was passed when a 1d array was expected. Please change the shape of y to (n_samples, ), for example using ravel().\n",
      "  return f(*args, **kwargs)\n",
      "/Users/caiuspupus/Projects/Ynov/ml-elective3/venv/lib/python3.8/site-packages/sklearn/utils/validation.py:63: DataConversionWarning: A column-vector y was passed when a 1d array was expected. Please change the shape of y to (n_samples, ), for example using ravel().\n",
      "  return f(*args, **kwargs)\n",
      "/Users/caiuspupus/Projects/Ynov/ml-elective3/venv/lib/python3.8/site-packages/sklearn/utils/validation.py:63: DataConversionWarning: A column-vector y was passed when a 1d array was expected. Please change the shape of y to (n_samples, ), for example using ravel().\n",
      "  return f(*args, **kwargs)\n",
      "/Users/caiuspupus/Projects/Ynov/ml-elective3/venv/lib/python3.8/site-packages/sklearn/utils/validation.py:63: DataConversionWarning: A column-vector y was passed when a 1d array was expected. Please change the shape of y to (n_samples, ), for example using ravel().\n",
      "  return f(*args, **kwargs)\n",
      "/Users/caiuspupus/Projects/Ynov/ml-elective3/venv/lib/python3.8/site-packages/sklearn/utils/validation.py:63: DataConversionWarning: A column-vector y was passed when a 1d array was expected. Please change the shape of y to (n_samples, ), for example using ravel().\n",
      "  return f(*args, **kwargs)\n",
      "/Users/caiuspupus/Projects/Ynov/ml-elective3/venv/lib/python3.8/site-packages/sklearn/utils/validation.py:63: DataConversionWarning: A column-vector y was passed when a 1d array was expected. Please change the shape of y to (n_samples, ), for example using ravel().\n",
      "  return f(*args, **kwargs)\n",
      "/Users/caiuspupus/Projects/Ynov/ml-elective3/venv/lib/python3.8/site-packages/sklearn/utils/validation.py:63: DataConversionWarning: A column-vector y was passed when a 1d array was expected. Please change the shape of y to (n_samples, ), for example using ravel().\n",
      "  return f(*args, **kwargs)\n",
      "/Users/caiuspupus/Projects/Ynov/ml-elective3/venv/lib/python3.8/site-packages/sklearn/utils/validation.py:63: DataConversionWarning: A column-vector y was passed when a 1d array was expected. Please change the shape of y to (n_samples, ), for example using ravel().\n",
      "  return f(*args, **kwargs)\n",
      "/Users/caiuspupus/Projects/Ynov/ml-elective3/venv/lib/python3.8/site-packages/sklearn/utils/validation.py:63: DataConversionWarning: A column-vector y was passed when a 1d array was expected. Please change the shape of y to (n_samples, ), for example using ravel().\n",
      "  return f(*args, **kwargs)\n",
      "/Users/caiuspupus/Projects/Ynov/ml-elective3/venv/lib/python3.8/site-packages/sklearn/utils/validation.py:63: DataConversionWarning: A column-vector y was passed when a 1d array was expected. Please change the shape of y to (n_samples, ), for example using ravel().\n",
      "  return f(*args, **kwargs)\n",
      "/Users/caiuspupus/Projects/Ynov/ml-elective3/venv/lib/python3.8/site-packages/sklearn/utils/validation.py:63: DataConversionWarning: A column-vector y was passed when a 1d array was expected. Please change the shape of y to (n_samples, ), for example using ravel().\n",
      "  return f(*args, **kwargs)\n",
      "/Users/caiuspupus/Projects/Ynov/ml-elective3/venv/lib/python3.8/site-packages/sklearn/utils/validation.py:63: DataConversionWarning: A column-vector y was passed when a 1d array was expected. Please change the shape of y to (n_samples, ), for example using ravel().\n",
      "  return f(*args, **kwargs)\n",
      "/Users/caiuspupus/Projects/Ynov/ml-elective3/venv/lib/python3.8/site-packages/sklearn/utils/validation.py:63: DataConversionWarning: A column-vector y was passed when a 1d array was expected. Please change the shape of y to (n_samples, ), for example using ravel().\n",
      "  return f(*args, **kwargs)\n",
      "/Users/caiuspupus/Projects/Ynov/ml-elective3/venv/lib/python3.8/site-packages/sklearn/utils/validation.py:63: DataConversionWarning: A column-vector y was passed when a 1d array was expected. Please change the shape of y to (n_samples, ), for example using ravel().\n",
      "  return f(*args, **kwargs)\n",
      "/Users/caiuspupus/Projects/Ynov/ml-elective3/venv/lib/python3.8/site-packages/sklearn/utils/validation.py:63: DataConversionWarning: A column-vector y was passed when a 1d array was expected. Please change the shape of y to (n_samples, ), for example using ravel().\n",
      "  return f(*args, **kwargs)\n",
      "/Users/caiuspupus/Projects/Ynov/ml-elective3/venv/lib/python3.8/site-packages/sklearn/utils/validation.py:63: DataConversionWarning: A column-vector y was passed when a 1d array was expected. Please change the shape of y to (n_samples, ), for example using ravel().\n",
      "  return f(*args, **kwargs)\n",
      "/Users/caiuspupus/Projects/Ynov/ml-elective3/venv/lib/python3.8/site-packages/sklearn/utils/validation.py:63: DataConversionWarning: A column-vector y was passed when a 1d array was expected. Please change the shape of y to (n_samples, ), for example using ravel().\n",
      "  return f(*args, **kwargs)\n",
      "/Users/caiuspupus/Projects/Ynov/ml-elective3/venv/lib/python3.8/site-packages/sklearn/utils/validation.py:63: DataConversionWarning: A column-vector y was passed when a 1d array was expected. Please change the shape of y to (n_samples, ), for example using ravel().\n",
      "  return f(*args, **kwargs)\n",
      "/Users/caiuspupus/Projects/Ynov/ml-elective3/venv/lib/python3.8/site-packages/sklearn/utils/validation.py:63: DataConversionWarning: A column-vector y was passed when a 1d array was expected. Please change the shape of y to (n_samples, ), for example using ravel().\n",
      "  return f(*args, **kwargs)\n",
      "/Users/caiuspupus/Projects/Ynov/ml-elective3/venv/lib/python3.8/site-packages/sklearn/utils/validation.py:63: DataConversionWarning: A column-vector y was passed when a 1d array was expected. Please change the shape of y to (n_samples, ), for example using ravel().\n",
      "  return f(*args, **kwargs)\n",
      "/Users/caiuspupus/Projects/Ynov/ml-elective3/venv/lib/python3.8/site-packages/sklearn/utils/validation.py:63: DataConversionWarning: A column-vector y was passed when a 1d array was expected. Please change the shape of y to (n_samples, ), for example using ravel().\n",
      "  return f(*args, **kwargs)\n",
      "/Users/caiuspupus/Projects/Ynov/ml-elective3/venv/lib/python3.8/site-packages/sklearn/utils/validation.py:63: DataConversionWarning: A column-vector y was passed when a 1d array was expected. Please change the shape of y to (n_samples, ), for example using ravel().\n",
      "  return f(*args, **kwargs)\n",
      "/Users/caiuspupus/Projects/Ynov/ml-elective3/venv/lib/python3.8/site-packages/sklearn/utils/validation.py:63: DataConversionWarning: A column-vector y was passed when a 1d array was expected. Please change the shape of y to (n_samples, ), for example using ravel().\n",
      "  return f(*args, **kwargs)\n",
      "/Users/caiuspupus/Projects/Ynov/ml-elective3/venv/lib/python3.8/site-packages/sklearn/utils/validation.py:63: DataConversionWarning: A column-vector y was passed when a 1d array was expected. Please change the shape of y to (n_samples, ), for example using ravel().\n",
      "  return f(*args, **kwargs)\n",
      "/Users/caiuspupus/Projects/Ynov/ml-elective3/venv/lib/python3.8/site-packages/sklearn/utils/validation.py:63: DataConversionWarning: A column-vector y was passed when a 1d array was expected. Please change the shape of y to (n_samples, ), for example using ravel().\n",
      "  return f(*args, **kwargs)\n",
      "/Users/caiuspupus/Projects/Ynov/ml-elective3/venv/lib/python3.8/site-packages/sklearn/utils/validation.py:63: DataConversionWarning: A column-vector y was passed when a 1d array was expected. Please change the shape of y to (n_samples, ), for example using ravel().\n",
      "  return f(*args, **kwargs)\n",
      "/Users/caiuspupus/Projects/Ynov/ml-elective3/venv/lib/python3.8/site-packages/sklearn/utils/validation.py:63: DataConversionWarning: A column-vector y was passed when a 1d array was expected. Please change the shape of y to (n_samples, ), for example using ravel().\n",
      "  return f(*args, **kwargs)\n",
      "/Users/caiuspupus/Projects/Ynov/ml-elective3/venv/lib/python3.8/site-packages/sklearn/utils/validation.py:63: DataConversionWarning: A column-vector y was passed when a 1d array was expected. Please change the shape of y to (n_samples, ), for example using ravel().\n",
      "  return f(*args, **kwargs)\n",
      "/Users/caiuspupus/Projects/Ynov/ml-elective3/venv/lib/python3.8/site-packages/sklearn/utils/validation.py:63: DataConversionWarning: A column-vector y was passed when a 1d array was expected. Please change the shape of y to (n_samples, ), for example using ravel().\n",
      "  return f(*args, **kwargs)\n",
      "/Users/caiuspupus/Projects/Ynov/ml-elective3/venv/lib/python3.8/site-packages/sklearn/utils/validation.py:63: DataConversionWarning: A column-vector y was passed when a 1d array was expected. Please change the shape of y to (n_samples, ), for example using ravel().\n",
      "  return f(*args, **kwargs)\n",
      "/Users/caiuspupus/Projects/Ynov/ml-elective3/venv/lib/python3.8/site-packages/sklearn/utils/validation.py:63: DataConversionWarning: A column-vector y was passed when a 1d array was expected. Please change the shape of y to (n_samples, ), for example using ravel().\n",
      "  return f(*args, **kwargs)\n"
     ]
    },
    {
     "name": "stderr",
     "output_type": "stream",
     "text": [
      "/Users/caiuspupus/Projects/Ynov/ml-elective3/venv/lib/python3.8/site-packages/sklearn/utils/validation.py:63: DataConversionWarning: A column-vector y was passed when a 1d array was expected. Please change the shape of y to (n_samples, ), for example using ravel().\n",
      "  return f(*args, **kwargs)\n",
      "/Users/caiuspupus/Projects/Ynov/ml-elective3/venv/lib/python3.8/site-packages/sklearn/utils/validation.py:63: DataConversionWarning: A column-vector y was passed when a 1d array was expected. Please change the shape of y to (n_samples, ), for example using ravel().\n",
      "  return f(*args, **kwargs)\n",
      "/Users/caiuspupus/Projects/Ynov/ml-elective3/venv/lib/python3.8/site-packages/sklearn/utils/validation.py:63: DataConversionWarning: A column-vector y was passed when a 1d array was expected. Please change the shape of y to (n_samples, ), for example using ravel().\n",
      "  return f(*args, **kwargs)\n",
      "/Users/caiuspupus/Projects/Ynov/ml-elective3/venv/lib/python3.8/site-packages/sklearn/utils/validation.py:63: DataConversionWarning: A column-vector y was passed when a 1d array was expected. Please change the shape of y to (n_samples, ), for example using ravel().\n",
      "  return f(*args, **kwargs)\n",
      "/Users/caiuspupus/Projects/Ynov/ml-elective3/venv/lib/python3.8/site-packages/sklearn/utils/validation.py:63: DataConversionWarning: A column-vector y was passed when a 1d array was expected. Please change the shape of y to (n_samples, ), for example using ravel().\n",
      "  return f(*args, **kwargs)\n",
      "/Users/caiuspupus/Projects/Ynov/ml-elective3/venv/lib/python3.8/site-packages/sklearn/utils/validation.py:63: DataConversionWarning: A column-vector y was passed when a 1d array was expected. Please change the shape of y to (n_samples, ), for example using ravel().\n",
      "  return f(*args, **kwargs)\n",
      "/Users/caiuspupus/Projects/Ynov/ml-elective3/venv/lib/python3.8/site-packages/sklearn/utils/validation.py:63: DataConversionWarning: A column-vector y was passed when a 1d array was expected. Please change the shape of y to (n_samples, ), for example using ravel().\n",
      "  return f(*args, **kwargs)\n",
      "/Users/caiuspupus/Projects/Ynov/ml-elective3/venv/lib/python3.8/site-packages/sklearn/utils/validation.py:63: DataConversionWarning: A column-vector y was passed when a 1d array was expected. Please change the shape of y to (n_samples, ), for example using ravel().\n",
      "  return f(*args, **kwargs)\n",
      "/Users/caiuspupus/Projects/Ynov/ml-elective3/venv/lib/python3.8/site-packages/sklearn/utils/validation.py:63: DataConversionWarning: A column-vector y was passed when a 1d array was expected. Please change the shape of y to (n_samples, ), for example using ravel().\n",
      "  return f(*args, **kwargs)\n",
      "/Users/caiuspupus/Projects/Ynov/ml-elective3/venv/lib/python3.8/site-packages/sklearn/utils/validation.py:63: DataConversionWarning: A column-vector y was passed when a 1d array was expected. Please change the shape of y to (n_samples, ), for example using ravel().\n",
      "  return f(*args, **kwargs)\n",
      "/Users/caiuspupus/Projects/Ynov/ml-elective3/venv/lib/python3.8/site-packages/sklearn/utils/validation.py:63: DataConversionWarning: A column-vector y was passed when a 1d array was expected. Please change the shape of y to (n_samples, ), for example using ravel().\n",
      "  return f(*args, **kwargs)\n",
      "/Users/caiuspupus/Projects/Ynov/ml-elective3/venv/lib/python3.8/site-packages/sklearn/utils/validation.py:63: DataConversionWarning: A column-vector y was passed when a 1d array was expected. Please change the shape of y to (n_samples, ), for example using ravel().\n",
      "  return f(*args, **kwargs)\n",
      "/Users/caiuspupus/Projects/Ynov/ml-elective3/venv/lib/python3.8/site-packages/sklearn/utils/validation.py:63: DataConversionWarning: A column-vector y was passed when a 1d array was expected. Please change the shape of y to (n_samples, ), for example using ravel().\n",
      "  return f(*args, **kwargs)\n",
      "/Users/caiuspupus/Projects/Ynov/ml-elective3/venv/lib/python3.8/site-packages/sklearn/utils/validation.py:63: DataConversionWarning: A column-vector y was passed when a 1d array was expected. Please change the shape of y to (n_samples, ), for example using ravel().\n",
      "  return f(*args, **kwargs)\n",
      "/Users/caiuspupus/Projects/Ynov/ml-elective3/venv/lib/python3.8/site-packages/sklearn/utils/validation.py:63: DataConversionWarning: A column-vector y was passed when a 1d array was expected. Please change the shape of y to (n_samples, ), for example using ravel().\n",
      "  return f(*args, **kwargs)\n",
      "/Users/caiuspupus/Projects/Ynov/ml-elective3/venv/lib/python3.8/site-packages/sklearn/utils/validation.py:63: DataConversionWarning: A column-vector y was passed when a 1d array was expected. Please change the shape of y to (n_samples, ), for example using ravel().\n",
      "  return f(*args, **kwargs)\n",
      "/Users/caiuspupus/Projects/Ynov/ml-elective3/venv/lib/python3.8/site-packages/sklearn/utils/validation.py:63: DataConversionWarning: A column-vector y was passed when a 1d array was expected. Please change the shape of y to (n_samples, ), for example using ravel().\n",
      "  return f(*args, **kwargs)\n",
      "/Users/caiuspupus/Projects/Ynov/ml-elective3/venv/lib/python3.8/site-packages/sklearn/utils/validation.py:63: DataConversionWarning: A column-vector y was passed when a 1d array was expected. Please change the shape of y to (n_samples, ), for example using ravel().\n",
      "  return f(*args, **kwargs)\n",
      "/Users/caiuspupus/Projects/Ynov/ml-elective3/venv/lib/python3.8/site-packages/sklearn/utils/validation.py:63: DataConversionWarning: A column-vector y was passed when a 1d array was expected. Please change the shape of y to (n_samples, ), for example using ravel().\n",
      "  return f(*args, **kwargs)\n",
      "/Users/caiuspupus/Projects/Ynov/ml-elective3/venv/lib/python3.8/site-packages/sklearn/utils/validation.py:63: DataConversionWarning: A column-vector y was passed when a 1d array was expected. Please change the shape of y to (n_samples, ), for example using ravel().\n",
      "  return f(*args, **kwargs)\n",
      "/Users/caiuspupus/Projects/Ynov/ml-elective3/venv/lib/python3.8/site-packages/sklearn/utils/validation.py:63: DataConversionWarning: A column-vector y was passed when a 1d array was expected. Please change the shape of y to (n_samples, ), for example using ravel().\n",
      "  return f(*args, **kwargs)\n",
      "/Users/caiuspupus/Projects/Ynov/ml-elective3/venv/lib/python3.8/site-packages/sklearn/utils/validation.py:63: DataConversionWarning: A column-vector y was passed when a 1d array was expected. Please change the shape of y to (n_samples, ), for example using ravel().\n",
      "  return f(*args, **kwargs)\n",
      "/Users/caiuspupus/Projects/Ynov/ml-elective3/venv/lib/python3.8/site-packages/sklearn/utils/validation.py:63: DataConversionWarning: A column-vector y was passed when a 1d array was expected. Please change the shape of y to (n_samples, ), for example using ravel().\n",
      "  return f(*args, **kwargs)\n",
      "/Users/caiuspupus/Projects/Ynov/ml-elective3/venv/lib/python3.8/site-packages/sklearn/utils/validation.py:63: DataConversionWarning: A column-vector y was passed when a 1d array was expected. Please change the shape of y to (n_samples, ), for example using ravel().\n",
      "  return f(*args, **kwargs)\n",
      "/Users/caiuspupus/Projects/Ynov/ml-elective3/venv/lib/python3.8/site-packages/sklearn/utils/validation.py:63: DataConversionWarning: A column-vector y was passed when a 1d array was expected. Please change the shape of y to (n_samples, ), for example using ravel().\n",
      "  return f(*args, **kwargs)\n",
      "/Users/caiuspupus/Projects/Ynov/ml-elective3/venv/lib/python3.8/site-packages/sklearn/utils/validation.py:63: DataConversionWarning: A column-vector y was passed when a 1d array was expected. Please change the shape of y to (n_samples, ), for example using ravel().\n",
      "  return f(*args, **kwargs)\n",
      "/Users/caiuspupus/Projects/Ynov/ml-elective3/venv/lib/python3.8/site-packages/sklearn/utils/validation.py:63: DataConversionWarning: A column-vector y was passed when a 1d array was expected. Please change the shape of y to (n_samples, ), for example using ravel().\n",
      "  return f(*args, **kwargs)\n",
      "/Users/caiuspupus/Projects/Ynov/ml-elective3/venv/lib/python3.8/site-packages/sklearn/utils/validation.py:63: DataConversionWarning: A column-vector y was passed when a 1d array was expected. Please change the shape of y to (n_samples, ), for example using ravel().\n",
      "  return f(*args, **kwargs)\n"
     ]
    },
    {
     "name": "stderr",
     "output_type": "stream",
     "text": [
      "/Users/caiuspupus/Projects/Ynov/ml-elective3/venv/lib/python3.8/site-packages/sklearn/utils/validation.py:63: DataConversionWarning: A column-vector y was passed when a 1d array was expected. Please change the shape of y to (n_samples, ), for example using ravel().\n",
      "  return f(*args, **kwargs)\n",
      "/Users/caiuspupus/Projects/Ynov/ml-elective3/venv/lib/python3.8/site-packages/sklearn/utils/validation.py:63: DataConversionWarning: A column-vector y was passed when a 1d array was expected. Please change the shape of y to (n_samples, ), for example using ravel().\n",
      "  return f(*args, **kwargs)\n",
      "/Users/caiuspupus/Projects/Ynov/ml-elective3/venv/lib/python3.8/site-packages/sklearn/utils/validation.py:63: DataConversionWarning: A column-vector y was passed when a 1d array was expected. Please change the shape of y to (n_samples, ), for example using ravel().\n",
      "  return f(*args, **kwargs)\n",
      "/Users/caiuspupus/Projects/Ynov/ml-elective3/venv/lib/python3.8/site-packages/sklearn/utils/validation.py:63: DataConversionWarning: A column-vector y was passed when a 1d array was expected. Please change the shape of y to (n_samples, ), for example using ravel().\n",
      "  return f(*args, **kwargs)\n",
      "/Users/caiuspupus/Projects/Ynov/ml-elective3/venv/lib/python3.8/site-packages/sklearn/utils/validation.py:63: DataConversionWarning: A column-vector y was passed when a 1d array was expected. Please change the shape of y to (n_samples, ), for example using ravel().\n",
      "  return f(*args, **kwargs)\n",
      "/Users/caiuspupus/Projects/Ynov/ml-elective3/venv/lib/python3.8/site-packages/sklearn/utils/validation.py:63: DataConversionWarning: A column-vector y was passed when a 1d array was expected. Please change the shape of y to (n_samples, ), for example using ravel().\n",
      "  return f(*args, **kwargs)\n",
      "/Users/caiuspupus/Projects/Ynov/ml-elective3/venv/lib/python3.8/site-packages/sklearn/utils/validation.py:63: DataConversionWarning: A column-vector y was passed when a 1d array was expected. Please change the shape of y to (n_samples, ), for example using ravel().\n",
      "  return f(*args, **kwargs)\n",
      "/Users/caiuspupus/Projects/Ynov/ml-elective3/venv/lib/python3.8/site-packages/sklearn/utils/validation.py:63: DataConversionWarning: A column-vector y was passed when a 1d array was expected. Please change the shape of y to (n_samples, ), for example using ravel().\n",
      "  return f(*args, **kwargs)\n",
      "/Users/caiuspupus/Projects/Ynov/ml-elective3/venv/lib/python3.8/site-packages/sklearn/utils/validation.py:63: DataConversionWarning: A column-vector y was passed when a 1d array was expected. Please change the shape of y to (n_samples, ), for example using ravel().\n",
      "  return f(*args, **kwargs)\n",
      "/Users/caiuspupus/Projects/Ynov/ml-elective3/venv/lib/python3.8/site-packages/sklearn/utils/validation.py:63: DataConversionWarning: A column-vector y was passed when a 1d array was expected. Please change the shape of y to (n_samples, ), for example using ravel().\n",
      "  return f(*args, **kwargs)\n",
      "/Users/caiuspupus/Projects/Ynov/ml-elective3/venv/lib/python3.8/site-packages/sklearn/utils/validation.py:63: DataConversionWarning: A column-vector y was passed when a 1d array was expected. Please change the shape of y to (n_samples, ), for example using ravel().\n",
      "  return f(*args, **kwargs)\n",
      "/Users/caiuspupus/Projects/Ynov/ml-elective3/venv/lib/python3.8/site-packages/sklearn/utils/validation.py:63: DataConversionWarning: A column-vector y was passed when a 1d array was expected. Please change the shape of y to (n_samples, ), for example using ravel().\n",
      "  return f(*args, **kwargs)\n",
      "/Users/caiuspupus/Projects/Ynov/ml-elective3/venv/lib/python3.8/site-packages/sklearn/utils/validation.py:63: DataConversionWarning: A column-vector y was passed when a 1d array was expected. Please change the shape of y to (n_samples, ), for example using ravel().\n",
      "  return f(*args, **kwargs)\n",
      "/Users/caiuspupus/Projects/Ynov/ml-elective3/venv/lib/python3.8/site-packages/sklearn/utils/validation.py:63: DataConversionWarning: A column-vector y was passed when a 1d array was expected. Please change the shape of y to (n_samples, ), for example using ravel().\n",
      "  return f(*args, **kwargs)\n",
      "/Users/caiuspupus/Projects/Ynov/ml-elective3/venv/lib/python3.8/site-packages/sklearn/utils/validation.py:63: DataConversionWarning: A column-vector y was passed when a 1d array was expected. Please change the shape of y to (n_samples, ), for example using ravel().\n",
      "  return f(*args, **kwargs)\n",
      "/Users/caiuspupus/Projects/Ynov/ml-elective3/venv/lib/python3.8/site-packages/sklearn/utils/validation.py:63: DataConversionWarning: A column-vector y was passed when a 1d array was expected. Please change the shape of y to (n_samples, ), for example using ravel().\n",
      "  return f(*args, **kwargs)\n",
      "/Users/caiuspupus/Projects/Ynov/ml-elective3/venv/lib/python3.8/site-packages/sklearn/utils/validation.py:63: DataConversionWarning: A column-vector y was passed when a 1d array was expected. Please change the shape of y to (n_samples, ), for example using ravel().\n",
      "  return f(*args, **kwargs)\n",
      "/Users/caiuspupus/Projects/Ynov/ml-elective3/venv/lib/python3.8/site-packages/sklearn/utils/validation.py:63: DataConversionWarning: A column-vector y was passed when a 1d array was expected. Please change the shape of y to (n_samples, ), for example using ravel().\n",
      "  return f(*args, **kwargs)\n",
      "/Users/caiuspupus/Projects/Ynov/ml-elective3/venv/lib/python3.8/site-packages/sklearn/utils/validation.py:63: DataConversionWarning: A column-vector y was passed when a 1d array was expected. Please change the shape of y to (n_samples, ), for example using ravel().\n",
      "  return f(*args, **kwargs)\n",
      "/Users/caiuspupus/Projects/Ynov/ml-elective3/venv/lib/python3.8/site-packages/sklearn/utils/validation.py:63: DataConversionWarning: A column-vector y was passed when a 1d array was expected. Please change the shape of y to (n_samples, ), for example using ravel().\n",
      "  return f(*args, **kwargs)\n",
      "/Users/caiuspupus/Projects/Ynov/ml-elective3/venv/lib/python3.8/site-packages/sklearn/utils/validation.py:63: DataConversionWarning: A column-vector y was passed when a 1d array was expected. Please change the shape of y to (n_samples, ), for example using ravel().\n",
      "  return f(*args, **kwargs)\n",
      "/Users/caiuspupus/Projects/Ynov/ml-elective3/venv/lib/python3.8/site-packages/sklearn/utils/validation.py:63: DataConversionWarning: A column-vector y was passed when a 1d array was expected. Please change the shape of y to (n_samples, ), for example using ravel().\n",
      "  return f(*args, **kwargs)\n",
      "/Users/caiuspupus/Projects/Ynov/ml-elective3/venv/lib/python3.8/site-packages/sklearn/utils/validation.py:63: DataConversionWarning: A column-vector y was passed when a 1d array was expected. Please change the shape of y to (n_samples, ), for example using ravel().\n",
      "  return f(*args, **kwargs)\n",
      "/Users/caiuspupus/Projects/Ynov/ml-elective3/venv/lib/python3.8/site-packages/sklearn/utils/validation.py:63: DataConversionWarning: A column-vector y was passed when a 1d array was expected. Please change the shape of y to (n_samples, ), for example using ravel().\n",
      "  return f(*args, **kwargs)\n",
      "/Users/caiuspupus/Projects/Ynov/ml-elective3/venv/lib/python3.8/site-packages/sklearn/utils/validation.py:63: DataConversionWarning: A column-vector y was passed when a 1d array was expected. Please change the shape of y to (n_samples, ), for example using ravel().\n",
      "  return f(*args, **kwargs)\n",
      "/Users/caiuspupus/Projects/Ynov/ml-elective3/venv/lib/python3.8/site-packages/sklearn/utils/validation.py:63: DataConversionWarning: A column-vector y was passed when a 1d array was expected. Please change the shape of y to (n_samples, ), for example using ravel().\n",
      "  return f(*args, **kwargs)\n",
      "/Users/caiuspupus/Projects/Ynov/ml-elective3/venv/lib/python3.8/site-packages/sklearn/utils/validation.py:63: DataConversionWarning: A column-vector y was passed when a 1d array was expected. Please change the shape of y to (n_samples, ), for example using ravel().\n",
      "  return f(*args, **kwargs)\n",
      "/Users/caiuspupus/Projects/Ynov/ml-elective3/venv/lib/python3.8/site-packages/sklearn/utils/validation.py:63: DataConversionWarning: A column-vector y was passed when a 1d array was expected. Please change the shape of y to (n_samples, ), for example using ravel().\n",
      "  return f(*args, **kwargs)\n",
      "/Users/caiuspupus/Projects/Ynov/ml-elective3/venv/lib/python3.8/site-packages/sklearn/utils/validation.py:63: DataConversionWarning: A column-vector y was passed when a 1d array was expected. Please change the shape of y to (n_samples, ), for example using ravel().\n",
      "  return f(*args, **kwargs)\n",
      "/Users/caiuspupus/Projects/Ynov/ml-elective3/venv/lib/python3.8/site-packages/sklearn/utils/validation.py:63: DataConversionWarning: A column-vector y was passed when a 1d array was expected. Please change the shape of y to (n_samples, ), for example using ravel().\n",
      "  return f(*args, **kwargs)\n",
      "/Users/caiuspupus/Projects/Ynov/ml-elective3/venv/lib/python3.8/site-packages/sklearn/utils/validation.py:63: DataConversionWarning: A column-vector y was passed when a 1d array was expected. Please change the shape of y to (n_samples, ), for example using ravel().\n",
      "  return f(*args, **kwargs)\n",
      "/Users/caiuspupus/Projects/Ynov/ml-elective3/venv/lib/python3.8/site-packages/sklearn/utils/validation.py:63: DataConversionWarning: A column-vector y was passed when a 1d array was expected. Please change the shape of y to (n_samples, ), for example using ravel().\n",
      "  return f(*args, **kwargs)\n",
      "/Users/caiuspupus/Projects/Ynov/ml-elective3/venv/lib/python3.8/site-packages/sklearn/utils/validation.py:63: DataConversionWarning: A column-vector y was passed when a 1d array was expected. Please change the shape of y to (n_samples, ), for example using ravel().\n",
      "  return f(*args, **kwargs)\n",
      "/Users/caiuspupus/Projects/Ynov/ml-elective3/venv/lib/python3.8/site-packages/sklearn/utils/validation.py:63: DataConversionWarning: A column-vector y was passed when a 1d array was expected. Please change the shape of y to (n_samples, ), for example using ravel().\n",
      "  return f(*args, **kwargs)\n",
      "/Users/caiuspupus/Projects/Ynov/ml-elective3/venv/lib/python3.8/site-packages/sklearn/utils/validation.py:63: DataConversionWarning: A column-vector y was passed when a 1d array was expected. Please change the shape of y to (n_samples, ), for example using ravel().\n",
      "  return f(*args, **kwargs)\n"
     ]
    },
    {
     "name": "stderr",
     "output_type": "stream",
     "text": [
      "/Users/caiuspupus/Projects/Ynov/ml-elective3/venv/lib/python3.8/site-packages/sklearn/utils/validation.py:63: DataConversionWarning: A column-vector y was passed when a 1d array was expected. Please change the shape of y to (n_samples, ), for example using ravel().\n",
      "  return f(*args, **kwargs)\n",
      "/Users/caiuspupus/Projects/Ynov/ml-elective3/venv/lib/python3.8/site-packages/sklearn/utils/validation.py:63: DataConversionWarning: A column-vector y was passed when a 1d array was expected. Please change the shape of y to (n_samples, ), for example using ravel().\n",
      "  return f(*args, **kwargs)\n",
      "/Users/caiuspupus/Projects/Ynov/ml-elective3/venv/lib/python3.8/site-packages/sklearn/utils/validation.py:63: DataConversionWarning: A column-vector y was passed when a 1d array was expected. Please change the shape of y to (n_samples, ), for example using ravel().\n",
      "  return f(*args, **kwargs)\n",
      "/Users/caiuspupus/Projects/Ynov/ml-elective3/venv/lib/python3.8/site-packages/sklearn/utils/validation.py:63: DataConversionWarning: A column-vector y was passed when a 1d array was expected. Please change the shape of y to (n_samples, ), for example using ravel().\n",
      "  return f(*args, **kwargs)\n",
      "/Users/caiuspupus/Projects/Ynov/ml-elective3/venv/lib/python3.8/site-packages/sklearn/utils/validation.py:63: DataConversionWarning: A column-vector y was passed when a 1d array was expected. Please change the shape of y to (n_samples, ), for example using ravel().\n",
      "  return f(*args, **kwargs)\n",
      "/Users/caiuspupus/Projects/Ynov/ml-elective3/venv/lib/python3.8/site-packages/sklearn/utils/validation.py:63: DataConversionWarning: A column-vector y was passed when a 1d array was expected. Please change the shape of y to (n_samples, ), for example using ravel().\n",
      "  return f(*args, **kwargs)\n",
      "/Users/caiuspupus/Projects/Ynov/ml-elective3/venv/lib/python3.8/site-packages/sklearn/utils/validation.py:63: DataConversionWarning: A column-vector y was passed when a 1d array was expected. Please change the shape of y to (n_samples, ), for example using ravel().\n",
      "  return f(*args, **kwargs)\n",
      "/Users/caiuspupus/Projects/Ynov/ml-elective3/venv/lib/python3.8/site-packages/sklearn/utils/validation.py:63: DataConversionWarning: A column-vector y was passed when a 1d array was expected. Please change the shape of y to (n_samples, ), for example using ravel().\n",
      "  return f(*args, **kwargs)\n",
      "/Users/caiuspupus/Projects/Ynov/ml-elective3/venv/lib/python3.8/site-packages/sklearn/utils/validation.py:63: DataConversionWarning: A column-vector y was passed when a 1d array was expected. Please change the shape of y to (n_samples, ), for example using ravel().\n",
      "  return f(*args, **kwargs)\n",
      "/Users/caiuspupus/Projects/Ynov/ml-elective3/venv/lib/python3.8/site-packages/sklearn/utils/validation.py:63: DataConversionWarning: A column-vector y was passed when a 1d array was expected. Please change the shape of y to (n_samples, ), for example using ravel().\n",
      "  return f(*args, **kwargs)\n",
      "/Users/caiuspupus/Projects/Ynov/ml-elective3/venv/lib/python3.8/site-packages/sklearn/utils/validation.py:63: DataConversionWarning: A column-vector y was passed when a 1d array was expected. Please change the shape of y to (n_samples, ), for example using ravel().\n",
      "  return f(*args, **kwargs)\n",
      "/Users/caiuspupus/Projects/Ynov/ml-elective3/venv/lib/python3.8/site-packages/sklearn/utils/validation.py:63: DataConversionWarning: A column-vector y was passed when a 1d array was expected. Please change the shape of y to (n_samples, ), for example using ravel().\n",
      "  return f(*args, **kwargs)\n",
      "/Users/caiuspupus/Projects/Ynov/ml-elective3/venv/lib/python3.8/site-packages/sklearn/utils/validation.py:63: DataConversionWarning: A column-vector y was passed when a 1d array was expected. Please change the shape of y to (n_samples, ), for example using ravel().\n",
      "  return f(*args, **kwargs)\n",
      "/Users/caiuspupus/Projects/Ynov/ml-elective3/venv/lib/python3.8/site-packages/sklearn/utils/validation.py:63: DataConversionWarning: A column-vector y was passed when a 1d array was expected. Please change the shape of y to (n_samples, ), for example using ravel().\n",
      "  return f(*args, **kwargs)\n",
      "/Users/caiuspupus/Projects/Ynov/ml-elective3/venv/lib/python3.8/site-packages/sklearn/utils/validation.py:63: DataConversionWarning: A column-vector y was passed when a 1d array was expected. Please change the shape of y to (n_samples, ), for example using ravel().\n",
      "  return f(*args, **kwargs)\n",
      "/Users/caiuspupus/Projects/Ynov/ml-elective3/venv/lib/python3.8/site-packages/sklearn/utils/validation.py:63: DataConversionWarning: A column-vector y was passed when a 1d array was expected. Please change the shape of y to (n_samples, ), for example using ravel().\n",
      "  return f(*args, **kwargs)\n",
      "/Users/caiuspupus/Projects/Ynov/ml-elective3/venv/lib/python3.8/site-packages/sklearn/utils/validation.py:63: DataConversionWarning: A column-vector y was passed when a 1d array was expected. Please change the shape of y to (n_samples, ), for example using ravel().\n",
      "  return f(*args, **kwargs)\n",
      "/Users/caiuspupus/Projects/Ynov/ml-elective3/venv/lib/python3.8/site-packages/sklearn/utils/validation.py:63: DataConversionWarning: A column-vector y was passed when a 1d array was expected. Please change the shape of y to (n_samples, ), for example using ravel().\n",
      "  return f(*args, **kwargs)\n",
      "/Users/caiuspupus/Projects/Ynov/ml-elective3/venv/lib/python3.8/site-packages/sklearn/utils/validation.py:63: DataConversionWarning: A column-vector y was passed when a 1d array was expected. Please change the shape of y to (n_samples, ), for example using ravel().\n",
      "  return f(*args, **kwargs)\n",
      "/Users/caiuspupus/Projects/Ynov/ml-elective3/venv/lib/python3.8/site-packages/sklearn/utils/validation.py:63: DataConversionWarning: A column-vector y was passed when a 1d array was expected. Please change the shape of y to (n_samples, ), for example using ravel().\n",
      "  return f(*args, **kwargs)\n",
      "/Users/caiuspupus/Projects/Ynov/ml-elective3/venv/lib/python3.8/site-packages/sklearn/utils/validation.py:63: DataConversionWarning: A column-vector y was passed when a 1d array was expected. Please change the shape of y to (n_samples, ), for example using ravel().\n",
      "  return f(*args, **kwargs)\n",
      "/Users/caiuspupus/Projects/Ynov/ml-elective3/venv/lib/python3.8/site-packages/sklearn/utils/validation.py:63: DataConversionWarning: A column-vector y was passed when a 1d array was expected. Please change the shape of y to (n_samples, ), for example using ravel().\n",
      "  return f(*args, **kwargs)\n",
      "/Users/caiuspupus/Projects/Ynov/ml-elective3/venv/lib/python3.8/site-packages/sklearn/utils/validation.py:63: DataConversionWarning: A column-vector y was passed when a 1d array was expected. Please change the shape of y to (n_samples, ), for example using ravel().\n",
      "  return f(*args, **kwargs)\n",
      "/Users/caiuspupus/Projects/Ynov/ml-elective3/venv/lib/python3.8/site-packages/sklearn/utils/validation.py:63: DataConversionWarning: A column-vector y was passed when a 1d array was expected. Please change the shape of y to (n_samples, ), for example using ravel().\n",
      "  return f(*args, **kwargs)\n",
      "/Users/caiuspupus/Projects/Ynov/ml-elective3/venv/lib/python3.8/site-packages/sklearn/utils/validation.py:63: DataConversionWarning: A column-vector y was passed when a 1d array was expected. Please change the shape of y to (n_samples, ), for example using ravel().\n",
      "  return f(*args, **kwargs)\n",
      "/Users/caiuspupus/Projects/Ynov/ml-elective3/venv/lib/python3.8/site-packages/sklearn/utils/validation.py:63: DataConversionWarning: A column-vector y was passed when a 1d array was expected. Please change the shape of y to (n_samples, ), for example using ravel().\n",
      "  return f(*args, **kwargs)\n",
      "/Users/caiuspupus/Projects/Ynov/ml-elective3/venv/lib/python3.8/site-packages/sklearn/utils/validation.py:63: DataConversionWarning: A column-vector y was passed when a 1d array was expected. Please change the shape of y to (n_samples, ), for example using ravel().\n",
      "  return f(*args, **kwargs)\n",
      "/Users/caiuspupus/Projects/Ynov/ml-elective3/venv/lib/python3.8/site-packages/sklearn/utils/validation.py:63: DataConversionWarning: A column-vector y was passed when a 1d array was expected. Please change the shape of y to (n_samples, ), for example using ravel().\n",
      "  return f(*args, **kwargs)\n",
      "/Users/caiuspupus/Projects/Ynov/ml-elective3/venv/lib/python3.8/site-packages/sklearn/utils/validation.py:63: DataConversionWarning: A column-vector y was passed when a 1d array was expected. Please change the shape of y to (n_samples, ), for example using ravel().\n",
      "  return f(*args, **kwargs)\n",
      "/Users/caiuspupus/Projects/Ynov/ml-elective3/venv/lib/python3.8/site-packages/sklearn/utils/validation.py:63: DataConversionWarning: A column-vector y was passed when a 1d array was expected. Please change the shape of y to (n_samples, ), for example using ravel().\n",
      "  return f(*args, **kwargs)\n",
      "/Users/caiuspupus/Projects/Ynov/ml-elective3/venv/lib/python3.8/site-packages/sklearn/utils/validation.py:63: DataConversionWarning: A column-vector y was passed when a 1d array was expected. Please change the shape of y to (n_samples, ), for example using ravel().\n",
      "  return f(*args, **kwargs)\n",
      "/Users/caiuspupus/Projects/Ynov/ml-elective3/venv/lib/python3.8/site-packages/sklearn/utils/validation.py:63: DataConversionWarning: A column-vector y was passed when a 1d array was expected. Please change the shape of y to (n_samples, ), for example using ravel().\n",
      "  return f(*args, **kwargs)\n",
      "/Users/caiuspupus/Projects/Ynov/ml-elective3/venv/lib/python3.8/site-packages/sklearn/utils/validation.py:63: DataConversionWarning: A column-vector y was passed when a 1d array was expected. Please change the shape of y to (n_samples, ), for example using ravel().\n",
      "  return f(*args, **kwargs)\n",
      "/Users/caiuspupus/Projects/Ynov/ml-elective3/venv/lib/python3.8/site-packages/sklearn/utils/validation.py:63: DataConversionWarning: A column-vector y was passed when a 1d array was expected. Please change the shape of y to (n_samples, ), for example using ravel().\n",
      "  return f(*args, **kwargs)\n",
      "/Users/caiuspupus/Projects/Ynov/ml-elective3/venv/lib/python3.8/site-packages/sklearn/utils/validation.py:63: DataConversionWarning: A column-vector y was passed when a 1d array was expected. Please change the shape of y to (n_samples, ), for example using ravel().\n",
      "  return f(*args, **kwargs)\n",
      "/Users/caiuspupus/Projects/Ynov/ml-elective3/venv/lib/python3.8/site-packages/sklearn/utils/validation.py:63: DataConversionWarning: A column-vector y was passed when a 1d array was expected. Please change the shape of y to (n_samples, ), for example using ravel().\n",
      "  return f(*args, **kwargs)\n",
      "/Users/caiuspupus/Projects/Ynov/ml-elective3/venv/lib/python3.8/site-packages/sklearn/utils/validation.py:63: DataConversionWarning: A column-vector y was passed when a 1d array was expected. Please change the shape of y to (n_samples, ), for example using ravel().\n",
      "  return f(*args, **kwargs)\n",
      "/Users/caiuspupus/Projects/Ynov/ml-elective3/venv/lib/python3.8/site-packages/sklearn/utils/validation.py:63: DataConversionWarning: A column-vector y was passed when a 1d array was expected. Please change the shape of y to (n_samples, ), for example using ravel().\n",
      "  return f(*args, **kwargs)\n",
      "/Users/caiuspupus/Projects/Ynov/ml-elective3/venv/lib/python3.8/site-packages/sklearn/utils/validation.py:63: DataConversionWarning: A column-vector y was passed when a 1d array was expected. Please change the shape of y to (n_samples, ), for example using ravel().\n",
      "  return f(*args, **kwargs)\n",
      "/Users/caiuspupus/Projects/Ynov/ml-elective3/venv/lib/python3.8/site-packages/sklearn/utils/validation.py:63: DataConversionWarning: A column-vector y was passed when a 1d array was expected. Please change the shape of y to (n_samples, ), for example using ravel().\n",
      "  return f(*args, **kwargs)\n"
     ]
    },
    {
     "name": "stderr",
     "output_type": "stream",
     "text": [
      "/Users/caiuspupus/Projects/Ynov/ml-elective3/venv/lib/python3.8/site-packages/sklearn/utils/validation.py:63: DataConversionWarning: A column-vector y was passed when a 1d array was expected. Please change the shape of y to (n_samples, ), for example using ravel().\n",
      "  return f(*args, **kwargs)\n",
      "/Users/caiuspupus/Projects/Ynov/ml-elective3/venv/lib/python3.8/site-packages/sklearn/utils/validation.py:63: DataConversionWarning: A column-vector y was passed when a 1d array was expected. Please change the shape of y to (n_samples, ), for example using ravel().\n",
      "  return f(*args, **kwargs)\n",
      "/Users/caiuspupus/Projects/Ynov/ml-elective3/venv/lib/python3.8/site-packages/sklearn/utils/validation.py:63: DataConversionWarning: A column-vector y was passed when a 1d array was expected. Please change the shape of y to (n_samples, ), for example using ravel().\n",
      "  return f(*args, **kwargs)\n",
      "/Users/caiuspupus/Projects/Ynov/ml-elective3/venv/lib/python3.8/site-packages/sklearn/utils/validation.py:63: DataConversionWarning: A column-vector y was passed when a 1d array was expected. Please change the shape of y to (n_samples, ), for example using ravel().\n",
      "  return f(*args, **kwargs)\n",
      "/Users/caiuspupus/Projects/Ynov/ml-elective3/venv/lib/python3.8/site-packages/sklearn/utils/validation.py:63: DataConversionWarning: A column-vector y was passed when a 1d array was expected. Please change the shape of y to (n_samples, ), for example using ravel().\n",
      "  return f(*args, **kwargs)\n",
      "/Users/caiuspupus/Projects/Ynov/ml-elective3/venv/lib/python3.8/site-packages/sklearn/utils/validation.py:63: DataConversionWarning: A column-vector y was passed when a 1d array was expected. Please change the shape of y to (n_samples, ), for example using ravel().\n",
      "  return f(*args, **kwargs)\n",
      "/Users/caiuspupus/Projects/Ynov/ml-elective3/venv/lib/python3.8/site-packages/sklearn/utils/validation.py:63: DataConversionWarning: A column-vector y was passed when a 1d array was expected. Please change the shape of y to (n_samples, ), for example using ravel().\n",
      "  return f(*args, **kwargs)\n",
      "/Users/caiuspupus/Projects/Ynov/ml-elective3/venv/lib/python3.8/site-packages/sklearn/utils/validation.py:63: DataConversionWarning: A column-vector y was passed when a 1d array was expected. Please change the shape of y to (n_samples, ), for example using ravel().\n",
      "  return f(*args, **kwargs)\n",
      "/Users/caiuspupus/Projects/Ynov/ml-elective3/venv/lib/python3.8/site-packages/sklearn/utils/validation.py:63: DataConversionWarning: A column-vector y was passed when a 1d array was expected. Please change the shape of y to (n_samples, ), for example using ravel().\n",
      "  return f(*args, **kwargs)\n",
      "/Users/caiuspupus/Projects/Ynov/ml-elective3/venv/lib/python3.8/site-packages/sklearn/utils/validation.py:63: DataConversionWarning: A column-vector y was passed when a 1d array was expected. Please change the shape of y to (n_samples, ), for example using ravel().\n",
      "  return f(*args, **kwargs)\n",
      "/Users/caiuspupus/Projects/Ynov/ml-elective3/venv/lib/python3.8/site-packages/sklearn/utils/validation.py:63: DataConversionWarning: A column-vector y was passed when a 1d array was expected. Please change the shape of y to (n_samples, ), for example using ravel().\n",
      "  return f(*args, **kwargs)\n",
      "/Users/caiuspupus/Projects/Ynov/ml-elective3/venv/lib/python3.8/site-packages/sklearn/utils/validation.py:63: DataConversionWarning: A column-vector y was passed when a 1d array was expected. Please change the shape of y to (n_samples, ), for example using ravel().\n",
      "  return f(*args, **kwargs)\n",
      "/Users/caiuspupus/Projects/Ynov/ml-elective3/venv/lib/python3.8/site-packages/sklearn/utils/validation.py:63: DataConversionWarning: A column-vector y was passed when a 1d array was expected. Please change the shape of y to (n_samples, ), for example using ravel().\n",
      "  return f(*args, **kwargs)\n",
      "/Users/caiuspupus/Projects/Ynov/ml-elective3/venv/lib/python3.8/site-packages/sklearn/utils/validation.py:63: DataConversionWarning: A column-vector y was passed when a 1d array was expected. Please change the shape of y to (n_samples, ), for example using ravel().\n",
      "  return f(*args, **kwargs)\n",
      "/Users/caiuspupus/Projects/Ynov/ml-elective3/venv/lib/python3.8/site-packages/sklearn/utils/validation.py:63: DataConversionWarning: A column-vector y was passed when a 1d array was expected. Please change the shape of y to (n_samples, ), for example using ravel().\n",
      "  return f(*args, **kwargs)\n",
      "/Users/caiuspupus/Projects/Ynov/ml-elective3/venv/lib/python3.8/site-packages/sklearn/utils/validation.py:63: DataConversionWarning: A column-vector y was passed when a 1d array was expected. Please change the shape of y to (n_samples, ), for example using ravel().\n",
      "  return f(*args, **kwargs)\n",
      "/Users/caiuspupus/Projects/Ynov/ml-elective3/venv/lib/python3.8/site-packages/sklearn/utils/validation.py:63: DataConversionWarning: A column-vector y was passed when a 1d array was expected. Please change the shape of y to (n_samples, ), for example using ravel().\n",
      "  return f(*args, **kwargs)\n",
      "/Users/caiuspupus/Projects/Ynov/ml-elective3/venv/lib/python3.8/site-packages/sklearn/utils/validation.py:63: DataConversionWarning: A column-vector y was passed when a 1d array was expected. Please change the shape of y to (n_samples, ), for example using ravel().\n",
      "  return f(*args, **kwargs)\n",
      "/Users/caiuspupus/Projects/Ynov/ml-elective3/venv/lib/python3.8/site-packages/sklearn/utils/validation.py:63: DataConversionWarning: A column-vector y was passed when a 1d array was expected. Please change the shape of y to (n_samples, ), for example using ravel().\n",
      "  return f(*args, **kwargs)\n",
      "/Users/caiuspupus/Projects/Ynov/ml-elective3/venv/lib/python3.8/site-packages/sklearn/utils/validation.py:63: DataConversionWarning: A column-vector y was passed when a 1d array was expected. Please change the shape of y to (n_samples, ), for example using ravel().\n",
      "  return f(*args, **kwargs)\n",
      "/Users/caiuspupus/Projects/Ynov/ml-elective3/venv/lib/python3.8/site-packages/sklearn/utils/validation.py:63: DataConversionWarning: A column-vector y was passed when a 1d array was expected. Please change the shape of y to (n_samples, ), for example using ravel().\n",
      "  return f(*args, **kwargs)\n",
      "/Users/caiuspupus/Projects/Ynov/ml-elective3/venv/lib/python3.8/site-packages/sklearn/utils/validation.py:63: DataConversionWarning: A column-vector y was passed when a 1d array was expected. Please change the shape of y to (n_samples, ), for example using ravel().\n",
      "  return f(*args, **kwargs)\n",
      "/Users/caiuspupus/Projects/Ynov/ml-elective3/venv/lib/python3.8/site-packages/sklearn/utils/validation.py:63: DataConversionWarning: A column-vector y was passed when a 1d array was expected. Please change the shape of y to (n_samples, ), for example using ravel().\n",
      "  return f(*args, **kwargs)\n",
      "/Users/caiuspupus/Projects/Ynov/ml-elective3/venv/lib/python3.8/site-packages/sklearn/utils/validation.py:63: DataConversionWarning: A column-vector y was passed when a 1d array was expected. Please change the shape of y to (n_samples, ), for example using ravel().\n",
      "  return f(*args, **kwargs)\n",
      "/Users/caiuspupus/Projects/Ynov/ml-elective3/venv/lib/python3.8/site-packages/sklearn/utils/validation.py:63: DataConversionWarning: A column-vector y was passed when a 1d array was expected. Please change the shape of y to (n_samples, ), for example using ravel().\n",
      "  return f(*args, **kwargs)\n",
      "/Users/caiuspupus/Projects/Ynov/ml-elective3/venv/lib/python3.8/site-packages/sklearn/utils/validation.py:63: DataConversionWarning: A column-vector y was passed when a 1d array was expected. Please change the shape of y to (n_samples, ), for example using ravel().\n",
      "  return f(*args, **kwargs)\n",
      "/Users/caiuspupus/Projects/Ynov/ml-elective3/venv/lib/python3.8/site-packages/sklearn/utils/validation.py:63: DataConversionWarning: A column-vector y was passed when a 1d array was expected. Please change the shape of y to (n_samples, ), for example using ravel().\n",
      "  return f(*args, **kwargs)\n",
      "/Users/caiuspupus/Projects/Ynov/ml-elective3/venv/lib/python3.8/site-packages/sklearn/utils/validation.py:63: DataConversionWarning: A column-vector y was passed when a 1d array was expected. Please change the shape of y to (n_samples, ), for example using ravel().\n",
      "  return f(*args, **kwargs)\n",
      "/Users/caiuspupus/Projects/Ynov/ml-elective3/venv/lib/python3.8/site-packages/sklearn/utils/validation.py:63: DataConversionWarning: A column-vector y was passed when a 1d array was expected. Please change the shape of y to (n_samples, ), for example using ravel().\n",
      "  return f(*args, **kwargs)\n",
      "/Users/caiuspupus/Projects/Ynov/ml-elective3/venv/lib/python3.8/site-packages/sklearn/utils/validation.py:63: DataConversionWarning: A column-vector y was passed when a 1d array was expected. Please change the shape of y to (n_samples, ), for example using ravel().\n",
      "  return f(*args, **kwargs)\n",
      "/Users/caiuspupus/Projects/Ynov/ml-elective3/venv/lib/python3.8/site-packages/sklearn/utils/validation.py:63: DataConversionWarning: A column-vector y was passed when a 1d array was expected. Please change the shape of y to (n_samples, ), for example using ravel().\n",
      "  return f(*args, **kwargs)\n",
      "/Users/caiuspupus/Projects/Ynov/ml-elective3/venv/lib/python3.8/site-packages/sklearn/utils/validation.py:63: DataConversionWarning: A column-vector y was passed when a 1d array was expected. Please change the shape of y to (n_samples, ), for example using ravel().\n",
      "  return f(*args, **kwargs)\n",
      "/Users/caiuspupus/Projects/Ynov/ml-elective3/venv/lib/python3.8/site-packages/sklearn/utils/validation.py:63: DataConversionWarning: A column-vector y was passed when a 1d array was expected. Please change the shape of y to (n_samples, ), for example using ravel().\n",
      "  return f(*args, **kwargs)\n",
      "/Users/caiuspupus/Projects/Ynov/ml-elective3/venv/lib/python3.8/site-packages/sklearn/utils/validation.py:63: DataConversionWarning: A column-vector y was passed when a 1d array was expected. Please change the shape of y to (n_samples, ), for example using ravel().\n",
      "  return f(*args, **kwargs)\n",
      "/Users/caiuspupus/Projects/Ynov/ml-elective3/venv/lib/python3.8/site-packages/sklearn/utils/validation.py:63: DataConversionWarning: A column-vector y was passed when a 1d array was expected. Please change the shape of y to (n_samples, ), for example using ravel().\n",
      "  return f(*args, **kwargs)\n",
      "/Users/caiuspupus/Projects/Ynov/ml-elective3/venv/lib/python3.8/site-packages/sklearn/utils/validation.py:63: DataConversionWarning: A column-vector y was passed when a 1d array was expected. Please change the shape of y to (n_samples, ), for example using ravel().\n",
      "  return f(*args, **kwargs)\n",
      "/Users/caiuspupus/Projects/Ynov/ml-elective3/venv/lib/python3.8/site-packages/sklearn/utils/validation.py:63: DataConversionWarning: A column-vector y was passed when a 1d array was expected. Please change the shape of y to (n_samples, ), for example using ravel().\n",
      "  return f(*args, **kwargs)\n",
      "/Users/caiuspupus/Projects/Ynov/ml-elective3/venv/lib/python3.8/site-packages/sklearn/utils/validation.py:63: DataConversionWarning: A column-vector y was passed when a 1d array was expected. Please change the shape of y to (n_samples, ), for example using ravel().\n",
      "  return f(*args, **kwargs)\n",
      "/Users/caiuspupus/Projects/Ynov/ml-elective3/venv/lib/python3.8/site-packages/sklearn/utils/validation.py:63: DataConversionWarning: A column-vector y was passed when a 1d array was expected. Please change the shape of y to (n_samples, ), for example using ravel().\n",
      "  return f(*args, **kwargs)\n"
     ]
    },
    {
     "name": "stderr",
     "output_type": "stream",
     "text": [
      "/Users/caiuspupus/Projects/Ynov/ml-elective3/venv/lib/python3.8/site-packages/sklearn/utils/validation.py:63: DataConversionWarning: A column-vector y was passed when a 1d array was expected. Please change the shape of y to (n_samples, ), for example using ravel().\n",
      "  return f(*args, **kwargs)\n",
      "/Users/caiuspupus/Projects/Ynov/ml-elective3/venv/lib/python3.8/site-packages/sklearn/utils/validation.py:63: DataConversionWarning: A column-vector y was passed when a 1d array was expected. Please change the shape of y to (n_samples, ), for example using ravel().\n",
      "  return f(*args, **kwargs)\n",
      "/Users/caiuspupus/Projects/Ynov/ml-elective3/venv/lib/python3.8/site-packages/sklearn/utils/validation.py:63: DataConversionWarning: A column-vector y was passed when a 1d array was expected. Please change the shape of y to (n_samples, ), for example using ravel().\n",
      "  return f(*args, **kwargs)\n",
      "/Users/caiuspupus/Projects/Ynov/ml-elective3/venv/lib/python3.8/site-packages/sklearn/utils/validation.py:63: DataConversionWarning: A column-vector y was passed when a 1d array was expected. Please change the shape of y to (n_samples, ), for example using ravel().\n",
      "  return f(*args, **kwargs)\n",
      "/Users/caiuspupus/Projects/Ynov/ml-elective3/venv/lib/python3.8/site-packages/sklearn/utils/validation.py:63: DataConversionWarning: A column-vector y was passed when a 1d array was expected. Please change the shape of y to (n_samples, ), for example using ravel().\n",
      "  return f(*args, **kwargs)\n",
      "/Users/caiuspupus/Projects/Ynov/ml-elective3/venv/lib/python3.8/site-packages/sklearn/utils/validation.py:63: DataConversionWarning: A column-vector y was passed when a 1d array was expected. Please change the shape of y to (n_samples, ), for example using ravel().\n",
      "  return f(*args, **kwargs)\n",
      "/Users/caiuspupus/Projects/Ynov/ml-elective3/venv/lib/python3.8/site-packages/sklearn/utils/validation.py:63: DataConversionWarning: A column-vector y was passed when a 1d array was expected. Please change the shape of y to (n_samples, ), for example using ravel().\n",
      "  return f(*args, **kwargs)\n",
      "/Users/caiuspupus/Projects/Ynov/ml-elective3/venv/lib/python3.8/site-packages/sklearn/utils/validation.py:63: DataConversionWarning: A column-vector y was passed when a 1d array was expected. Please change the shape of y to (n_samples, ), for example using ravel().\n",
      "  return f(*args, **kwargs)\n",
      "/Users/caiuspupus/Projects/Ynov/ml-elective3/venv/lib/python3.8/site-packages/sklearn/utils/validation.py:63: DataConversionWarning: A column-vector y was passed when a 1d array was expected. Please change the shape of y to (n_samples, ), for example using ravel().\n",
      "  return f(*args, **kwargs)\n",
      "/Users/caiuspupus/Projects/Ynov/ml-elective3/venv/lib/python3.8/site-packages/sklearn/utils/validation.py:63: DataConversionWarning: A column-vector y was passed when a 1d array was expected. Please change the shape of y to (n_samples, ), for example using ravel().\n",
      "  return f(*args, **kwargs)\n",
      "/Users/caiuspupus/Projects/Ynov/ml-elective3/venv/lib/python3.8/site-packages/sklearn/utils/validation.py:63: DataConversionWarning: A column-vector y was passed when a 1d array was expected. Please change the shape of y to (n_samples, ), for example using ravel().\n",
      "  return f(*args, **kwargs)\n",
      "/Users/caiuspupus/Projects/Ynov/ml-elective3/venv/lib/python3.8/site-packages/sklearn/utils/validation.py:63: DataConversionWarning: A column-vector y was passed when a 1d array was expected. Please change the shape of y to (n_samples, ), for example using ravel().\n",
      "  return f(*args, **kwargs)\n",
      "/Users/caiuspupus/Projects/Ynov/ml-elective3/venv/lib/python3.8/site-packages/sklearn/utils/validation.py:63: DataConversionWarning: A column-vector y was passed when a 1d array was expected. Please change the shape of y to (n_samples, ), for example using ravel().\n",
      "  return f(*args, **kwargs)\n",
      "/Users/caiuspupus/Projects/Ynov/ml-elective3/venv/lib/python3.8/site-packages/sklearn/utils/validation.py:63: DataConversionWarning: A column-vector y was passed when a 1d array was expected. Please change the shape of y to (n_samples, ), for example using ravel().\n",
      "  return f(*args, **kwargs)\n",
      "/Users/caiuspupus/Projects/Ynov/ml-elective3/venv/lib/python3.8/site-packages/sklearn/utils/validation.py:63: DataConversionWarning: A column-vector y was passed when a 1d array was expected. Please change the shape of y to (n_samples, ), for example using ravel().\n",
      "  return f(*args, **kwargs)\n",
      "/Users/caiuspupus/Projects/Ynov/ml-elective3/venv/lib/python3.8/site-packages/sklearn/utils/validation.py:63: DataConversionWarning: A column-vector y was passed when a 1d array was expected. Please change the shape of y to (n_samples, ), for example using ravel().\n",
      "  return f(*args, **kwargs)\n",
      "/Users/caiuspupus/Projects/Ynov/ml-elective3/venv/lib/python3.8/site-packages/sklearn/utils/validation.py:63: DataConversionWarning: A column-vector y was passed when a 1d array was expected. Please change the shape of y to (n_samples, ), for example using ravel().\n",
      "  return f(*args, **kwargs)\n",
      "/Users/caiuspupus/Projects/Ynov/ml-elective3/venv/lib/python3.8/site-packages/sklearn/utils/validation.py:63: DataConversionWarning: A column-vector y was passed when a 1d array was expected. Please change the shape of y to (n_samples, ), for example using ravel().\n",
      "  return f(*args, **kwargs)\n",
      "/Users/caiuspupus/Projects/Ynov/ml-elective3/venv/lib/python3.8/site-packages/sklearn/utils/validation.py:63: DataConversionWarning: A column-vector y was passed when a 1d array was expected. Please change the shape of y to (n_samples, ), for example using ravel().\n",
      "  return f(*args, **kwargs)\n",
      "/Users/caiuspupus/Projects/Ynov/ml-elective3/venv/lib/python3.8/site-packages/sklearn/utils/validation.py:63: DataConversionWarning: A column-vector y was passed when a 1d array was expected. Please change the shape of y to (n_samples, ), for example using ravel().\n",
      "  return f(*args, **kwargs)\n",
      "/Users/caiuspupus/Projects/Ynov/ml-elective3/venv/lib/python3.8/site-packages/sklearn/utils/validation.py:63: DataConversionWarning: A column-vector y was passed when a 1d array was expected. Please change the shape of y to (n_samples, ), for example using ravel().\n",
      "  return f(*args, **kwargs)\n",
      "/Users/caiuspupus/Projects/Ynov/ml-elective3/venv/lib/python3.8/site-packages/sklearn/utils/validation.py:63: DataConversionWarning: A column-vector y was passed when a 1d array was expected. Please change the shape of y to (n_samples, ), for example using ravel().\n",
      "  return f(*args, **kwargs)\n",
      "/Users/caiuspupus/Projects/Ynov/ml-elective3/venv/lib/python3.8/site-packages/sklearn/utils/validation.py:63: DataConversionWarning: A column-vector y was passed when a 1d array was expected. Please change the shape of y to (n_samples, ), for example using ravel().\n",
      "  return f(*args, **kwargs)\n",
      "/Users/caiuspupus/Projects/Ynov/ml-elective3/venv/lib/python3.8/site-packages/sklearn/utils/validation.py:63: DataConversionWarning: A column-vector y was passed when a 1d array was expected. Please change the shape of y to (n_samples, ), for example using ravel().\n",
      "  return f(*args, **kwargs)\n",
      "/Users/caiuspupus/Projects/Ynov/ml-elective3/venv/lib/python3.8/site-packages/sklearn/utils/validation.py:63: DataConversionWarning: A column-vector y was passed when a 1d array was expected. Please change the shape of y to (n_samples, ), for example using ravel().\n",
      "  return f(*args, **kwargs)\n",
      "/Users/caiuspupus/Projects/Ynov/ml-elective3/venv/lib/python3.8/site-packages/sklearn/utils/validation.py:63: DataConversionWarning: A column-vector y was passed when a 1d array was expected. Please change the shape of y to (n_samples, ), for example using ravel().\n",
      "  return f(*args, **kwargs)\n",
      "/Users/caiuspupus/Projects/Ynov/ml-elective3/venv/lib/python3.8/site-packages/sklearn/utils/validation.py:63: DataConversionWarning: A column-vector y was passed when a 1d array was expected. Please change the shape of y to (n_samples, ), for example using ravel().\n",
      "  return f(*args, **kwargs)\n",
      "/Users/caiuspupus/Projects/Ynov/ml-elective3/venv/lib/python3.8/site-packages/sklearn/utils/validation.py:63: DataConversionWarning: A column-vector y was passed when a 1d array was expected. Please change the shape of y to (n_samples, ), for example using ravel().\n",
      "  return f(*args, **kwargs)\n",
      "/Users/caiuspupus/Projects/Ynov/ml-elective3/venv/lib/python3.8/site-packages/sklearn/utils/validation.py:63: DataConversionWarning: A column-vector y was passed when a 1d array was expected. Please change the shape of y to (n_samples, ), for example using ravel().\n",
      "  return f(*args, **kwargs)\n",
      "/Users/caiuspupus/Projects/Ynov/ml-elective3/venv/lib/python3.8/site-packages/sklearn/utils/validation.py:63: DataConversionWarning: A column-vector y was passed when a 1d array was expected. Please change the shape of y to (n_samples, ), for example using ravel().\n",
      "  return f(*args, **kwargs)\n",
      "/Users/caiuspupus/Projects/Ynov/ml-elective3/venv/lib/python3.8/site-packages/sklearn/utils/validation.py:63: DataConversionWarning: A column-vector y was passed when a 1d array was expected. Please change the shape of y to (n_samples, ), for example using ravel().\n",
      "  return f(*args, **kwargs)\n"
     ]
    },
    {
     "name": "stderr",
     "output_type": "stream",
     "text": [
      "/Users/caiuspupus/Projects/Ynov/ml-elective3/venv/lib/python3.8/site-packages/sklearn/utils/validation.py:63: DataConversionWarning: A column-vector y was passed when a 1d array was expected. Please change the shape of y to (n_samples, ), for example using ravel().\n",
      "  return f(*args, **kwargs)\n",
      "/Users/caiuspupus/Projects/Ynov/ml-elective3/venv/lib/python3.8/site-packages/sklearn/utils/validation.py:63: DataConversionWarning: A column-vector y was passed when a 1d array was expected. Please change the shape of y to (n_samples, ), for example using ravel().\n",
      "  return f(*args, **kwargs)\n",
      "/Users/caiuspupus/Projects/Ynov/ml-elective3/venv/lib/python3.8/site-packages/sklearn/utils/validation.py:63: DataConversionWarning: A column-vector y was passed when a 1d array was expected. Please change the shape of y to (n_samples, ), for example using ravel().\n",
      "  return f(*args, **kwargs)\n",
      "/Users/caiuspupus/Projects/Ynov/ml-elective3/venv/lib/python3.8/site-packages/sklearn/utils/validation.py:63: DataConversionWarning: A column-vector y was passed when a 1d array was expected. Please change the shape of y to (n_samples, ), for example using ravel().\n",
      "  return f(*args, **kwargs)\n",
      "/Users/caiuspupus/Projects/Ynov/ml-elective3/venv/lib/python3.8/site-packages/sklearn/utils/validation.py:63: DataConversionWarning: A column-vector y was passed when a 1d array was expected. Please change the shape of y to (n_samples, ), for example using ravel().\n",
      "  return f(*args, **kwargs)\n",
      "/Users/caiuspupus/Projects/Ynov/ml-elective3/venv/lib/python3.8/site-packages/sklearn/utils/validation.py:63: DataConversionWarning: A column-vector y was passed when a 1d array was expected. Please change the shape of y to (n_samples, ), for example using ravel().\n",
      "  return f(*args, **kwargs)\n",
      "/Users/caiuspupus/Projects/Ynov/ml-elective3/venv/lib/python3.8/site-packages/sklearn/utils/validation.py:63: DataConversionWarning: A column-vector y was passed when a 1d array was expected. Please change the shape of y to (n_samples, ), for example using ravel().\n",
      "  return f(*args, **kwargs)\n",
      "/Users/caiuspupus/Projects/Ynov/ml-elective3/venv/lib/python3.8/site-packages/sklearn/utils/validation.py:63: DataConversionWarning: A column-vector y was passed when a 1d array was expected. Please change the shape of y to (n_samples, ), for example using ravel().\n",
      "  return f(*args, **kwargs)\n",
      "/Users/caiuspupus/Projects/Ynov/ml-elective3/venv/lib/python3.8/site-packages/sklearn/utils/validation.py:63: DataConversionWarning: A column-vector y was passed when a 1d array was expected. Please change the shape of y to (n_samples, ), for example using ravel().\n",
      "  return f(*args, **kwargs)\n",
      "/Users/caiuspupus/Projects/Ynov/ml-elective3/venv/lib/python3.8/site-packages/sklearn/utils/validation.py:63: DataConversionWarning: A column-vector y was passed when a 1d array was expected. Please change the shape of y to (n_samples, ), for example using ravel().\n",
      "  return f(*args, **kwargs)\n",
      "/Users/caiuspupus/Projects/Ynov/ml-elective3/venv/lib/python3.8/site-packages/sklearn/utils/validation.py:63: DataConversionWarning: A column-vector y was passed when a 1d array was expected. Please change the shape of y to (n_samples, ), for example using ravel().\n",
      "  return f(*args, **kwargs)\n",
      "/Users/caiuspupus/Projects/Ynov/ml-elective3/venv/lib/python3.8/site-packages/sklearn/utils/validation.py:63: DataConversionWarning: A column-vector y was passed when a 1d array was expected. Please change the shape of y to (n_samples, ), for example using ravel().\n",
      "  return f(*args, **kwargs)\n",
      "/Users/caiuspupus/Projects/Ynov/ml-elective3/venv/lib/python3.8/site-packages/sklearn/utils/validation.py:63: DataConversionWarning: A column-vector y was passed when a 1d array was expected. Please change the shape of y to (n_samples, ), for example using ravel().\n",
      "  return f(*args, **kwargs)\n",
      "/Users/caiuspupus/Projects/Ynov/ml-elective3/venv/lib/python3.8/site-packages/sklearn/utils/validation.py:63: DataConversionWarning: A column-vector y was passed when a 1d array was expected. Please change the shape of y to (n_samples, ), for example using ravel().\n",
      "  return f(*args, **kwargs)\n",
      "/Users/caiuspupus/Projects/Ynov/ml-elective3/venv/lib/python3.8/site-packages/sklearn/utils/validation.py:63: DataConversionWarning: A column-vector y was passed when a 1d array was expected. Please change the shape of y to (n_samples, ), for example using ravel().\n",
      "  return f(*args, **kwargs)\n",
      "/Users/caiuspupus/Projects/Ynov/ml-elective3/venv/lib/python3.8/site-packages/sklearn/utils/validation.py:63: DataConversionWarning: A column-vector y was passed when a 1d array was expected. Please change the shape of y to (n_samples, ), for example using ravel().\n",
      "  return f(*args, **kwargs)\n",
      "/Users/caiuspupus/Projects/Ynov/ml-elective3/venv/lib/python3.8/site-packages/sklearn/utils/validation.py:63: DataConversionWarning: A column-vector y was passed when a 1d array was expected. Please change the shape of y to (n_samples, ), for example using ravel().\n",
      "  return f(*args, **kwargs)\n",
      "/Users/caiuspupus/Projects/Ynov/ml-elective3/venv/lib/python3.8/site-packages/sklearn/utils/validation.py:63: DataConversionWarning: A column-vector y was passed when a 1d array was expected. Please change the shape of y to (n_samples, ), for example using ravel().\n",
      "  return f(*args, **kwargs)\n",
      "/Users/caiuspupus/Projects/Ynov/ml-elective3/venv/lib/python3.8/site-packages/sklearn/utils/validation.py:63: DataConversionWarning: A column-vector y was passed when a 1d array was expected. Please change the shape of y to (n_samples, ), for example using ravel().\n",
      "  return f(*args, **kwargs)\n",
      "/Users/caiuspupus/Projects/Ynov/ml-elective3/venv/lib/python3.8/site-packages/sklearn/utils/validation.py:63: DataConversionWarning: A column-vector y was passed when a 1d array was expected. Please change the shape of y to (n_samples, ), for example using ravel().\n",
      "  return f(*args, **kwargs)\n",
      "/Users/caiuspupus/Projects/Ynov/ml-elective3/venv/lib/python3.8/site-packages/sklearn/utils/validation.py:63: DataConversionWarning: A column-vector y was passed when a 1d array was expected. Please change the shape of y to (n_samples, ), for example using ravel().\n",
      "  return f(*args, **kwargs)\n",
      "/Users/caiuspupus/Projects/Ynov/ml-elective3/venv/lib/python3.8/site-packages/sklearn/utils/validation.py:63: DataConversionWarning: A column-vector y was passed when a 1d array was expected. Please change the shape of y to (n_samples, ), for example using ravel().\n",
      "  return f(*args, **kwargs)\n",
      "/Users/caiuspupus/Projects/Ynov/ml-elective3/venv/lib/python3.8/site-packages/sklearn/utils/validation.py:63: DataConversionWarning: A column-vector y was passed when a 1d array was expected. Please change the shape of y to (n_samples, ), for example using ravel().\n",
      "  return f(*args, **kwargs)\n",
      "/Users/caiuspupus/Projects/Ynov/ml-elective3/venv/lib/python3.8/site-packages/sklearn/utils/validation.py:63: DataConversionWarning: A column-vector y was passed when a 1d array was expected. Please change the shape of y to (n_samples, ), for example using ravel().\n",
      "  return f(*args, **kwargs)\n",
      "/Users/caiuspupus/Projects/Ynov/ml-elective3/venv/lib/python3.8/site-packages/sklearn/utils/validation.py:63: DataConversionWarning: A column-vector y was passed when a 1d array was expected. Please change the shape of y to (n_samples, ), for example using ravel().\n",
      "  return f(*args, **kwargs)\n",
      "/Users/caiuspupus/Projects/Ynov/ml-elective3/venv/lib/python3.8/site-packages/sklearn/utils/validation.py:63: DataConversionWarning: A column-vector y was passed when a 1d array was expected. Please change the shape of y to (n_samples, ), for example using ravel().\n",
      "  return f(*args, **kwargs)\n",
      "/Users/caiuspupus/Projects/Ynov/ml-elective3/venv/lib/python3.8/site-packages/sklearn/utils/validation.py:63: DataConversionWarning: A column-vector y was passed when a 1d array was expected. Please change the shape of y to (n_samples, ), for example using ravel().\n",
      "  return f(*args, **kwargs)\n",
      "/Users/caiuspupus/Projects/Ynov/ml-elective3/venv/lib/python3.8/site-packages/sklearn/utils/validation.py:63: DataConversionWarning: A column-vector y was passed when a 1d array was expected. Please change the shape of y to (n_samples, ), for example using ravel().\n",
      "  return f(*args, **kwargs)\n",
      "/Users/caiuspupus/Projects/Ynov/ml-elective3/venv/lib/python3.8/site-packages/sklearn/utils/validation.py:63: DataConversionWarning: A column-vector y was passed when a 1d array was expected. Please change the shape of y to (n_samples, ), for example using ravel().\n",
      "  return f(*args, **kwargs)\n",
      "/Users/caiuspupus/Projects/Ynov/ml-elective3/venv/lib/python3.8/site-packages/sklearn/utils/validation.py:63: DataConversionWarning: A column-vector y was passed when a 1d array was expected. Please change the shape of y to (n_samples, ), for example using ravel().\n",
      "  return f(*args, **kwargs)\n",
      "/Users/caiuspupus/Projects/Ynov/ml-elective3/venv/lib/python3.8/site-packages/sklearn/utils/validation.py:63: DataConversionWarning: A column-vector y was passed when a 1d array was expected. Please change the shape of y to (n_samples, ), for example using ravel().\n",
      "  return f(*args, **kwargs)\n",
      "/Users/caiuspupus/Projects/Ynov/ml-elective3/venv/lib/python3.8/site-packages/sklearn/utils/validation.py:63: DataConversionWarning: A column-vector y was passed when a 1d array was expected. Please change the shape of y to (n_samples, ), for example using ravel().\n",
      "  return f(*args, **kwargs)\n",
      "/Users/caiuspupus/Projects/Ynov/ml-elective3/venv/lib/python3.8/site-packages/sklearn/utils/validation.py:63: DataConversionWarning: A column-vector y was passed when a 1d array was expected. Please change the shape of y to (n_samples, ), for example using ravel().\n",
      "  return f(*args, **kwargs)\n",
      "/Users/caiuspupus/Projects/Ynov/ml-elective3/venv/lib/python3.8/site-packages/sklearn/utils/validation.py:63: DataConversionWarning: A column-vector y was passed when a 1d array was expected. Please change the shape of y to (n_samples, ), for example using ravel().\n",
      "  return f(*args, **kwargs)\n",
      "/Users/caiuspupus/Projects/Ynov/ml-elective3/venv/lib/python3.8/site-packages/sklearn/utils/validation.py:63: DataConversionWarning: A column-vector y was passed when a 1d array was expected. Please change the shape of y to (n_samples, ), for example using ravel().\n",
      "  return f(*args, **kwargs)\n",
      "/Users/caiuspupus/Projects/Ynov/ml-elective3/venv/lib/python3.8/site-packages/sklearn/utils/validation.py:63: DataConversionWarning: A column-vector y was passed when a 1d array was expected. Please change the shape of y to (n_samples, ), for example using ravel().\n",
      "  return f(*args, **kwargs)\n"
     ]
    },
    {
     "name": "stderr",
     "output_type": "stream",
     "text": [
      "/Users/caiuspupus/Projects/Ynov/ml-elective3/venv/lib/python3.8/site-packages/sklearn/utils/validation.py:63: DataConversionWarning: A column-vector y was passed when a 1d array was expected. Please change the shape of y to (n_samples, ), for example using ravel().\n",
      "  return f(*args, **kwargs)\n",
      "/Users/caiuspupus/Projects/Ynov/ml-elective3/venv/lib/python3.8/site-packages/sklearn/utils/validation.py:63: DataConversionWarning: A column-vector y was passed when a 1d array was expected. Please change the shape of y to (n_samples, ), for example using ravel().\n",
      "  return f(*args, **kwargs)\n",
      "/Users/caiuspupus/Projects/Ynov/ml-elective3/venv/lib/python3.8/site-packages/sklearn/utils/validation.py:63: DataConversionWarning: A column-vector y was passed when a 1d array was expected. Please change the shape of y to (n_samples, ), for example using ravel().\n",
      "  return f(*args, **kwargs)\n",
      "/Users/caiuspupus/Projects/Ynov/ml-elective3/venv/lib/python3.8/site-packages/sklearn/utils/validation.py:63: DataConversionWarning: A column-vector y was passed when a 1d array was expected. Please change the shape of y to (n_samples, ), for example using ravel().\n",
      "  return f(*args, **kwargs)\n",
      "/Users/caiuspupus/Projects/Ynov/ml-elective3/venv/lib/python3.8/site-packages/sklearn/utils/validation.py:63: DataConversionWarning: A column-vector y was passed when a 1d array was expected. Please change the shape of y to (n_samples, ), for example using ravel().\n",
      "  return f(*args, **kwargs)\n",
      "/Users/caiuspupus/Projects/Ynov/ml-elective3/venv/lib/python3.8/site-packages/sklearn/utils/validation.py:63: DataConversionWarning: A column-vector y was passed when a 1d array was expected. Please change the shape of y to (n_samples, ), for example using ravel().\n",
      "  return f(*args, **kwargs)\n",
      "/Users/caiuspupus/Projects/Ynov/ml-elective3/venv/lib/python3.8/site-packages/sklearn/utils/validation.py:63: DataConversionWarning: A column-vector y was passed when a 1d array was expected. Please change the shape of y to (n_samples, ), for example using ravel().\n",
      "  return f(*args, **kwargs)\n",
      "/Users/caiuspupus/Projects/Ynov/ml-elective3/venv/lib/python3.8/site-packages/sklearn/utils/validation.py:63: DataConversionWarning: A column-vector y was passed when a 1d array was expected. Please change the shape of y to (n_samples, ), for example using ravel().\n",
      "  return f(*args, **kwargs)\n",
      "/Users/caiuspupus/Projects/Ynov/ml-elective3/venv/lib/python3.8/site-packages/sklearn/utils/validation.py:63: DataConversionWarning: A column-vector y was passed when a 1d array was expected. Please change the shape of y to (n_samples, ), for example using ravel().\n",
      "  return f(*args, **kwargs)\n",
      "/Users/caiuspupus/Projects/Ynov/ml-elective3/venv/lib/python3.8/site-packages/sklearn/utils/validation.py:63: DataConversionWarning: A column-vector y was passed when a 1d array was expected. Please change the shape of y to (n_samples, ), for example using ravel().\n",
      "  return f(*args, **kwargs)\n",
      "/Users/caiuspupus/Projects/Ynov/ml-elective3/venv/lib/python3.8/site-packages/sklearn/utils/validation.py:63: DataConversionWarning: A column-vector y was passed when a 1d array was expected. Please change the shape of y to (n_samples, ), for example using ravel().\n",
      "  return f(*args, **kwargs)\n",
      "/Users/caiuspupus/Projects/Ynov/ml-elective3/venv/lib/python3.8/site-packages/sklearn/utils/validation.py:63: DataConversionWarning: A column-vector y was passed when a 1d array was expected. Please change the shape of y to (n_samples, ), for example using ravel().\n",
      "  return f(*args, **kwargs)\n",
      "/Users/caiuspupus/Projects/Ynov/ml-elective3/venv/lib/python3.8/site-packages/sklearn/utils/validation.py:63: DataConversionWarning: A column-vector y was passed when a 1d array was expected. Please change the shape of y to (n_samples, ), for example using ravel().\n",
      "  return f(*args, **kwargs)\n",
      "/Users/caiuspupus/Projects/Ynov/ml-elective3/venv/lib/python3.8/site-packages/sklearn/utils/validation.py:63: DataConversionWarning: A column-vector y was passed when a 1d array was expected. Please change the shape of y to (n_samples, ), for example using ravel().\n",
      "  return f(*args, **kwargs)\n",
      "/Users/caiuspupus/Projects/Ynov/ml-elective3/venv/lib/python3.8/site-packages/sklearn/utils/validation.py:63: DataConversionWarning: A column-vector y was passed when a 1d array was expected. Please change the shape of y to (n_samples, ), for example using ravel().\n",
      "  return f(*args, **kwargs)\n",
      "/Users/caiuspupus/Projects/Ynov/ml-elective3/venv/lib/python3.8/site-packages/sklearn/utils/validation.py:63: DataConversionWarning: A column-vector y was passed when a 1d array was expected. Please change the shape of y to (n_samples, ), for example using ravel().\n",
      "  return f(*args, **kwargs)\n",
      "/Users/caiuspupus/Projects/Ynov/ml-elective3/venv/lib/python3.8/site-packages/sklearn/utils/validation.py:63: DataConversionWarning: A column-vector y was passed when a 1d array was expected. Please change the shape of y to (n_samples, ), for example using ravel().\n",
      "  return f(*args, **kwargs)\n",
      "/Users/caiuspupus/Projects/Ynov/ml-elective3/venv/lib/python3.8/site-packages/sklearn/utils/validation.py:63: DataConversionWarning: A column-vector y was passed when a 1d array was expected. Please change the shape of y to (n_samples, ), for example using ravel().\n",
      "  return f(*args, **kwargs)\n",
      "/Users/caiuspupus/Projects/Ynov/ml-elective3/venv/lib/python3.8/site-packages/sklearn/utils/validation.py:63: DataConversionWarning: A column-vector y was passed when a 1d array was expected. Please change the shape of y to (n_samples, ), for example using ravel().\n",
      "  return f(*args, **kwargs)\n",
      "/Users/caiuspupus/Projects/Ynov/ml-elective3/venv/lib/python3.8/site-packages/sklearn/utils/validation.py:63: DataConversionWarning: A column-vector y was passed when a 1d array was expected. Please change the shape of y to (n_samples, ), for example using ravel().\n",
      "  return f(*args, **kwargs)\n",
      "/Users/caiuspupus/Projects/Ynov/ml-elective3/venv/lib/python3.8/site-packages/sklearn/utils/validation.py:63: DataConversionWarning: A column-vector y was passed when a 1d array was expected. Please change the shape of y to (n_samples, ), for example using ravel().\n",
      "  return f(*args, **kwargs)\n",
      "/Users/caiuspupus/Projects/Ynov/ml-elective3/venv/lib/python3.8/site-packages/sklearn/utils/validation.py:63: DataConversionWarning: A column-vector y was passed when a 1d array was expected. Please change the shape of y to (n_samples, ), for example using ravel().\n",
      "  return f(*args, **kwargs)\n",
      "/Users/caiuspupus/Projects/Ynov/ml-elective3/venv/lib/python3.8/site-packages/sklearn/utils/validation.py:63: DataConversionWarning: A column-vector y was passed when a 1d array was expected. Please change the shape of y to (n_samples, ), for example using ravel().\n",
      "  return f(*args, **kwargs)\n",
      "/Users/caiuspupus/Projects/Ynov/ml-elective3/venv/lib/python3.8/site-packages/sklearn/utils/validation.py:63: DataConversionWarning: A column-vector y was passed when a 1d array was expected. Please change the shape of y to (n_samples, ), for example using ravel().\n",
      "  return f(*args, **kwargs)\n",
      "/Users/caiuspupus/Projects/Ynov/ml-elective3/venv/lib/python3.8/site-packages/sklearn/utils/validation.py:63: DataConversionWarning: A column-vector y was passed when a 1d array was expected. Please change the shape of y to (n_samples, ), for example using ravel().\n",
      "  return f(*args, **kwargs)\n",
      "/Users/caiuspupus/Projects/Ynov/ml-elective3/venv/lib/python3.8/site-packages/sklearn/utils/validation.py:63: DataConversionWarning: A column-vector y was passed when a 1d array was expected. Please change the shape of y to (n_samples, ), for example using ravel().\n",
      "  return f(*args, **kwargs)\n",
      "/Users/caiuspupus/Projects/Ynov/ml-elective3/venv/lib/python3.8/site-packages/sklearn/utils/validation.py:63: DataConversionWarning: A column-vector y was passed when a 1d array was expected. Please change the shape of y to (n_samples, ), for example using ravel().\n",
      "  return f(*args, **kwargs)\n",
      "/Users/caiuspupus/Projects/Ynov/ml-elective3/venv/lib/python3.8/site-packages/sklearn/utils/validation.py:63: DataConversionWarning: A column-vector y was passed when a 1d array was expected. Please change the shape of y to (n_samples, ), for example using ravel().\n",
      "  return f(*args, **kwargs)\n",
      "/Users/caiuspupus/Projects/Ynov/ml-elective3/venv/lib/python3.8/site-packages/sklearn/utils/validation.py:63: DataConversionWarning: A column-vector y was passed when a 1d array was expected. Please change the shape of y to (n_samples, ), for example using ravel().\n",
      "  return f(*args, **kwargs)\n",
      "/Users/caiuspupus/Projects/Ynov/ml-elective3/venv/lib/python3.8/site-packages/sklearn/utils/validation.py:63: DataConversionWarning: A column-vector y was passed when a 1d array was expected. Please change the shape of y to (n_samples, ), for example using ravel().\n",
      "  return f(*args, **kwargs)\n",
      "/Users/caiuspupus/Projects/Ynov/ml-elective3/venv/lib/python3.8/site-packages/sklearn/utils/validation.py:63: DataConversionWarning: A column-vector y was passed when a 1d array was expected. Please change the shape of y to (n_samples, ), for example using ravel().\n",
      "  return f(*args, **kwargs)\n",
      "/Users/caiuspupus/Projects/Ynov/ml-elective3/venv/lib/python3.8/site-packages/sklearn/utils/validation.py:63: DataConversionWarning: A column-vector y was passed when a 1d array was expected. Please change the shape of y to (n_samples, ), for example using ravel().\n",
      "  return f(*args, **kwargs)\n",
      "/Users/caiuspupus/Projects/Ynov/ml-elective3/venv/lib/python3.8/site-packages/sklearn/utils/validation.py:63: DataConversionWarning: A column-vector y was passed when a 1d array was expected. Please change the shape of y to (n_samples, ), for example using ravel().\n",
      "  return f(*args, **kwargs)\n",
      "/Users/caiuspupus/Projects/Ynov/ml-elective3/venv/lib/python3.8/site-packages/sklearn/utils/validation.py:63: DataConversionWarning: A column-vector y was passed when a 1d array was expected. Please change the shape of y to (n_samples, ), for example using ravel().\n",
      "  return f(*args, **kwargs)\n",
      "/Users/caiuspupus/Projects/Ynov/ml-elective3/venv/lib/python3.8/site-packages/sklearn/utils/validation.py:63: DataConversionWarning: A column-vector y was passed when a 1d array was expected. Please change the shape of y to (n_samples, ), for example using ravel().\n",
      "  return f(*args, **kwargs)\n",
      "/Users/caiuspupus/Projects/Ynov/ml-elective3/venv/lib/python3.8/site-packages/sklearn/utils/validation.py:63: DataConversionWarning: A column-vector y was passed when a 1d array was expected. Please change the shape of y to (n_samples, ), for example using ravel().\n",
      "  return f(*args, **kwargs)\n",
      "/Users/caiuspupus/Projects/Ynov/ml-elective3/venv/lib/python3.8/site-packages/sklearn/utils/validation.py:63: DataConversionWarning: A column-vector y was passed when a 1d array was expected. Please change the shape of y to (n_samples, ), for example using ravel().\n",
      "  return f(*args, **kwargs)\n",
      "/Users/caiuspupus/Projects/Ynov/ml-elective3/venv/lib/python3.8/site-packages/sklearn/utils/validation.py:63: DataConversionWarning: A column-vector y was passed when a 1d array was expected. Please change the shape of y to (n_samples, ), for example using ravel().\n",
      "  return f(*args, **kwargs)\n",
      "/Users/caiuspupus/Projects/Ynov/ml-elective3/venv/lib/python3.8/site-packages/sklearn/utils/validation.py:63: DataConversionWarning: A column-vector y was passed when a 1d array was expected. Please change the shape of y to (n_samples, ), for example using ravel().\n",
      "  return f(*args, **kwargs)\n",
      "/Users/caiuspupus/Projects/Ynov/ml-elective3/venv/lib/python3.8/site-packages/sklearn/utils/validation.py:63: DataConversionWarning: A column-vector y was passed when a 1d array was expected. Please change the shape of y to (n_samples, ), for example using ravel().\n",
      "  return f(*args, **kwargs)\n",
      "/Users/caiuspupus/Projects/Ynov/ml-elective3/venv/lib/python3.8/site-packages/sklearn/utils/validation.py:63: DataConversionWarning: A column-vector y was passed when a 1d array was expected. Please change the shape of y to (n_samples, ), for example using ravel().\n",
      "  return f(*args, **kwargs)\n"
     ]
    },
    {
     "name": "stderr",
     "output_type": "stream",
     "text": [
      "/Users/caiuspupus/Projects/Ynov/ml-elective3/venv/lib/python3.8/site-packages/sklearn/utils/validation.py:63: DataConversionWarning: A column-vector y was passed when a 1d array was expected. Please change the shape of y to (n_samples, ), for example using ravel().\n",
      "  return f(*args, **kwargs)\n",
      "/Users/caiuspupus/Projects/Ynov/ml-elective3/venv/lib/python3.8/site-packages/sklearn/utils/validation.py:63: DataConversionWarning: A column-vector y was passed when a 1d array was expected. Please change the shape of y to (n_samples, ), for example using ravel().\n",
      "  return f(*args, **kwargs)\n",
      "/Users/caiuspupus/Projects/Ynov/ml-elective3/venv/lib/python3.8/site-packages/sklearn/utils/validation.py:63: DataConversionWarning: A column-vector y was passed when a 1d array was expected. Please change the shape of y to (n_samples, ), for example using ravel().\n",
      "  return f(*args, **kwargs)\n",
      "/Users/caiuspupus/Projects/Ynov/ml-elective3/venv/lib/python3.8/site-packages/sklearn/utils/validation.py:63: DataConversionWarning: A column-vector y was passed when a 1d array was expected. Please change the shape of y to (n_samples, ), for example using ravel().\n",
      "  return f(*args, **kwargs)\n",
      "/Users/caiuspupus/Projects/Ynov/ml-elective3/venv/lib/python3.8/site-packages/sklearn/utils/validation.py:63: DataConversionWarning: A column-vector y was passed when a 1d array was expected. Please change the shape of y to (n_samples, ), for example using ravel().\n",
      "  return f(*args, **kwargs)\n",
      "/Users/caiuspupus/Projects/Ynov/ml-elective3/venv/lib/python3.8/site-packages/sklearn/utils/validation.py:63: DataConversionWarning: A column-vector y was passed when a 1d array was expected. Please change the shape of y to (n_samples, ), for example using ravel().\n",
      "  return f(*args, **kwargs)\n",
      "/Users/caiuspupus/Projects/Ynov/ml-elective3/venv/lib/python3.8/site-packages/sklearn/utils/validation.py:63: DataConversionWarning: A column-vector y was passed when a 1d array was expected. Please change the shape of y to (n_samples, ), for example using ravel().\n",
      "  return f(*args, **kwargs)\n",
      "/Users/caiuspupus/Projects/Ynov/ml-elective3/venv/lib/python3.8/site-packages/sklearn/utils/validation.py:63: DataConversionWarning: A column-vector y was passed when a 1d array was expected. Please change the shape of y to (n_samples, ), for example using ravel().\n",
      "  return f(*args, **kwargs)\n",
      "/Users/caiuspupus/Projects/Ynov/ml-elective3/venv/lib/python3.8/site-packages/sklearn/utils/validation.py:63: DataConversionWarning: A column-vector y was passed when a 1d array was expected. Please change the shape of y to (n_samples, ), for example using ravel().\n",
      "  return f(*args, **kwargs)\n",
      "/Users/caiuspupus/Projects/Ynov/ml-elective3/venv/lib/python3.8/site-packages/sklearn/utils/validation.py:63: DataConversionWarning: A column-vector y was passed when a 1d array was expected. Please change the shape of y to (n_samples, ), for example using ravel().\n",
      "  return f(*args, **kwargs)\n",
      "/Users/caiuspupus/Projects/Ynov/ml-elective3/venv/lib/python3.8/site-packages/sklearn/utils/validation.py:63: DataConversionWarning: A column-vector y was passed when a 1d array was expected. Please change the shape of y to (n_samples, ), for example using ravel().\n",
      "  return f(*args, **kwargs)\n",
      "/Users/caiuspupus/Projects/Ynov/ml-elective3/venv/lib/python3.8/site-packages/sklearn/utils/validation.py:63: DataConversionWarning: A column-vector y was passed when a 1d array was expected. Please change the shape of y to (n_samples, ), for example using ravel().\n",
      "  return f(*args, **kwargs)\n",
      "/Users/caiuspupus/Projects/Ynov/ml-elective3/venv/lib/python3.8/site-packages/sklearn/utils/validation.py:63: DataConversionWarning: A column-vector y was passed when a 1d array was expected. Please change the shape of y to (n_samples, ), for example using ravel().\n",
      "  return f(*args, **kwargs)\n",
      "/Users/caiuspupus/Projects/Ynov/ml-elective3/venv/lib/python3.8/site-packages/sklearn/utils/validation.py:63: DataConversionWarning: A column-vector y was passed when a 1d array was expected. Please change the shape of y to (n_samples, ), for example using ravel().\n",
      "  return f(*args, **kwargs)\n",
      "/Users/caiuspupus/Projects/Ynov/ml-elective3/venv/lib/python3.8/site-packages/sklearn/utils/validation.py:63: DataConversionWarning: A column-vector y was passed when a 1d array was expected. Please change the shape of y to (n_samples, ), for example using ravel().\n",
      "  return f(*args, **kwargs)\n",
      "/Users/caiuspupus/Projects/Ynov/ml-elective3/venv/lib/python3.8/site-packages/sklearn/utils/validation.py:63: DataConversionWarning: A column-vector y was passed when a 1d array was expected. Please change the shape of y to (n_samples, ), for example using ravel().\n",
      "  return f(*args, **kwargs)\n",
      "/Users/caiuspupus/Projects/Ynov/ml-elective3/venv/lib/python3.8/site-packages/sklearn/utils/validation.py:63: DataConversionWarning: A column-vector y was passed when a 1d array was expected. Please change the shape of y to (n_samples, ), for example using ravel().\n",
      "  return f(*args, **kwargs)\n",
      "/Users/caiuspupus/Projects/Ynov/ml-elective3/venv/lib/python3.8/site-packages/sklearn/utils/validation.py:63: DataConversionWarning: A column-vector y was passed when a 1d array was expected. Please change the shape of y to (n_samples, ), for example using ravel().\n",
      "  return f(*args, **kwargs)\n",
      "/Users/caiuspupus/Projects/Ynov/ml-elective3/venv/lib/python3.8/site-packages/sklearn/utils/validation.py:63: DataConversionWarning: A column-vector y was passed when a 1d array was expected. Please change the shape of y to (n_samples, ), for example using ravel().\n",
      "  return f(*args, **kwargs)\n",
      "/Users/caiuspupus/Projects/Ynov/ml-elective3/venv/lib/python3.8/site-packages/sklearn/utils/validation.py:63: DataConversionWarning: A column-vector y was passed when a 1d array was expected. Please change the shape of y to (n_samples, ), for example using ravel().\n",
      "  return f(*args, **kwargs)\n",
      "/Users/caiuspupus/Projects/Ynov/ml-elective3/venv/lib/python3.8/site-packages/sklearn/utils/validation.py:63: DataConversionWarning: A column-vector y was passed when a 1d array was expected. Please change the shape of y to (n_samples, ), for example using ravel().\n",
      "  return f(*args, **kwargs)\n",
      "/Users/caiuspupus/Projects/Ynov/ml-elective3/venv/lib/python3.8/site-packages/sklearn/utils/validation.py:63: DataConversionWarning: A column-vector y was passed when a 1d array was expected. Please change the shape of y to (n_samples, ), for example using ravel().\n",
      "  return f(*args, **kwargs)\n",
      "/Users/caiuspupus/Projects/Ynov/ml-elective3/venv/lib/python3.8/site-packages/sklearn/utils/validation.py:63: DataConversionWarning: A column-vector y was passed when a 1d array was expected. Please change the shape of y to (n_samples, ), for example using ravel().\n",
      "  return f(*args, **kwargs)\n",
      "/Users/caiuspupus/Projects/Ynov/ml-elective3/venv/lib/python3.8/site-packages/sklearn/utils/validation.py:63: DataConversionWarning: A column-vector y was passed when a 1d array was expected. Please change the shape of y to (n_samples, ), for example using ravel().\n",
      "  return f(*args, **kwargs)\n",
      "/Users/caiuspupus/Projects/Ynov/ml-elective3/venv/lib/python3.8/site-packages/sklearn/utils/validation.py:63: DataConversionWarning: A column-vector y was passed when a 1d array was expected. Please change the shape of y to (n_samples, ), for example using ravel().\n",
      "  return f(*args, **kwargs)\n",
      "/Users/caiuspupus/Projects/Ynov/ml-elective3/venv/lib/python3.8/site-packages/sklearn/utils/validation.py:63: DataConversionWarning: A column-vector y was passed when a 1d array was expected. Please change the shape of y to (n_samples, ), for example using ravel().\n",
      "  return f(*args, **kwargs)\n",
      "/Users/caiuspupus/Projects/Ynov/ml-elective3/venv/lib/python3.8/site-packages/sklearn/utils/validation.py:63: DataConversionWarning: A column-vector y was passed when a 1d array was expected. Please change the shape of y to (n_samples, ), for example using ravel().\n",
      "  return f(*args, **kwargs)\n",
      "/Users/caiuspupus/Projects/Ynov/ml-elective3/venv/lib/python3.8/site-packages/sklearn/utils/validation.py:63: DataConversionWarning: A column-vector y was passed when a 1d array was expected. Please change the shape of y to (n_samples, ), for example using ravel().\n",
      "  return f(*args, **kwargs)\n",
      "/Users/caiuspupus/Projects/Ynov/ml-elective3/venv/lib/python3.8/site-packages/sklearn/utils/validation.py:63: DataConversionWarning: A column-vector y was passed when a 1d array was expected. Please change the shape of y to (n_samples, ), for example using ravel().\n",
      "  return f(*args, **kwargs)\n",
      "/Users/caiuspupus/Projects/Ynov/ml-elective3/venv/lib/python3.8/site-packages/sklearn/utils/validation.py:63: DataConversionWarning: A column-vector y was passed when a 1d array was expected. Please change the shape of y to (n_samples, ), for example using ravel().\n",
      "  return f(*args, **kwargs)\n",
      "/Users/caiuspupus/Projects/Ynov/ml-elective3/venv/lib/python3.8/site-packages/sklearn/utils/validation.py:63: DataConversionWarning: A column-vector y was passed when a 1d array was expected. Please change the shape of y to (n_samples, ), for example using ravel().\n",
      "  return f(*args, **kwargs)\n",
      "/Users/caiuspupus/Projects/Ynov/ml-elective3/venv/lib/python3.8/site-packages/sklearn/utils/validation.py:63: DataConversionWarning: A column-vector y was passed when a 1d array was expected. Please change the shape of y to (n_samples, ), for example using ravel().\n",
      "  return f(*args, **kwargs)\n",
      "/Users/caiuspupus/Projects/Ynov/ml-elective3/venv/lib/python3.8/site-packages/sklearn/utils/validation.py:63: DataConversionWarning: A column-vector y was passed when a 1d array was expected. Please change the shape of y to (n_samples, ), for example using ravel().\n",
      "  return f(*args, **kwargs)\n",
      "/Users/caiuspupus/Projects/Ynov/ml-elective3/venv/lib/python3.8/site-packages/sklearn/utils/validation.py:63: DataConversionWarning: A column-vector y was passed when a 1d array was expected. Please change the shape of y to (n_samples, ), for example using ravel().\n",
      "  return f(*args, **kwargs)\n",
      "/Users/caiuspupus/Projects/Ynov/ml-elective3/venv/lib/python3.8/site-packages/sklearn/utils/validation.py:63: DataConversionWarning: A column-vector y was passed when a 1d array was expected. Please change the shape of y to (n_samples, ), for example using ravel().\n",
      "  return f(*args, **kwargs)\n"
     ]
    },
    {
     "name": "stderr",
     "output_type": "stream",
     "text": [
      "/Users/caiuspupus/Projects/Ynov/ml-elective3/venv/lib/python3.8/site-packages/sklearn/utils/validation.py:63: DataConversionWarning: A column-vector y was passed when a 1d array was expected. Please change the shape of y to (n_samples, ), for example using ravel().\n",
      "  return f(*args, **kwargs)\n",
      "/Users/caiuspupus/Projects/Ynov/ml-elective3/venv/lib/python3.8/site-packages/sklearn/utils/validation.py:63: DataConversionWarning: A column-vector y was passed when a 1d array was expected. Please change the shape of y to (n_samples, ), for example using ravel().\n",
      "  return f(*args, **kwargs)\n",
      "/Users/caiuspupus/Projects/Ynov/ml-elective3/venv/lib/python3.8/site-packages/sklearn/utils/validation.py:63: DataConversionWarning: A column-vector y was passed when a 1d array was expected. Please change the shape of y to (n_samples, ), for example using ravel().\n",
      "  return f(*args, **kwargs)\n",
      "/Users/caiuspupus/Projects/Ynov/ml-elective3/venv/lib/python3.8/site-packages/sklearn/utils/validation.py:63: DataConversionWarning: A column-vector y was passed when a 1d array was expected. Please change the shape of y to (n_samples, ), for example using ravel().\n",
      "  return f(*args, **kwargs)\n",
      "/Users/caiuspupus/Projects/Ynov/ml-elective3/venv/lib/python3.8/site-packages/sklearn/utils/validation.py:63: DataConversionWarning: A column-vector y was passed when a 1d array was expected. Please change the shape of y to (n_samples, ), for example using ravel().\n",
      "  return f(*args, **kwargs)\n",
      "/Users/caiuspupus/Projects/Ynov/ml-elective3/venv/lib/python3.8/site-packages/sklearn/utils/validation.py:63: DataConversionWarning: A column-vector y was passed when a 1d array was expected. Please change the shape of y to (n_samples, ), for example using ravel().\n",
      "  return f(*args, **kwargs)\n",
      "/Users/caiuspupus/Projects/Ynov/ml-elective3/venv/lib/python3.8/site-packages/sklearn/utils/validation.py:63: DataConversionWarning: A column-vector y was passed when a 1d array was expected. Please change the shape of y to (n_samples, ), for example using ravel().\n",
      "  return f(*args, **kwargs)\n",
      "/Users/caiuspupus/Projects/Ynov/ml-elective3/venv/lib/python3.8/site-packages/sklearn/utils/validation.py:63: DataConversionWarning: A column-vector y was passed when a 1d array was expected. Please change the shape of y to (n_samples, ), for example using ravel().\n",
      "  return f(*args, **kwargs)\n",
      "/Users/caiuspupus/Projects/Ynov/ml-elective3/venv/lib/python3.8/site-packages/sklearn/utils/validation.py:63: DataConversionWarning: A column-vector y was passed when a 1d array was expected. Please change the shape of y to (n_samples, ), for example using ravel().\n",
      "  return f(*args, **kwargs)\n",
      "/Users/caiuspupus/Projects/Ynov/ml-elective3/venv/lib/python3.8/site-packages/sklearn/utils/validation.py:63: DataConversionWarning: A column-vector y was passed when a 1d array was expected. Please change the shape of y to (n_samples, ), for example using ravel().\n",
      "  return f(*args, **kwargs)\n",
      "/Users/caiuspupus/Projects/Ynov/ml-elective3/venv/lib/python3.8/site-packages/sklearn/utils/validation.py:63: DataConversionWarning: A column-vector y was passed when a 1d array was expected. Please change the shape of y to (n_samples, ), for example using ravel().\n",
      "  return f(*args, **kwargs)\n",
      "/Users/caiuspupus/Projects/Ynov/ml-elective3/venv/lib/python3.8/site-packages/sklearn/utils/validation.py:63: DataConversionWarning: A column-vector y was passed when a 1d array was expected. Please change the shape of y to (n_samples, ), for example using ravel().\n",
      "  return f(*args, **kwargs)\n",
      "/Users/caiuspupus/Projects/Ynov/ml-elective3/venv/lib/python3.8/site-packages/sklearn/utils/validation.py:63: DataConversionWarning: A column-vector y was passed when a 1d array was expected. Please change the shape of y to (n_samples, ), for example using ravel().\n",
      "  return f(*args, **kwargs)\n",
      "/Users/caiuspupus/Projects/Ynov/ml-elective3/venv/lib/python3.8/site-packages/sklearn/utils/validation.py:63: DataConversionWarning: A column-vector y was passed when a 1d array was expected. Please change the shape of y to (n_samples, ), for example using ravel().\n",
      "  return f(*args, **kwargs)\n",
      "/Users/caiuspupus/Projects/Ynov/ml-elective3/venv/lib/python3.8/site-packages/sklearn/utils/validation.py:63: DataConversionWarning: A column-vector y was passed when a 1d array was expected. Please change the shape of y to (n_samples, ), for example using ravel().\n",
      "  return f(*args, **kwargs)\n",
      "/Users/caiuspupus/Projects/Ynov/ml-elective3/venv/lib/python3.8/site-packages/sklearn/utils/validation.py:63: DataConversionWarning: A column-vector y was passed when a 1d array was expected. Please change the shape of y to (n_samples, ), for example using ravel().\n",
      "  return f(*args, **kwargs)\n",
      "/Users/caiuspupus/Projects/Ynov/ml-elective3/venv/lib/python3.8/site-packages/sklearn/utils/validation.py:63: DataConversionWarning: A column-vector y was passed when a 1d array was expected. Please change the shape of y to (n_samples, ), for example using ravel().\n",
      "  return f(*args, **kwargs)\n",
      "/Users/caiuspupus/Projects/Ynov/ml-elective3/venv/lib/python3.8/site-packages/sklearn/utils/validation.py:63: DataConversionWarning: A column-vector y was passed when a 1d array was expected. Please change the shape of y to (n_samples, ), for example using ravel().\n",
      "  return f(*args, **kwargs)\n",
      "/Users/caiuspupus/Projects/Ynov/ml-elective3/venv/lib/python3.8/site-packages/sklearn/utils/validation.py:63: DataConversionWarning: A column-vector y was passed when a 1d array was expected. Please change the shape of y to (n_samples, ), for example using ravel().\n",
      "  return f(*args, **kwargs)\n",
      "/Users/caiuspupus/Projects/Ynov/ml-elective3/venv/lib/python3.8/site-packages/sklearn/utils/validation.py:63: DataConversionWarning: A column-vector y was passed when a 1d array was expected. Please change the shape of y to (n_samples, ), for example using ravel().\n",
      "  return f(*args, **kwargs)\n",
      "/Users/caiuspupus/Projects/Ynov/ml-elective3/venv/lib/python3.8/site-packages/sklearn/utils/validation.py:63: DataConversionWarning: A column-vector y was passed when a 1d array was expected. Please change the shape of y to (n_samples, ), for example using ravel().\n",
      "  return f(*args, **kwargs)\n",
      "/Users/caiuspupus/Projects/Ynov/ml-elective3/venv/lib/python3.8/site-packages/sklearn/utils/validation.py:63: DataConversionWarning: A column-vector y was passed when a 1d array was expected. Please change the shape of y to (n_samples, ), for example using ravel().\n",
      "  return f(*args, **kwargs)\n",
      "/Users/caiuspupus/Projects/Ynov/ml-elective3/venv/lib/python3.8/site-packages/sklearn/utils/validation.py:63: DataConversionWarning: A column-vector y was passed when a 1d array was expected. Please change the shape of y to (n_samples, ), for example using ravel().\n",
      "  return f(*args, **kwargs)\n",
      "/Users/caiuspupus/Projects/Ynov/ml-elective3/venv/lib/python3.8/site-packages/sklearn/utils/validation.py:63: DataConversionWarning: A column-vector y was passed when a 1d array was expected. Please change the shape of y to (n_samples, ), for example using ravel().\n",
      "  return f(*args, **kwargs)\n",
      "/Users/caiuspupus/Projects/Ynov/ml-elective3/venv/lib/python3.8/site-packages/sklearn/utils/validation.py:63: DataConversionWarning: A column-vector y was passed when a 1d array was expected. Please change the shape of y to (n_samples, ), for example using ravel().\n",
      "  return f(*args, **kwargs)\n",
      "/Users/caiuspupus/Projects/Ynov/ml-elective3/venv/lib/python3.8/site-packages/sklearn/utils/validation.py:63: DataConversionWarning: A column-vector y was passed when a 1d array was expected. Please change the shape of y to (n_samples, ), for example using ravel().\n",
      "  return f(*args, **kwargs)\n",
      "/Users/caiuspupus/Projects/Ynov/ml-elective3/venv/lib/python3.8/site-packages/sklearn/utils/validation.py:63: DataConversionWarning: A column-vector y was passed when a 1d array was expected. Please change the shape of y to (n_samples, ), for example using ravel().\n",
      "  return f(*args, **kwargs)\n",
      "/Users/caiuspupus/Projects/Ynov/ml-elective3/venv/lib/python3.8/site-packages/sklearn/utils/validation.py:63: DataConversionWarning: A column-vector y was passed when a 1d array was expected. Please change the shape of y to (n_samples, ), for example using ravel().\n",
      "  return f(*args, **kwargs)\n",
      "/Users/caiuspupus/Projects/Ynov/ml-elective3/venv/lib/python3.8/site-packages/sklearn/utils/validation.py:63: DataConversionWarning: A column-vector y was passed when a 1d array was expected. Please change the shape of y to (n_samples, ), for example using ravel().\n",
      "  return f(*args, **kwargs)\n",
      "/Users/caiuspupus/Projects/Ynov/ml-elective3/venv/lib/python3.8/site-packages/sklearn/utils/validation.py:63: DataConversionWarning: A column-vector y was passed when a 1d array was expected. Please change the shape of y to (n_samples, ), for example using ravel().\n",
      "  return f(*args, **kwargs)\n",
      "/Users/caiuspupus/Projects/Ynov/ml-elective3/venv/lib/python3.8/site-packages/sklearn/utils/validation.py:63: DataConversionWarning: A column-vector y was passed when a 1d array was expected. Please change the shape of y to (n_samples, ), for example using ravel().\n",
      "  return f(*args, **kwargs)\n",
      "/Users/caiuspupus/Projects/Ynov/ml-elective3/venv/lib/python3.8/site-packages/sklearn/utils/validation.py:63: DataConversionWarning: A column-vector y was passed when a 1d array was expected. Please change the shape of y to (n_samples, ), for example using ravel().\n",
      "  return f(*args, **kwargs)\n",
      "/Users/caiuspupus/Projects/Ynov/ml-elective3/venv/lib/python3.8/site-packages/sklearn/utils/validation.py:63: DataConversionWarning: A column-vector y was passed when a 1d array was expected. Please change the shape of y to (n_samples, ), for example using ravel().\n",
      "  return f(*args, **kwargs)\n",
      "/Users/caiuspupus/Projects/Ynov/ml-elective3/venv/lib/python3.8/site-packages/sklearn/utils/validation.py:63: DataConversionWarning: A column-vector y was passed when a 1d array was expected. Please change the shape of y to (n_samples, ), for example using ravel().\n",
      "  return f(*args, **kwargs)\n",
      "/Users/caiuspupus/Projects/Ynov/ml-elective3/venv/lib/python3.8/site-packages/sklearn/utils/validation.py:63: DataConversionWarning: A column-vector y was passed when a 1d array was expected. Please change the shape of y to (n_samples, ), for example using ravel().\n",
      "  return f(*args, **kwargs)\n"
     ]
    },
    {
     "name": "stderr",
     "output_type": "stream",
     "text": [
      "/Users/caiuspupus/Projects/Ynov/ml-elective3/venv/lib/python3.8/site-packages/sklearn/utils/validation.py:63: DataConversionWarning: A column-vector y was passed when a 1d array was expected. Please change the shape of y to (n_samples, ), for example using ravel().\n",
      "  return f(*args, **kwargs)\n",
      "/Users/caiuspupus/Projects/Ynov/ml-elective3/venv/lib/python3.8/site-packages/sklearn/utils/validation.py:63: DataConversionWarning: A column-vector y was passed when a 1d array was expected. Please change the shape of y to (n_samples, ), for example using ravel().\n",
      "  return f(*args, **kwargs)\n",
      "/Users/caiuspupus/Projects/Ynov/ml-elective3/venv/lib/python3.8/site-packages/sklearn/utils/validation.py:63: DataConversionWarning: A column-vector y was passed when a 1d array was expected. Please change the shape of y to (n_samples, ), for example using ravel().\n",
      "  return f(*args, **kwargs)\n",
      "/Users/caiuspupus/Projects/Ynov/ml-elective3/venv/lib/python3.8/site-packages/sklearn/utils/validation.py:63: DataConversionWarning: A column-vector y was passed when a 1d array was expected. Please change the shape of y to (n_samples, ), for example using ravel().\n",
      "  return f(*args, **kwargs)\n",
      "/Users/caiuspupus/Projects/Ynov/ml-elective3/venv/lib/python3.8/site-packages/sklearn/utils/validation.py:63: DataConversionWarning: A column-vector y was passed when a 1d array was expected. Please change the shape of y to (n_samples, ), for example using ravel().\n",
      "  return f(*args, **kwargs)\n",
      "/Users/caiuspupus/Projects/Ynov/ml-elective3/venv/lib/python3.8/site-packages/sklearn/utils/validation.py:63: DataConversionWarning: A column-vector y was passed when a 1d array was expected. Please change the shape of y to (n_samples, ), for example using ravel().\n",
      "  return f(*args, **kwargs)\n",
      "/Users/caiuspupus/Projects/Ynov/ml-elective3/venv/lib/python3.8/site-packages/sklearn/utils/validation.py:63: DataConversionWarning: A column-vector y was passed when a 1d array was expected. Please change the shape of y to (n_samples, ), for example using ravel().\n",
      "  return f(*args, **kwargs)\n",
      "/Users/caiuspupus/Projects/Ynov/ml-elective3/venv/lib/python3.8/site-packages/sklearn/utils/validation.py:63: DataConversionWarning: A column-vector y was passed when a 1d array was expected. Please change the shape of y to (n_samples, ), for example using ravel().\n",
      "  return f(*args, **kwargs)\n",
      "/Users/caiuspupus/Projects/Ynov/ml-elective3/venv/lib/python3.8/site-packages/sklearn/utils/validation.py:63: DataConversionWarning: A column-vector y was passed when a 1d array was expected. Please change the shape of y to (n_samples, ), for example using ravel().\n",
      "  return f(*args, **kwargs)\n",
      "/Users/caiuspupus/Projects/Ynov/ml-elective3/venv/lib/python3.8/site-packages/sklearn/utils/validation.py:63: DataConversionWarning: A column-vector y was passed when a 1d array was expected. Please change the shape of y to (n_samples, ), for example using ravel().\n",
      "  return f(*args, **kwargs)\n",
      "/Users/caiuspupus/Projects/Ynov/ml-elective3/venv/lib/python3.8/site-packages/sklearn/utils/validation.py:63: DataConversionWarning: A column-vector y was passed when a 1d array was expected. Please change the shape of y to (n_samples, ), for example using ravel().\n",
      "  return f(*args, **kwargs)\n",
      "/Users/caiuspupus/Projects/Ynov/ml-elective3/venv/lib/python3.8/site-packages/sklearn/utils/validation.py:63: DataConversionWarning: A column-vector y was passed when a 1d array was expected. Please change the shape of y to (n_samples, ), for example using ravel().\n",
      "  return f(*args, **kwargs)\n",
      "/Users/caiuspupus/Projects/Ynov/ml-elective3/venv/lib/python3.8/site-packages/sklearn/utils/validation.py:63: DataConversionWarning: A column-vector y was passed when a 1d array was expected. Please change the shape of y to (n_samples, ), for example using ravel().\n",
      "  return f(*args, **kwargs)\n",
      "/Users/caiuspupus/Projects/Ynov/ml-elective3/venv/lib/python3.8/site-packages/sklearn/utils/validation.py:63: DataConversionWarning: A column-vector y was passed when a 1d array was expected. Please change the shape of y to (n_samples, ), for example using ravel().\n",
      "  return f(*args, **kwargs)\n",
      "/Users/caiuspupus/Projects/Ynov/ml-elective3/venv/lib/python3.8/site-packages/sklearn/utils/validation.py:63: DataConversionWarning: A column-vector y was passed when a 1d array was expected. Please change the shape of y to (n_samples, ), for example using ravel().\n",
      "  return f(*args, **kwargs)\n",
      "/Users/caiuspupus/Projects/Ynov/ml-elective3/venv/lib/python3.8/site-packages/sklearn/utils/validation.py:63: DataConversionWarning: A column-vector y was passed when a 1d array was expected. Please change the shape of y to (n_samples, ), for example using ravel().\n",
      "  return f(*args, **kwargs)\n",
      "/Users/caiuspupus/Projects/Ynov/ml-elective3/venv/lib/python3.8/site-packages/sklearn/utils/validation.py:63: DataConversionWarning: A column-vector y was passed when a 1d array was expected. Please change the shape of y to (n_samples, ), for example using ravel().\n",
      "  return f(*args, **kwargs)\n",
      "/Users/caiuspupus/Projects/Ynov/ml-elective3/venv/lib/python3.8/site-packages/sklearn/utils/validation.py:63: DataConversionWarning: A column-vector y was passed when a 1d array was expected. Please change the shape of y to (n_samples, ), for example using ravel().\n",
      "  return f(*args, **kwargs)\n",
      "/Users/caiuspupus/Projects/Ynov/ml-elective3/venv/lib/python3.8/site-packages/sklearn/utils/validation.py:63: DataConversionWarning: A column-vector y was passed when a 1d array was expected. Please change the shape of y to (n_samples, ), for example using ravel().\n",
      "  return f(*args, **kwargs)\n",
      "/Users/caiuspupus/Projects/Ynov/ml-elective3/venv/lib/python3.8/site-packages/sklearn/utils/validation.py:63: DataConversionWarning: A column-vector y was passed when a 1d array was expected. Please change the shape of y to (n_samples, ), for example using ravel().\n",
      "  return f(*args, **kwargs)\n",
      "/Users/caiuspupus/Projects/Ynov/ml-elective3/venv/lib/python3.8/site-packages/sklearn/utils/validation.py:63: DataConversionWarning: A column-vector y was passed when a 1d array was expected. Please change the shape of y to (n_samples, ), for example using ravel().\n",
      "  return f(*args, **kwargs)\n",
      "/Users/caiuspupus/Projects/Ynov/ml-elective3/venv/lib/python3.8/site-packages/sklearn/utils/validation.py:63: DataConversionWarning: A column-vector y was passed when a 1d array was expected. Please change the shape of y to (n_samples, ), for example using ravel().\n",
      "  return f(*args, **kwargs)\n",
      "/Users/caiuspupus/Projects/Ynov/ml-elective3/venv/lib/python3.8/site-packages/sklearn/utils/validation.py:63: DataConversionWarning: A column-vector y was passed when a 1d array was expected. Please change the shape of y to (n_samples, ), for example using ravel().\n",
      "  return f(*args, **kwargs)\n",
      "/Users/caiuspupus/Projects/Ynov/ml-elective3/venv/lib/python3.8/site-packages/sklearn/utils/validation.py:63: DataConversionWarning: A column-vector y was passed when a 1d array was expected. Please change the shape of y to (n_samples, ), for example using ravel().\n",
      "  return f(*args, **kwargs)\n",
      "/Users/caiuspupus/Projects/Ynov/ml-elective3/venv/lib/python3.8/site-packages/sklearn/utils/validation.py:63: DataConversionWarning: A column-vector y was passed when a 1d array was expected. Please change the shape of y to (n_samples, ), for example using ravel().\n",
      "  return f(*args, **kwargs)\n",
      "/Users/caiuspupus/Projects/Ynov/ml-elective3/venv/lib/python3.8/site-packages/sklearn/utils/validation.py:63: DataConversionWarning: A column-vector y was passed when a 1d array was expected. Please change the shape of y to (n_samples, ), for example using ravel().\n",
      "  return f(*args, **kwargs)\n",
      "/Users/caiuspupus/Projects/Ynov/ml-elective3/venv/lib/python3.8/site-packages/sklearn/utils/validation.py:63: DataConversionWarning: A column-vector y was passed when a 1d array was expected. Please change the shape of y to (n_samples, ), for example using ravel().\n",
      "  return f(*args, **kwargs)\n",
      "/Users/caiuspupus/Projects/Ynov/ml-elective3/venv/lib/python3.8/site-packages/sklearn/utils/validation.py:63: DataConversionWarning: A column-vector y was passed when a 1d array was expected. Please change the shape of y to (n_samples, ), for example using ravel().\n",
      "  return f(*args, **kwargs)\n",
      "/Users/caiuspupus/Projects/Ynov/ml-elective3/venv/lib/python3.8/site-packages/sklearn/utils/validation.py:63: DataConversionWarning: A column-vector y was passed when a 1d array was expected. Please change the shape of y to (n_samples, ), for example using ravel().\n",
      "  return f(*args, **kwargs)\n",
      "/Users/caiuspupus/Projects/Ynov/ml-elective3/venv/lib/python3.8/site-packages/sklearn/utils/validation.py:63: DataConversionWarning: A column-vector y was passed when a 1d array was expected. Please change the shape of y to (n_samples, ), for example using ravel().\n",
      "  return f(*args, **kwargs)\n",
      "/Users/caiuspupus/Projects/Ynov/ml-elective3/venv/lib/python3.8/site-packages/sklearn/utils/validation.py:63: DataConversionWarning: A column-vector y was passed when a 1d array was expected. Please change the shape of y to (n_samples, ), for example using ravel().\n",
      "  return f(*args, **kwargs)\n",
      "/Users/caiuspupus/Projects/Ynov/ml-elective3/venv/lib/python3.8/site-packages/sklearn/utils/validation.py:63: DataConversionWarning: A column-vector y was passed when a 1d array was expected. Please change the shape of y to (n_samples, ), for example using ravel().\n",
      "  return f(*args, **kwargs)\n",
      "/Users/caiuspupus/Projects/Ynov/ml-elective3/venv/lib/python3.8/site-packages/sklearn/utils/validation.py:63: DataConversionWarning: A column-vector y was passed when a 1d array was expected. Please change the shape of y to (n_samples, ), for example using ravel().\n",
      "  return f(*args, **kwargs)\n",
      "/Users/caiuspupus/Projects/Ynov/ml-elective3/venv/lib/python3.8/site-packages/sklearn/utils/validation.py:63: DataConversionWarning: A column-vector y was passed when a 1d array was expected. Please change the shape of y to (n_samples, ), for example using ravel().\n",
      "  return f(*args, **kwargs)\n"
     ]
    },
    {
     "name": "stderr",
     "output_type": "stream",
     "text": [
      "/Users/caiuspupus/Projects/Ynov/ml-elective3/venv/lib/python3.8/site-packages/sklearn/utils/validation.py:63: DataConversionWarning: A column-vector y was passed when a 1d array was expected. Please change the shape of y to (n_samples, ), for example using ravel().\n",
      "  return f(*args, **kwargs)\n",
      "/Users/caiuspupus/Projects/Ynov/ml-elective3/venv/lib/python3.8/site-packages/sklearn/utils/validation.py:63: DataConversionWarning: A column-vector y was passed when a 1d array was expected. Please change the shape of y to (n_samples, ), for example using ravel().\n",
      "  return f(*args, **kwargs)\n",
      "/Users/caiuspupus/Projects/Ynov/ml-elective3/venv/lib/python3.8/site-packages/sklearn/utils/validation.py:63: DataConversionWarning: A column-vector y was passed when a 1d array was expected. Please change the shape of y to (n_samples, ), for example using ravel().\n",
      "  return f(*args, **kwargs)\n",
      "/Users/caiuspupus/Projects/Ynov/ml-elective3/venv/lib/python3.8/site-packages/sklearn/utils/validation.py:63: DataConversionWarning: A column-vector y was passed when a 1d array was expected. Please change the shape of y to (n_samples, ), for example using ravel().\n",
      "  return f(*args, **kwargs)\n",
      "/Users/caiuspupus/Projects/Ynov/ml-elective3/venv/lib/python3.8/site-packages/sklearn/utils/validation.py:63: DataConversionWarning: A column-vector y was passed when a 1d array was expected. Please change the shape of y to (n_samples, ), for example using ravel().\n",
      "  return f(*args, **kwargs)\n",
      "/Users/caiuspupus/Projects/Ynov/ml-elective3/venv/lib/python3.8/site-packages/sklearn/utils/validation.py:63: DataConversionWarning: A column-vector y was passed when a 1d array was expected. Please change the shape of y to (n_samples, ), for example using ravel().\n",
      "  return f(*args, **kwargs)\n",
      "/Users/caiuspupus/Projects/Ynov/ml-elective3/venv/lib/python3.8/site-packages/sklearn/utils/validation.py:63: DataConversionWarning: A column-vector y was passed when a 1d array was expected. Please change the shape of y to (n_samples, ), for example using ravel().\n",
      "  return f(*args, **kwargs)\n",
      "/Users/caiuspupus/Projects/Ynov/ml-elective3/venv/lib/python3.8/site-packages/sklearn/utils/validation.py:63: DataConversionWarning: A column-vector y was passed when a 1d array was expected. Please change the shape of y to (n_samples, ), for example using ravel().\n",
      "  return f(*args, **kwargs)\n",
      "/Users/caiuspupus/Projects/Ynov/ml-elective3/venv/lib/python3.8/site-packages/sklearn/utils/validation.py:63: DataConversionWarning: A column-vector y was passed when a 1d array was expected. Please change the shape of y to (n_samples, ), for example using ravel().\n",
      "  return f(*args, **kwargs)\n",
      "/Users/caiuspupus/Projects/Ynov/ml-elective3/venv/lib/python3.8/site-packages/sklearn/utils/validation.py:63: DataConversionWarning: A column-vector y was passed when a 1d array was expected. Please change the shape of y to (n_samples, ), for example using ravel().\n",
      "  return f(*args, **kwargs)\n",
      "/Users/caiuspupus/Projects/Ynov/ml-elective3/venv/lib/python3.8/site-packages/sklearn/utils/validation.py:63: DataConversionWarning: A column-vector y was passed when a 1d array was expected. Please change the shape of y to (n_samples, ), for example using ravel().\n",
      "  return f(*args, **kwargs)\n"
     ]
    },
    {
     "name": "stdout",
     "output_type": "stream",
     "text": [
      "------ TRAINING ACCURACY -------\n",
      "0.9754901960784313\n",
      "------ TRAINING F-SCORE -------\n",
      "PRECISION SUR LA CATEGORIE 0 = 0.9662921348314608\n",
      "PRECISION SUR LA CATEGORIE 1 = 0.983050847457627\n",
      "PRECISION SUR LA CATEGORIE 2 = 0.9836065573770492\n",
      "PRECISION SUR LA CATEGORIE 3 = 0.9620253164556962\n",
      "------ VALIDATION ACCURACY -------\n",
      "0.8269230769230769\n",
      "------ VALIDATION F-SCORE -------\n",
      "PRECISION SUR LA CATEGORIE 0 = 0.9032258064516129\n",
      "PRECISION SUR LA CATEGORIE 1 = 0.7777777777777778\n",
      "PRECISION SUR LA CATEGORIE 2 = 0.7857142857142857\n",
      "PRECISION SUR LA CATEGORIE 3 = 0.8148148148148148\n",
      "{'C': 0.1, 'decision_function_shape': 'ovo', 'gamma': 'scale', 'kernel': 'linear'}\n"
     ]
    },
    {
     "data": {
      "image/png": "[encoded data removed]",
      "text/plain": [
       "<Figure size 432x288 with 2 Axes>"
      ]
     },
     "metadata": {
      "needs_background": "light"
     },
     "output_type": "display_data"
    }
   ],
   "source": [
    "from sklearn.model_selection import GridSearchCV\n",
    "\n",
    "parameters = {\n",
    "    'C': [0.1, 1, 10, 100, 1000],\n",
    "    'kernel': ['linear', 'poly', 'rbf', 'sigmoid'],\n",
    "    'decision_function_shape': ['ovo', 'ovr'],\n",
    "    'gamma': ['scale', 'auto']\n",
    "\n",
    "}\n",
    "\n",
    "#parameters = {'kernel':['rbf'], 'C': [1]}\n",
    "svc = SVC()\n",
    "model = GridSearchCV(svc, parameters)\n",
    "model.fit(X_train, y_train)\n",
    "\n",
    "\n",
    "y_train_predict = model.predict(X_train)\n",
    "y_test_predict = model.predict(X_test)\n",
    "\n",
    "\n",
    "\n",
    "print('------ TRAINING ACCURACY -------')\n",
    "print(accuracy_score(y_train, y_train_predict))\n",
    "\n",
    "\n",
    "print('------ TRAINING F-SCORE -------')\n",
    "classes = f1_score(y_train, y_train_predict, average=None)\n",
    "\n",
    "for (cat, score) in enumerate(classes):\n",
    "    print('PRECISION SUR LA CATEGORIE ' + str(cat) + ' = ' + str(score))\n",
    "\n",
    "\n",
    "print('------ VALIDATION ACCURACY -------')\n",
    "print(accuracy_score(y_test, y_test_predict))\n",
    "\n",
    "print('------ VALIDATION F-SCORE -------')\n",
    "classes = f1_score(y_test, y_test_predict, average=None)\n",
    "\n",
    "for (cat, score) in enumerate(classes):\n",
    "    print('PRECISION SUR LA CATEGORIE ' + str(cat) + ' = ' + str(score))\n",
    "\n",
    "cm_val = confusion_matrix(y_test, y_test_predict)\n",
    "heatmap_val = sns.heatmap(cm_val, annot=True)\n",
    "\n",
    "heatmap_val.set_xlabel('Predit')\n",
    "heatmap_val.set_ylabel('Réel')\n",
    "\n",
    "print(model.best_params_)\n",
    "\n",
    "\n"
   ]
  },
  {
   "cell_type": "markdown",
   "metadata": {},
   "source": [
    "## Prédire des valeurs pour le jeu de test\n",
    "Créer un fichier au format .csv contenant  vos prédictions.\n",
    "En header le nom des colonnes (music_id et prediction) et pour chacun des morceaux la catégorie prédite.\n",
    "\n",
    "Vérifier que votre notebook fonctionne avant de le rendre\n",
    "\n",
    "### Boite à outils\n",
    "exporter un dataFrame pandas au format csv :\n",
    "`df_test.to_csv('data/test.csv' , sep=',', decimal='.')`"
   ]
  },
  {
   "cell_type": "code",
   "execution_count": null,
   "metadata": {},
   "outputs": [],
   "source": []
  }
 ],
 "metadata": {
  "kernelspec": {
   "display_name": "Python 3",
   "language": "python",
   "name": "python3"
  },
  "language_info": {
   "codemirror_mode": {
    "name": "ipython",
    "version": 3
   },
   "file_extension": ".py",
   "mimetype": "text/x-python",
   "name": "python",
   "nbconvert_exporter": "python",
   "pygments_lexer": "ipython3",
   "version": "3.8.8"
  }
 },
 "nbformat": 4,
 "nbformat_minor": 2
}